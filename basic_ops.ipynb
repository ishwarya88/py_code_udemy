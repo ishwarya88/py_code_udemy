{
 "cells": [
  {
   "cell_type": "markdown",
   "id": "6b9d5abf-9747-4f0d-a4c6-144409a5c7fe",
   "metadata": {},
   "source": [
    "Basic number ops"
   ]
  },
  {
   "cell_type": "code",
   "execution_count": null,
   "id": "abdf3eb0",
   "metadata": {},
   "outputs": [],
   "source": []
  },
  {
   "cell_type": "code",
   "execution_count": 1,
   "id": "7a225fae-a9ce-4135-82d5-385f5578830c",
   "metadata": {},
   "outputs": [
    {
     "data": {
      "text/plain": [
       "3"
      ]
     },
     "execution_count": 1,
     "metadata": {},
     "output_type": "execute_result"
    }
   ],
   "source": [
    "2+1"
   ]
  },
  {
   "cell_type": "code",
   "execution_count": 3,
   "id": "fbd7138f-8761-4c81-8b98-d7d6d9f1b14d",
   "metadata": {},
   "outputs": [
    {
     "data": {
      "text/plain": [
       "3"
      ]
     },
     "execution_count": 3,
     "metadata": {},
     "output_type": "execute_result"
    }
   ],
   "source": [
    "6-3"
   ]
  },
  {
   "cell_type": "code",
   "execution_count": 4,
   "id": "b96ae0b5-669e-4518-aad8-dc8bb2c8efc6",
   "metadata": {},
   "outputs": [
    {
     "data": {
      "text/plain": [
       "10"
      ]
     },
     "execution_count": 4,
     "metadata": {},
     "output_type": "execute_result"
    }
   ],
   "source": [
    "2*5"
   ]
  },
  {
   "cell_type": "markdown",
   "id": "2de478ae-2ffc-4175-9666-3bbf27f36e03",
   "metadata": {
    "tags": []
   },
   "source": [
    "Divison opr "
   ]
  },
  {
   "cell_type": "code",
   "execution_count": 7,
   "id": "49d54ffe-adc3-441c-965b-48b7f2b0a66d",
   "metadata": {},
   "outputs": [
    {
     "data": {
      "text/plain": [
       "2.5"
      ]
     },
     "execution_count": 7,
     "metadata": {},
     "output_type": "execute_result"
    }
   ],
   "source": [
    "5/2"
   ]
  },
  {
   "cell_type": "code",
   "execution_count": null,
   "id": "12be847c-00ad-4969-86f4-eb491bde6790",
   "metadata": {},
   "outputs": [],
   "source": [
    "Modulus opr"
   ]
  },
  {
   "cell_type": "code",
   "execution_count": 6,
   "id": "e059fd99-a3b1-47a2-87c8-48653649a8ce",
   "metadata": {},
   "outputs": [
    {
     "data": {
      "text/plain": [
       "2"
      ]
     },
     "execution_count": 6,
     "metadata": {},
     "output_type": "execute_result"
    }
   ],
   "source": [
    "5//2"
   ]
  },
  {
   "cell_type": "markdown",
   "id": "91c1b979-a99c-484c-a629-e72052d316c0",
   "metadata": {},
   "source": [
    "percentage"
   ]
  },
  {
   "cell_type": "code",
   "execution_count": 8,
   "id": "906c768a-b17a-43e1-b72e-498642f4cd33",
   "metadata": {},
   "outputs": [
    {
     "data": {
      "text/plain": [
       "0"
      ]
     },
     "execution_count": 8,
     "metadata": {},
     "output_type": "execute_result"
    }
   ],
   "source": [
    "100%5"
   ]
  },
  {
   "cell_type": "code",
   "execution_count": 9,
   "id": "9134c78e-2338-4158-8ce9-8eab924cd030",
   "metadata": {},
   "outputs": [
    {
     "data": {
      "text/plain": [
       "4"
      ]
     },
     "execution_count": 9,
     "metadata": {},
     "output_type": "execute_result"
    }
   ],
   "source": [
    "100%6"
   ]
  },
  {
   "cell_type": "markdown",
   "id": "4c5d033e-4e43-42a8-8baf-de32c3c848de",
   "metadata": {},
   "source": [
    "power opr"
   ]
  },
  {
   "cell_type": "code",
   "execution_count": 10,
   "id": "afdde0ef-9b48-4054-b147-9fe89cf956ae",
   "metadata": {},
   "outputs": [
    {
     "data": {
      "text/plain": [
       "64"
      ]
     },
     "execution_count": 10,
     "metadata": {},
     "output_type": "execute_result"
    }
   ],
   "source": [
    "4**3"
   ]
  },
  {
   "cell_type": "markdown",
   "id": "efea321d-5e13-4631-856a-bfcf493f46e1",
   "metadata": {},
   "source": [
    "Bodmos"
   ]
  },
  {
   "cell_type": "code",
   "execution_count": 11,
   "id": "70519de5-c5a4-4e74-b71d-38f780f0e790",
   "metadata": {},
   "outputs": [
    {
     "data": {
      "text/plain": [
       "19.0"
      ]
     },
     "execution_count": 11,
     "metadata": {},
     "output_type": "execute_result"
    }
   ],
   "source": [
    "4  + 5 * 6 / 2"
   ]
  },
  {
   "cell_type": "code",
   "execution_count": 12,
   "id": "e77328dd-c819-4119-9c7c-fa19f4a896b6",
   "metadata": {},
   "outputs": [
    {
     "data": {
      "text/plain": [
       "27.0"
      ]
     },
     "execution_count": 12,
     "metadata": {},
     "output_type": "execute_result"
    }
   ],
   "source": [
    "(4  + 5) * 6 / 2"
   ]
  },
  {
   "cell_type": "markdown",
   "id": "53e9e136-70fb-425a-8a64-479770106e21",
   "metadata": {},
   "source": [
    "Variables allocation"
   ]
  },
  {
   "cell_type": "code",
   "execution_count": 13,
   "id": "b99b1eed-ab7e-487b-a4dc-fd4be706aaf1",
   "metadata": {},
   "outputs": [],
   "source": [
    "x = 5"
   ]
  },
  {
   "cell_type": "code",
   "execution_count": 14,
   "id": "d76c93cf-c0ec-4df5-a54a-7ee6755ba5f5",
   "metadata": {},
   "outputs": [
    {
     "data": {
      "text/plain": [
       "5"
      ]
     },
     "execution_count": 14,
     "metadata": {},
     "output_type": "execute_result"
    }
   ],
   "source": [
    "x"
   ]
  },
  {
   "cell_type": "code",
   "execution_count": 15,
   "id": "ec10d70b-b5e0-49b9-b2e8-c4c8cf0cd7c4",
   "metadata": {},
   "outputs": [],
   "source": [
    "x = 10"
   ]
  },
  {
   "cell_type": "code",
   "execution_count": 16,
   "id": "728f9931-f14b-413a-9e41-5570c67011b1",
   "metadata": {},
   "outputs": [
    {
     "data": {
      "text/plain": [
       "10"
      ]
     },
     "execution_count": 16,
     "metadata": {},
     "output_type": "execute_result"
    }
   ],
   "source": [
    "x"
   ]
  },
  {
   "cell_type": "code",
   "execution_count": 18,
   "id": "d6f93c38-978f-4516-8c82-af751bf654f0",
   "metadata": {},
   "outputs": [],
   "source": [
    "income = 100\n",
    "tax_rate = 0.40\n",
    "tax = income * tax_rate"
   ]
  },
  {
   "cell_type": "code",
   "execution_count": 19,
   "id": "67b5fea1-16e1-439e-b0d3-c0825fab6538",
   "metadata": {},
   "outputs": [
    {
     "data": {
      "text/plain": [
       "40.0"
      ]
     },
     "execution_count": 19,
     "metadata": {},
     "output_type": "execute_result"
    }
   ],
   "source": [
    "tax"
   ]
  },
  {
   "cell_type": "markdown",
   "id": "c3e08f32-ef70-4a3c-a167-d60e730f3aab",
   "metadata": {},
   "source": [
    "String Ops"
   ]
  },
  {
   "cell_type": "code",
   "execution_count": 20,
   "id": "9c552742-bd74-4b9e-90f6-70d099393c8a",
   "metadata": {},
   "outputs": [
    {
     "data": {
      "text/plain": [
       "'single quote string'"
      ]
     },
     "execution_count": 20,
     "metadata": {},
     "output_type": "execute_result"
    }
   ],
   "source": [
    "'single quote string'"
   ]
  },
  {
   "cell_type": "code",
   "execution_count": 21,
   "id": "62848739-da91-4e78-9ed8-46f018c7c462",
   "metadata": {},
   "outputs": [
    {
     "data": {
      "text/plain": [
       "'double quote str'"
      ]
     },
     "execution_count": 21,
     "metadata": {},
     "output_type": "execute_result"
    }
   ],
   "source": [
    "\"double quote str\""
   ]
  },
  {
   "cell_type": "code",
   "execution_count": 22,
   "id": "58741cfa-136f-4326-bd61-e0ab8403a4ff",
   "metadata": {},
   "outputs": [
    {
     "data": {
      "text/plain": [
       "\"Let's go\""
      ]
     },
     "execution_count": 22,
     "metadata": {},
     "output_type": "execute_result"
    }
   ],
   "source": [
    "\"Let's go\""
   ]
  },
  {
   "cell_type": "code",
   "execution_count": 23,
   "id": "d1884d21-d652-4aa4-81b7-8740f1eeb7d1",
   "metadata": {},
   "outputs": [
    {
     "name": "stdout",
     "output_type": "stream",
     "text": [
      "hello \n",
      " let's go\n"
     ]
    }
   ],
   "source": [
    "print(\"hello \\n let's go\")"
   ]
  },
  {
   "cell_type": "code",
   "execution_count": 24,
   "id": "5ce13664-7a1a-4d3a-badf-469b2d7e0c4d",
   "metadata": {},
   "outputs": [
    {
     "name": "stdout",
     "output_type": "stream",
     "text": [
      "hello \t let's go\n"
     ]
    }
   ],
   "source": [
    "print(\"hello \\t let's go\")"
   ]
  },
  {
   "cell_type": "code",
   "execution_count": 25,
   "id": "c9032a33-4e32-40c4-960c-d094acf96bcd",
   "metadata": {},
   "outputs": [
    {
     "data": {
      "text/plain": [
       "6"
      ]
     },
     "execution_count": 25,
     "metadata": {},
     "output_type": "execute_result"
    }
   ],
   "source": [
    "len('Python')"
   ]
  },
  {
   "cell_type": "code",
   "execution_count": 26,
   "id": "0755774c-5210-417e-ab74-0a061387ad6a",
   "metadata": {},
   "outputs": [
    {
     "data": {
      "text/plain": [
       "8"
      ]
     },
     "execution_count": 26,
     "metadata": {},
     "output_type": "execute_result"
    }
   ],
   "source": [
    "len(' python ')"
   ]
  },
  {
   "cell_type": "markdown",
   "id": "2d35e10e-c222-4465-97d1-d2cb0a1e001b",
   "metadata": {},
   "source": [
    "String indexing"
   ]
  },
  {
   "cell_type": "code",
   "execution_count": 28,
   "id": "ea622364-0504-492f-a9bb-41ea10c2938e",
   "metadata": {},
   "outputs": [],
   "source": [
    "st = 'Python'"
   ]
  },
  {
   "cell_type": "code",
   "execution_count": 29,
   "id": "c5d39635-849e-4e56-89a0-50d7f789693e",
   "metadata": {},
   "outputs": [
    {
     "data": {
      "text/plain": [
       "'Python'"
      ]
     },
     "execution_count": 29,
     "metadata": {},
     "output_type": "execute_result"
    }
   ],
   "source": [
    "st"
   ]
  },
  {
   "cell_type": "code",
   "execution_count": 30,
   "id": "2875be76-d0a8-49cc-aa50-2fb99cd24b26",
   "metadata": {},
   "outputs": [
    {
     "data": {
      "text/plain": [
       "'t'"
      ]
     },
     "execution_count": 30,
     "metadata": {},
     "output_type": "execute_result"
    }
   ],
   "source": [
    "st[2]"
   ]
  },
  {
   "cell_type": "code",
   "execution_count": 31,
   "id": "1143040d-022a-4544-a514-d04546f5e701",
   "metadata": {},
   "outputs": [
    {
     "data": {
      "text/plain": [
       "'Pyt'"
      ]
     },
     "execution_count": 31,
     "metadata": {},
     "output_type": "execute_result"
    }
   ],
   "source": [
    "st[0:3]"
   ]
  },
  {
   "cell_type": "code",
   "execution_count": 36,
   "id": "5f1deba9-7331-47ba-8c29-63421e5c78c4",
   "metadata": {},
   "outputs": [
    {
     "data": {
      "text/plain": [
       "'Pytho'"
      ]
     },
     "execution_count": 36,
     "metadata": {},
     "output_type": "execute_result"
    }
   ],
   "source": [
    "st[:-1]"
   ]
  },
  {
   "cell_type": "code",
   "execution_count": 37,
   "id": "306b5498-f0ff-4792-837a-c4b41db371e4",
   "metadata": {},
   "outputs": [
    {
     "data": {
      "text/plain": [
       "'hon'"
      ]
     },
     "execution_count": 37,
     "metadata": {},
     "output_type": "execute_result"
    }
   ],
   "source": [
    "st[3:]"
   ]
  },
  {
   "cell_type": "code",
   "execution_count": 38,
   "id": "f5d99643-66b4-4d50-9c2c-1a05f4b51934",
   "metadata": {},
   "outputs": [
    {
     "data": {
      "text/plain": [
       "'yth'"
      ]
     },
     "execution_count": 38,
     "metadata": {},
     "output_type": "execute_result"
    }
   ],
   "source": [
    "st[1:4]"
   ]
  },
  {
   "cell_type": "code",
   "execution_count": 39,
   "id": "c2b02439-5a6e-492e-ac20-70ddfdbed26a",
   "metadata": {},
   "outputs": [],
   "source": [
    "st_1 = 'abcedefghi'"
   ]
  },
  {
   "cell_type": "code",
   "execution_count": 40,
   "id": "86365a44-f44f-48fc-a88d-ad274769c908",
   "metadata": {},
   "outputs": [
    {
     "data": {
      "text/plain": [
       "'aefi'"
      ]
     },
     "execution_count": 40,
     "metadata": {},
     "output_type": "execute_result"
    }
   ],
   "source": [
    "st_1[::3]"
   ]
  },
  {
   "cell_type": "code",
   "execution_count": 41,
   "id": "eeb4c29e-550e-43eb-a216-2b78916242f4",
   "metadata": {},
   "outputs": [
    {
     "data": {
      "text/plain": [
       "'ae'"
      ]
     },
     "execution_count": 41,
     "metadata": {},
     "output_type": "execute_result"
    }
   ],
   "source": [
    "st_1[::5]"
   ]
  },
  {
   "cell_type": "code",
   "execution_count": 42,
   "id": "624806b5-2ce8-436f-94ca-01dc3ec3ba3d",
   "metadata": {},
   "outputs": [
    {
     "data": {
      "text/plain": [
       "'cdfh'"
      ]
     },
     "execution_count": 42,
     "metadata": {},
     "output_type": "execute_result"
    }
   ],
   "source": [
    "st_1[2::2]"
   ]
  },
  {
   "cell_type": "code",
   "execution_count": 43,
   "id": "d974c658-e9ee-45a2-83e4-d18296c02407",
   "metadata": {},
   "outputs": [
    {
     "data": {
      "text/plain": [
       "'cdf'"
      ]
     },
     "execution_count": 43,
     "metadata": {},
     "output_type": "execute_result"
    }
   ],
   "source": [
    "st_1[2:7:2]"
   ]
  },
  {
   "cell_type": "markdown",
   "id": "18be3f37",
   "metadata": {},
   "source": [
    "String Concatenation // strings are immutable"
   ]
  },
  {
   "cell_type": "code",
   "execution_count": 2,
   "id": "487b8fa3",
   "metadata": {},
   "outputs": [],
   "source": [
    "a = 'hai'"
   ]
  },
  {
   "cell_type": "code",
   "execution_count": 3,
   "id": "fe70892a",
   "metadata": {},
   "outputs": [
    {
     "data": {
      "text/plain": [
       "'hai'"
      ]
     },
     "execution_count": 3,
     "metadata": {},
     "output_type": "execute_result"
    }
   ],
   "source": [
    "a"
   ]
  },
  {
   "cell_type": "code",
   "execution_count": 4,
   "id": "9ae3715b",
   "metadata": {},
   "outputs": [],
   "source": [
    "last_letters = a[1:]"
   ]
  },
  {
   "cell_type": "code",
   "execution_count": 5,
   "id": "1b94b773",
   "metadata": {},
   "outputs": [
    {
     "data": {
      "text/plain": [
       "'ai'"
      ]
     },
     "execution_count": 5,
     "metadata": {},
     "output_type": "execute_result"
    }
   ],
   "source": [
    "last_letters"
   ]
  },
  {
   "cell_type": "code",
   "execution_count": 6,
   "id": "eba3a3fd",
   "metadata": {},
   "outputs": [
    {
     "data": {
      "text/plain": [
       "'jai'"
      ]
     },
     "execution_count": 6,
     "metadata": {},
     "output_type": "execute_result"
    }
   ],
   "source": [
    "'j' + last_letters"
   ]
  },
  {
   "cell_type": "markdown",
   "id": "a7a2bffd",
   "metadata": {},
   "source": [
    "Letters multiplication"
   ]
  },
  {
   "cell_type": "code",
   "execution_count": 7,
   "id": "a87e0d6e",
   "metadata": {},
   "outputs": [],
   "source": [
    "letter = 'i'"
   ]
  },
  {
   "cell_type": "code",
   "execution_count": 8,
   "id": "5f3848de",
   "metadata": {},
   "outputs": [
    {
     "data": {
      "text/plain": [
       "'iiiiiiii'"
      ]
     },
     "execution_count": 8,
     "metadata": {},
     "output_type": "execute_result"
    }
   ],
   "source": [
    "letter * 8"
   ]
  },
  {
   "cell_type": "markdown",
   "id": "2ea798a9",
   "metadata": {},
   "source": [
    "methods "
   ]
  },
  {
   "cell_type": "code",
   "execution_count": 9,
   "id": "e893827a",
   "metadata": {},
   "outputs": [],
   "source": [
    "x = 'Python'"
   ]
  },
  {
   "cell_type": "code",
   "execution_count": 10,
   "id": "e4c09e5c",
   "metadata": {},
   "outputs": [
    {
     "data": {
      "text/plain": [
       "'PYTHON'"
      ]
     },
     "execution_count": 10,
     "metadata": {},
     "output_type": "execute_result"
    }
   ],
   "source": [
    "x.upper()"
   ]
  },
  {
   "cell_type": "code",
   "execution_count": 11,
   "id": "74536821",
   "metadata": {},
   "outputs": [],
   "source": [
    "y = 'arsenal'"
   ]
  },
  {
   "cell_type": "code",
   "execution_count": 12,
   "id": "22d4f9a7",
   "metadata": {},
   "outputs": [
    {
     "data": {
      "text/plain": [
       "'Arsenal'"
      ]
     },
     "execution_count": 12,
     "metadata": {},
     "output_type": "execute_result"
    }
   ],
   "source": [
    "y.title()"
   ]
  },
  {
   "cell_type": "code",
   "execution_count": 13,
   "id": "3a8fb428",
   "metadata": {},
   "outputs": [
    {
     "data": {
      "text/plain": [
       "'arsenal'"
      ]
     },
     "execution_count": 13,
     "metadata": {},
     "output_type": "execute_result"
    }
   ],
   "source": [
    "y.lower()"
   ]
  },
  {
   "cell_type": "code",
   "execution_count": 14,
   "id": "62720070",
   "metadata": {},
   "outputs": [],
   "source": [
    "z = 'This is a sample code'"
   ]
  },
  {
   "cell_type": "code",
   "execution_count": 15,
   "id": "0a5110fe",
   "metadata": {},
   "outputs": [
    {
     "data": {
      "text/plain": [
       "['This', 'is', 'a', 'sample', 'code']"
      ]
     },
     "execution_count": 15,
     "metadata": {},
     "output_type": "execute_result"
    }
   ],
   "source": [
    "z.split()"
   ]
  },
  {
   "cell_type": "markdown",
   "id": "a089f205",
   "metadata": {},
   "source": [
    "Print formatting"
   ]
  },
  {
   "cell_type": "markdown",
   "id": "92130e60",
   "metadata": {},
   "source": [
    "Method 1 // .format"
   ]
  },
  {
   "cell_type": "code",
   "execution_count": 16,
   "id": "4b28fab9",
   "metadata": {},
   "outputs": [
    {
     "name": "stdout",
     "output_type": "stream",
     "text": [
      "Hello This is python\n"
     ]
    }
   ],
   "source": [
    "print('Hello {} {} {}'.format('This','is','python'))"
   ]
  },
  {
   "cell_type": "code",
   "execution_count": 17,
   "id": "b0b44862",
   "metadata": {},
   "outputs": [
    {
     "name": "stdout",
     "output_type": "stream",
     "text": [
      "Hello this is python\n"
     ]
    }
   ],
   "source": [
    "print('Hello {2} {0} {1}'.format('is','python','this'))"
   ]
  },
  {
   "cell_type": "code",
   "execution_count": 18,
   "id": "b35a4062",
   "metadata": {
    "scrolled": true
   },
   "outputs": [
    {
     "name": "stdout",
     "output_type": "stream",
     "text": [
      "Hello is python this\n"
     ]
    }
   ],
   "source": [
    "print('Hello {} {} {}'.format('is','python','this'))"
   ]
  },
  {
   "cell_type": "code",
   "execution_count": 19,
   "id": "16304d2f",
   "metadata": {},
   "outputs": [
    {
     "name": "stdout",
     "output_type": "stream",
     "text": [
      "Hello python python python\n"
     ]
    }
   ],
   "source": [
    "print('Hello {1} {1} {1}'.format('is','python','this'))"
   ]
  },
  {
   "cell_type": "markdown",
   "id": "d3a88710",
   "metadata": {},
   "source": [
    "assigning keys "
   ]
  },
  {
   "cell_type": "code",
   "execution_count": 20,
   "id": "cb55a3b8",
   "metadata": {},
   "outputs": [
    {
     "name": "stdout",
     "output_type": "stream",
     "text": [
      "Hello This is python\n"
     ]
    }
   ],
   "source": [
    "print('Hello {t} {i} {p}'.format(t='This',i='is',p='python'))"
   ]
  },
  {
   "cell_type": "markdown",
   "id": "31c1739d",
   "metadata": {},
   "source": [
    "// float format - {value:width.precision f}"
   ]
  },
  {
   "cell_type": "code",
   "execution_count": 21,
   "id": "8d739e33",
   "metadata": {},
   "outputs": [],
   "source": [
    "res = 100/666"
   ]
  },
  {
   "cell_type": "code",
   "execution_count": 22,
   "id": "23add1e3",
   "metadata": {},
   "outputs": [
    {
     "data": {
      "text/plain": [
       "0.15015015015015015"
      ]
     },
     "execution_count": 22,
     "metadata": {},
     "output_type": "execute_result"
    }
   ],
   "source": [
    "res"
   ]
  },
  {
   "cell_type": "code",
   "execution_count": 23,
   "id": "0f0b677e",
   "metadata": {},
   "outputs": [
    {
     "name": "stdout",
     "output_type": "stream",
     "text": [
      "the result is 0.15015015015015015\n"
     ]
    }
   ],
   "source": [
    "print('the result is {r}'.format(r=res))"
   ]
  },
  {
   "cell_type": "code",
   "execution_count": 24,
   "id": "63749bb5",
   "metadata": {},
   "outputs": [
    {
     "name": "stdout",
     "output_type": "stream",
     "text": [
      "the result is 0.15015\n"
     ]
    }
   ],
   "source": [
    "print('the result is {r:1.5}'.format(r=res))"
   ]
  },
  {
   "cell_type": "code",
   "execution_count": 25,
   "id": "8fe15ee0",
   "metadata": {},
   "outputs": [],
   "source": [
    "val = 123.45678"
   ]
  },
  {
   "cell_type": "code",
   "execution_count": 27,
   "id": "13a7ac9f",
   "metadata": {},
   "outputs": [
    {
     "name": "stdout",
     "output_type": "stream",
     "text": [
      "the value is 123.46\n"
     ]
    }
   ],
   "source": [
    "print('the value is {v:1.2f}'.format(v=val))"
   ]
  },
  {
   "cell_type": "code",
   "execution_count": 29,
   "id": "00aade5f",
   "metadata": {},
   "outputs": [
    {
     "name": "stdout",
     "output_type": "stream",
     "text": [
      "the value is     123.46\n"
     ]
    }
   ],
   "source": [
    "print('the value is {v:10.2f}'.format(v=val))"
   ]
  },
  {
   "cell_type": "markdown",
   "id": "b02285bd",
   "metadata": {},
   "source": [
    "f string method"
   ]
  },
  {
   "cell_type": "code",
   "execution_count": 30,
   "id": "903fc004",
   "metadata": {},
   "outputs": [],
   "source": [
    "name = 'Tom'\n",
    "age = 6"
   ]
  },
  {
   "cell_type": "code",
   "execution_count": 31,
   "id": "c47742bd",
   "metadata": {},
   "outputs": [
    {
     "name": "stdout",
     "output_type": "stream",
     "text": [
      "Tom is 6 years old!\n"
     ]
    }
   ],
   "source": [
    "print(f'{name} is {age} years old!')"
   ]
  },
  {
   "cell_type": "markdown",
   "id": "878b2721",
   "metadata": {},
   "source": [
    "Lists"
   ]
  },
  {
   "cell_type": "code",
   "execution_count": 32,
   "id": "562e68fe",
   "metadata": {},
   "outputs": [],
   "source": [
    "list_1 = [1,2,3]"
   ]
  },
  {
   "cell_type": "code",
   "execution_count": 33,
   "id": "ece32d9e",
   "metadata": {},
   "outputs": [],
   "source": [
    "list_2 = ['Dog','8','3.14']"
   ]
  },
  {
   "cell_type": "code",
   "execution_count": 34,
   "id": "7925160f",
   "metadata": {},
   "outputs": [
    {
     "data": {
      "text/plain": [
       "3"
      ]
     },
     "execution_count": 34,
     "metadata": {},
     "output_type": "execute_result"
    }
   ],
   "source": [
    "len(list_2)"
   ]
  },
  {
   "cell_type": "code",
   "execution_count": 35,
   "id": "3018b4c9",
   "metadata": {},
   "outputs": [
    {
     "data": {
      "text/plain": [
       "'8'"
      ]
     },
     "execution_count": 35,
     "metadata": {},
     "output_type": "execute_result"
    }
   ],
   "source": [
    "list_2[1]"
   ]
  },
  {
   "cell_type": "code",
   "execution_count": 36,
   "id": "e8a1db86",
   "metadata": {},
   "outputs": [
    {
     "data": {
      "text/plain": [
       "['8', '3.14']"
      ]
     },
     "execution_count": 36,
     "metadata": {},
     "output_type": "execute_result"
    }
   ],
   "source": [
    "list_2[1:]"
   ]
  },
  {
   "cell_type": "code",
   "execution_count": 37,
   "id": "e5f59c89",
   "metadata": {},
   "outputs": [],
   "source": [
    "list_3 = ['cat','rat']"
   ]
  },
  {
   "cell_type": "code",
   "execution_count": 41,
   "id": "4b097b66",
   "metadata": {},
   "outputs": [],
   "source": [
    "new_list = list_2 + list_3"
   ]
  },
  {
   "cell_type": "code",
   "execution_count": 42,
   "id": "c14bbaa0",
   "metadata": {},
   "outputs": [
    {
     "data": {
      "text/plain": [
       "['Dog', '8', '3.14', 'cat', 'rat']"
      ]
     },
     "execution_count": 42,
     "metadata": {},
     "output_type": "execute_result"
    }
   ],
   "source": [
    "new_list"
   ]
  },
  {
   "cell_type": "code",
   "execution_count": 43,
   "id": "37e3e239",
   "metadata": {},
   "outputs": [],
   "source": [
    "new_list[3] = 'CAT'"
   ]
  },
  {
   "cell_type": "code",
   "execution_count": 44,
   "id": "5a2a771d",
   "metadata": {},
   "outputs": [
    {
     "data": {
      "text/plain": [
       "['Dog', '8', '3.14', 'CAT', 'rat']"
      ]
     },
     "execution_count": 44,
     "metadata": {},
     "output_type": "execute_result"
    }
   ],
   "source": [
    "new_list"
   ]
  },
  {
   "cell_type": "code",
   "execution_count": 45,
   "id": "bfa1642f",
   "metadata": {},
   "outputs": [],
   "source": [
    "new_list.append('dragon')"
   ]
  },
  {
   "cell_type": "code",
   "execution_count": 46,
   "id": "32dab14e",
   "metadata": {},
   "outputs": [
    {
     "data": {
      "text/plain": [
       "['Dog', '8', '3.14', 'CAT', 'rat', 'dragon']"
      ]
     },
     "execution_count": 46,
     "metadata": {},
     "output_type": "execute_result"
    }
   ],
   "source": [
    "new_list"
   ]
  },
  {
   "cell_type": "code",
   "execution_count": 48,
   "id": "a63dc44e",
   "metadata": {},
   "outputs": [
    {
     "data": {
      "text/plain": [
       "'dragon'"
      ]
     },
     "execution_count": 48,
     "metadata": {},
     "output_type": "execute_result"
    }
   ],
   "source": [
    "new_list.pop()"
   ]
  },
  {
   "cell_type": "code",
   "execution_count": 53,
   "id": "35a8e9a9",
   "metadata": {},
   "outputs": [
    {
     "data": {
      "text/plain": [
       "['Dog', '3.14', 'CAT', 'rat']"
      ]
     },
     "execution_count": 53,
     "metadata": {},
     "output_type": "execute_result"
    }
   ],
   "source": [
    "new_list"
   ]
  },
  {
   "cell_type": "markdown",
   "id": "a60a7ec0",
   "metadata": {},
   "source": [
    "sorting"
   ]
  },
  {
   "cell_type": "code",
   "execution_count": 54,
   "id": "83fc58a3",
   "metadata": {},
   "outputs": [],
   "source": [
    "l1 = ['a','r','e','c','i']\n",
    "l2 = [1,4,2,7,0]"
   ]
  },
  {
   "cell_type": "code",
   "execution_count": 55,
   "id": "8b7cf5f9",
   "metadata": {},
   "outputs": [],
   "source": [
    "l1.sort()"
   ]
  },
  {
   "cell_type": "code",
   "execution_count": 56,
   "id": "155a9807",
   "metadata": {},
   "outputs": [
    {
     "data": {
      "text/plain": [
       "['a', 'c', 'e', 'i', 'r']"
      ]
     },
     "execution_count": 56,
     "metadata": {},
     "output_type": "execute_result"
    }
   ],
   "source": [
    "l1"
   ]
  },
  {
   "cell_type": "code",
   "execution_count": 57,
   "id": "9ceea997",
   "metadata": {},
   "outputs": [
    {
     "data": {
      "text/plain": [
       "[1, 4, 2, 7, 0]"
      ]
     },
     "execution_count": 57,
     "metadata": {},
     "output_type": "execute_result"
    }
   ],
   "source": [
    "l2"
   ]
  },
  {
   "cell_type": "code",
   "execution_count": 58,
   "id": "e2a92320",
   "metadata": {},
   "outputs": [],
   "source": [
    "l2.sort()"
   ]
  },
  {
   "cell_type": "code",
   "execution_count": 59,
   "id": "ca058468",
   "metadata": {},
   "outputs": [
    {
     "data": {
      "text/plain": [
       "[0, 1, 2, 4, 7]"
      ]
     },
     "execution_count": 59,
     "metadata": {},
     "output_type": "execute_result"
    }
   ],
   "source": [
    "l2"
   ]
  },
  {
   "cell_type": "code",
   "execution_count": 60,
   "id": "49375bf8",
   "metadata": {},
   "outputs": [],
   "source": [
    "l2.reverse()"
   ]
  },
  {
   "cell_type": "code",
   "execution_count": 61,
   "id": "074e8595",
   "metadata": {},
   "outputs": [
    {
     "data": {
      "text/plain": [
       "[7, 4, 2, 1, 0]"
      ]
     },
     "execution_count": 61,
     "metadata": {},
     "output_type": "execute_result"
    }
   ],
   "source": [
    "l2"
   ]
  },
  {
   "cell_type": "markdown",
   "id": "c2903343",
   "metadata": {},
   "source": [
    "Dictionaries"
   ]
  },
  {
   "cell_type": "code",
   "execution_count": 62,
   "id": "2cb6de47",
   "metadata": {},
   "outputs": [],
   "source": [
    "my_dict = {1:'apple',2:'mango',3:'guava'}"
   ]
  },
  {
   "cell_type": "code",
   "execution_count": 63,
   "id": "06094794",
   "metadata": {},
   "outputs": [
    {
     "data": {
      "text/plain": [
       "{1: 'apple', 2: 'mango', 3: 'guava'}"
      ]
     },
     "execution_count": 63,
     "metadata": {},
     "output_type": "execute_result"
    }
   ],
   "source": [
    "my_dict"
   ]
  },
  {
   "cell_type": "code",
   "execution_count": 64,
   "id": "55ae3878",
   "metadata": {},
   "outputs": [
    {
     "data": {
      "text/plain": [
       "'mango'"
      ]
     },
     "execution_count": 64,
     "metadata": {},
     "output_type": "execute_result"
    }
   ],
   "source": [
    "my_dict[2]"
   ]
  },
  {
   "cell_type": "code",
   "execution_count": 65,
   "id": "f8408c74",
   "metadata": {},
   "outputs": [],
   "source": [
    "nd = {'d1':45,'d2':[1,2,3],'d3':{'loop'}}"
   ]
  },
  {
   "cell_type": "code",
   "execution_count": 66,
   "id": "e155e408",
   "metadata": {},
   "outputs": [
    {
     "data": {
      "text/plain": [
       "{'d1': 45, 'd2': [1, 2, 3], 'd3': {'loop'}}"
      ]
     },
     "execution_count": 66,
     "metadata": {},
     "output_type": "execute_result"
    }
   ],
   "source": [
    "nd"
   ]
  },
  {
   "cell_type": "code",
   "execution_count": 67,
   "id": "236ce2c8",
   "metadata": {},
   "outputs": [
    {
     "data": {
      "text/plain": [
       "{'loop'}"
      ]
     },
     "execution_count": 67,
     "metadata": {},
     "output_type": "execute_result"
    }
   ],
   "source": [
    "nd['d3']"
   ]
  },
  {
   "cell_type": "code",
   "execution_count": 68,
   "id": "1e2593d5",
   "metadata": {},
   "outputs": [
    {
     "data": {
      "text/plain": [
       "[1, 2, 3]"
      ]
     },
     "execution_count": 68,
     "metadata": {},
     "output_type": "execute_result"
    }
   ],
   "source": [
    "nd['d2']"
   ]
  },
  {
   "cell_type": "code",
   "execution_count": 70,
   "id": "4b049d94",
   "metadata": {},
   "outputs": [
    {
     "data": {
      "text/plain": [
       "3"
      ]
     },
     "execution_count": 70,
     "metadata": {},
     "output_type": "execute_result"
    }
   ],
   "source": [
    "nd['d2'][2]"
   ]
  },
  {
   "cell_type": "code",
   "execution_count": 71,
   "id": "29951c4f",
   "metadata": {},
   "outputs": [],
   "source": [
    "nd['d4'] = 'ext'"
   ]
  },
  {
   "cell_type": "code",
   "execution_count": 72,
   "id": "1aba7c46",
   "metadata": {},
   "outputs": [
    {
     "data": {
      "text/plain": [
       "{'d1': 45, 'd2': [1, 2, 3], 'd3': {'loop'}, 'd4': 'ext'}"
      ]
     },
     "execution_count": 72,
     "metadata": {},
     "output_type": "execute_result"
    }
   ],
   "source": [
    "nd"
   ]
  },
  {
   "cell_type": "code",
   "execution_count": 73,
   "id": "4f5a199e",
   "metadata": {},
   "outputs": [
    {
     "data": {
      "text/plain": [
       "dict_keys(['d1', 'd2', 'd3', 'd4'])"
      ]
     },
     "execution_count": 73,
     "metadata": {},
     "output_type": "execute_result"
    }
   ],
   "source": [
    "nd.keys()"
   ]
  },
  {
   "cell_type": "code",
   "execution_count": 74,
   "id": "e1024b64",
   "metadata": {},
   "outputs": [
    {
     "data": {
      "text/plain": [
       "dict_values([45, [1, 2, 3], {'loop'}, 'ext'])"
      ]
     },
     "execution_count": 74,
     "metadata": {},
     "output_type": "execute_result"
    }
   ],
   "source": [
    "nd.values()"
   ]
  },
  {
   "cell_type": "code",
   "execution_count": 75,
   "id": "6b76ac9c",
   "metadata": {},
   "outputs": [
    {
     "data": {
      "text/plain": [
       "dict_items([('d1', 45), ('d2', [1, 2, 3]), ('d3', {'loop'}), ('d4', 'ext')])"
      ]
     },
     "execution_count": 75,
     "metadata": {},
     "output_type": "execute_result"
    }
   ],
   "source": [
    "nd.items()"
   ]
  },
  {
   "cell_type": "markdown",
   "id": "a511dc72",
   "metadata": {},
   "source": [
    "Booleans"
   ]
  },
  {
   "cell_type": "code",
   "execution_count": null,
   "id": "0a9e5dc7",
   "metadata": {},
   "outputs": [],
   "source": [
    "True"
   ]
  },
  {
   "cell_type": "code",
   "execution_count": 76,
   "id": "eeda1dc0",
   "metadata": {},
   "outputs": [
    {
     "data": {
      "text/plain": [
       "bool"
      ]
     },
     "execution_count": 76,
     "metadata": {},
     "output_type": "execute_result"
    }
   ],
   "source": [
    "type(True)"
   ]
  },
  {
   "cell_type": "code",
   "execution_count": null,
   "id": "4868024e",
   "metadata": {},
   "outputs": [],
   "source": [
    "False"
   ]
  },
  {
   "cell_type": "code",
   "execution_count": 77,
   "id": "57111be5",
   "metadata": {},
   "outputs": [
    {
     "data": {
      "text/plain": [
       "bool"
      ]
     },
     "execution_count": 77,
     "metadata": {},
     "output_type": "execute_result"
    }
   ],
   "source": [
    "type(False)"
   ]
  },
  {
   "cell_type": "code",
   "execution_count": 78,
   "id": "aeb5cfdf",
   "metadata": {},
   "outputs": [
    {
     "data": {
      "text/plain": [
       "'C:\\\\Users\\\\X238616'"
      ]
     },
     "execution_count": 78,
     "metadata": {},
     "output_type": "execute_result"
    }
   ],
   "source": [
    "pwd"
   ]
  },
  {
   "cell_type": "markdown",
   "id": "3034129a",
   "metadata": {},
   "source": [
    "I/O file "
   ]
  },
  {
   "cell_type": "code",
   "execution_count": 80,
   "id": "fb3355d9",
   "metadata": {},
   "outputs": [
    {
     "name": "stdout",
     "output_type": "stream",
     "text": [
      "Writing file1.txt\n"
     ]
    }
   ],
   "source": [
    "%%writefile file1.txt\n",
    "Sample file creation\n",
    "second line\n",
    "gist\n",
    "paragraph And phrases "
   ]
  },
  {
   "cell_type": "code",
   "execution_count": 83,
   "id": "87db22d1",
   "metadata": {},
   "outputs": [],
   "source": [
    "file1 = open('file1.txt')"
   ]
  },
  {
   "cell_type": "code",
   "execution_count": 84,
   "id": "987b8dfe",
   "metadata": {},
   "outputs": [
    {
     "data": {
      "text/plain": [
       "'Sample file creation\\nsecond line\\ngist\\nparagraph And phrases \\n'"
      ]
     },
     "execution_count": 84,
     "metadata": {},
     "output_type": "execute_result"
    }
   ],
   "source": [
    "file1.read()"
   ]
  },
  {
   "cell_type": "code",
   "execution_count": 85,
   "id": "687f417e",
   "metadata": {},
   "outputs": [
    {
     "data": {
      "text/plain": [
       "''"
      ]
     },
     "execution_count": 85,
     "metadata": {},
     "output_type": "execute_result"
    }
   ],
   "source": [
    "file1.read()"
   ]
  },
  {
   "cell_type": "code",
   "execution_count": 86,
   "id": "984d2487",
   "metadata": {},
   "outputs": [
    {
     "data": {
      "text/plain": [
       "0"
      ]
     },
     "execution_count": 86,
     "metadata": {},
     "output_type": "execute_result"
    }
   ],
   "source": [
    "file1.seek(0)"
   ]
  },
  {
   "cell_type": "code",
   "execution_count": 87,
   "id": "b67692a8",
   "metadata": {},
   "outputs": [
    {
     "data": {
      "text/plain": [
       "'Sample file creation\\nsecond line\\ngist\\nparagraph And phrases \\n'"
      ]
     },
     "execution_count": 87,
     "metadata": {},
     "output_type": "execute_result"
    }
   ],
   "source": [
    "file1.read()"
   ]
  },
  {
   "cell_type": "code",
   "execution_count": 89,
   "id": "2f49655b",
   "metadata": {},
   "outputs": [
    {
     "data": {
      "text/plain": [
       "0"
      ]
     },
     "execution_count": 89,
     "metadata": {},
     "output_type": "execute_result"
    }
   ],
   "source": [
    "file1.seek(0)"
   ]
  },
  {
   "cell_type": "code",
   "execution_count": 90,
   "id": "14007793",
   "metadata": {},
   "outputs": [
    {
     "data": {
      "text/plain": [
       "['Sample file creation\\n',\n",
       " 'second line\\n',\n",
       " 'gist\\n',\n",
       " 'paragraph And phrases \\n']"
      ]
     },
     "execution_count": 90,
     "metadata": {},
     "output_type": "execute_result"
    }
   ],
   "source": [
    "file1.readlines()"
   ]
  },
  {
   "cell_type": "code",
   "execution_count": 102,
   "id": "1558fa31",
   "metadata": {},
   "outputs": [
    {
     "data": {
      "text/plain": [
       "0"
      ]
     },
     "execution_count": 102,
     "metadata": {},
     "output_type": "execute_result"
    }
   ],
   "source": [
    "file1.seek(0)"
   ]
  },
  {
   "cell_type": "code",
   "execution_count": 106,
   "id": "38cd6aa6",
   "metadata": {},
   "outputs": [],
   "source": [
    "with open('file2.txt',mode = 'w') as f:\n",
    "    f.write('writing method')"
   ]
  },
  {
   "cell_type": "code",
   "execution_count": 108,
   "id": "bf1b5ef4",
   "metadata": {},
   "outputs": [
    {
     "name": "stdout",
     "output_type": "stream",
     "text": [
      "writing method\n"
     ]
    }
   ],
   "source": [
    "with open('file2.txt',mode = 'r') as f:\n",
    "    print(f.read())"
   ]
  },
  {
   "cell_type": "markdown",
   "id": "c67924cc",
   "metadata": {},
   "source": [
    "Comparison oprs"
   ]
  },
  {
   "cell_type": "code",
   "execution_count": 109,
   "id": "758faae5",
   "metadata": {},
   "outputs": [
    {
     "data": {
      "text/plain": [
       "False"
      ]
     },
     "execution_count": 109,
     "metadata": {},
     "output_type": "execute_result"
    }
   ],
   "source": [
    "1 == 2"
   ]
  },
  {
   "cell_type": "code",
   "execution_count": 110,
   "id": "043fc9e9",
   "metadata": {},
   "outputs": [
    {
     "data": {
      "text/plain": [
       "False"
      ]
     },
     "execution_count": 110,
     "metadata": {},
     "output_type": "execute_result"
    }
   ],
   "source": [
    "'one' == 'One'"
   ]
  },
  {
   "cell_type": "code",
   "execution_count": 111,
   "id": "0e4514bb",
   "metadata": {},
   "outputs": [
    {
     "data": {
      "text/plain": [
       "True"
      ]
     },
     "execution_count": 111,
     "metadata": {},
     "output_type": "execute_result"
    }
   ],
   "source": [
    "3 > 2"
   ]
  },
  {
   "cell_type": "code",
   "execution_count": 112,
   "id": "e7dd6752",
   "metadata": {},
   "outputs": [
    {
     "data": {
      "text/plain": [
       "False"
      ]
     },
     "execution_count": 112,
     "metadata": {},
     "output_type": "execute_result"
    }
   ],
   "source": [
    "'2' == 2"
   ]
  },
  {
   "cell_type": "code",
   "execution_count": 113,
   "id": "3cbf0c38",
   "metadata": {},
   "outputs": [
    {
     "data": {
      "text/plain": [
       "False"
      ]
     },
     "execution_count": 113,
     "metadata": {},
     "output_type": "execute_result"
    }
   ],
   "source": [
    "5 > 60"
   ]
  },
  {
   "cell_type": "code",
   "execution_count": 114,
   "id": "4f6d0bb8",
   "metadata": {},
   "outputs": [
    {
     "data": {
      "text/plain": [
       "True"
      ]
     },
     "execution_count": 114,
     "metadata": {},
     "output_type": "execute_result"
    }
   ],
   "source": [
    "1 != 4"
   ]
  },
  {
   "cell_type": "markdown",
   "id": "bebf33fd",
   "metadata": {},
   "source": [
    "Lofical operators"
   ]
  },
  {
   "cell_type": "code",
   "execution_count": 115,
   "id": "c1825210",
   "metadata": {},
   "outputs": [
    {
     "data": {
      "text/plain": [
       "True"
      ]
     },
     "execution_count": 115,
     "metadata": {},
     "output_type": "execute_result"
    }
   ],
   "source": [
    "1 == 1 or 2 > 7"
   ]
  },
  {
   "cell_type": "code",
   "execution_count": 116,
   "id": "c95b4c0d",
   "metadata": {},
   "outputs": [
    {
     "data": {
      "text/plain": [
       "False"
      ]
     },
     "execution_count": 116,
     "metadata": {},
     "output_type": "execute_result"
    }
   ],
   "source": [
    "1 == 1 and 2 > 7"
   ]
  },
  {
   "cell_type": "code",
   "execution_count": 117,
   "id": "45cc9b10",
   "metadata": {},
   "outputs": [
    {
     "data": {
      "text/plain": [
       "False"
      ]
     },
     "execution_count": 117,
     "metadata": {},
     "output_type": "execute_result"
    }
   ],
   "source": [
    "not 2 == 2"
   ]
  },
  {
   "cell_type": "code",
   "execution_count": 118,
   "id": "b9aca7ae",
   "metadata": {},
   "outputs": [
    {
     "data": {
      "text/plain": [
       "True"
      ]
     },
     "execution_count": 118,
     "metadata": {},
     "output_type": "execute_result"
    }
   ],
   "source": [
    "2 <= 3 >= 1"
   ]
  },
  {
   "cell_type": "markdown",
   "id": "fbdfaeb4",
   "metadata": {},
   "source": [
    "If Elif Else"
   ]
  },
  {
   "cell_type": "markdown",
   "id": "5b9a4fc3",
   "metadata": {},
   "source": [
    "thirsty = True\n",
    "if thirsty:\n",
    "    print(\"Gimme water\")\n",
    "else:\n",
    "    print(\"I'm not thirsty\")"
   ]
  },
  {
   "cell_type": "code",
   "execution_count": 2,
   "id": "090b921e",
   "metadata": {},
   "outputs": [
    {
     "name": "stdout",
     "output_type": "stream",
     "text": [
      "I'm not thirsty\n"
     ]
    }
   ],
   "source": [
    "thirsty = False\n",
    "if thirsty:\n",
    "    print(\"Gimme water\")\n",
    "else:\n",
    "    print(\"I'm not thirsty\")"
   ]
  },
  {
   "cell_type": "code",
   "execution_count": 3,
   "id": "84627d4f",
   "metadata": {},
   "outputs": [
    {
     "name": "stdout",
     "output_type": "stream",
     "text": [
      "Its sunny\n"
     ]
    }
   ],
   "source": [
    "weather = 'sunny'\n",
    "if weather == 'sunny':\n",
    "    print(\"Its sunny\")\n",
    "elif weather == 'cloudy':\n",
    "    print(\"Its cloudy\")\n",
    "elif weather == 'snowy':\n",
    "    print(\"winter is coming\")\n",
    "else:\n",
    "    print(\"Just a normal day\")\n"
   ]
  },
  {
   "cell_type": "code",
   "execution_count": 4,
   "id": "5b1780dd",
   "metadata": {},
   "outputs": [
    {
     "name": "stdout",
     "output_type": "stream",
     "text": [
      "winter is coming\n"
     ]
    }
   ],
   "source": [
    "weather = 'snowy'\n",
    "if weather == 'sunny':\n",
    "    print(\"Its sunny\")\n",
    "elif weather == 'cloudy':\n",
    "    print(\"Its cloudy\")\n",
    "elif weather == 'snowy':\n",
    "    print(\"winter is coming\")\n",
    "else:\n",
    "    print(\"Just a normal day\")\n"
   ]
  },
  {
   "cell_type": "code",
   "execution_count": 5,
   "id": "ef3ca3f8",
   "metadata": {},
   "outputs": [
    {
     "name": "stdout",
     "output_type": "stream",
     "text": [
      "Its cloudy\n"
     ]
    }
   ],
   "source": [
    "weather = 'cloudy'\n",
    "if weather == 'sunny':\n",
    "    print(\"Its sunny\")\n",
    "elif weather == 'cloudy':\n",
    "    print(\"Its cloudy\")\n",
    "elif weather == 'snowy':\n",
    "    print(\"winter is coming\")\n",
    "else:\n",
    "    print(\"Just a normal day\")\n"
   ]
  },
  {
   "cell_type": "code",
   "execution_count": 6,
   "id": "9723baae",
   "metadata": {},
   "outputs": [
    {
     "name": "stdout",
     "output_type": "stream",
     "text": [
      "Just a normal day\n"
     ]
    }
   ],
   "source": [
    "weather = 'abc'\n",
    "if weather == 'sunny':\n",
    "    print(\"Its sunny\")\n",
    "elif weather == 'cloudy':\n",
    "    print(\"Its cloudy\")\n",
    "elif weather == 'snowy':\n",
    "    print(\"winter is coming\")\n",
    "else:\n",
    "    print(\"Just a normal day\")\n"
   ]
  },
  {
   "cell_type": "markdown",
   "id": "531ed408",
   "metadata": {},
   "source": [
    "For loops"
   ]
  },
  {
   "cell_type": "code",
   "execution_count": 7,
   "id": "db3bc45f",
   "metadata": {},
   "outputs": [
    {
     "name": "stdout",
     "output_type": "stream",
     "text": [
      "red\n",
      "blue\n",
      "green\n",
      "black\n"
     ]
    }
   ],
   "source": [
    "colors = ['red','blue','green','black']\n",
    "for color in colors:\n",
    "    print(color)"
   ]
  },
  {
   "cell_type": "code",
   "execution_count": 8,
   "id": "a2fa5e17",
   "metadata": {},
   "outputs": [
    {
     "name": "stdout",
     "output_type": "stream",
     "text": [
      "The even number 2\n",
      "The even number 4\n",
      "The even number 6\n",
      "The even number 8\n",
      "The even number 10\n"
     ]
    }
   ],
   "source": [
    "num = [1,2,3,4,5,6,7,8,9,10]\n",
    "for n in num: #print even num\n",
    "    if n % 2 == 0:\n",
    "        print(f'The even number {n}')"
   ]
  },
  {
   "cell_type": "code",
   "execution_count": 10,
   "id": "0b7a6093",
   "metadata": {},
   "outputs": [
    {
     "name": "stdout",
     "output_type": "stream",
     "text": [
      "hello\n",
      "hello\n",
      "hello\n",
      "hello\n",
      "hello\n"
     ]
    }
   ],
   "source": [
    "for l in 'words':\n",
    "    print('hello')"
   ]
  },
  {
   "cell_type": "code",
   "execution_count": 11,
   "id": "9099f51d",
   "metadata": {},
   "outputs": [
    {
     "name": "stdout",
     "output_type": "stream",
     "text": [
      "1\n",
      "2\n",
      "3\n"
     ]
    }
   ],
   "source": [
    "t = (1,2,3)          \n",
    "for n in t:\n",
    "    print(n)"
   ]
  },
  {
   "cell_type": "markdown",
   "id": "e427ffd0",
   "metadata": {},
   "source": [
    "Tuple unpacking"
   ]
  },
  {
   "cell_type": "code",
   "execution_count": 13,
   "id": "e191b2be",
   "metadata": {},
   "outputs": [
    {
     "name": "stdout",
     "output_type": "stream",
     "text": [
      "1\n",
      "2\n",
      "3\n",
      "4\n",
      "5\n",
      "6\n",
      "7\n",
      "8\n"
     ]
    }
   ],
   "source": [
    "list_1 = [(1,2),(3,4),(5,6),(7,8)]\n",
    "for (a,b) in list_1:\n",
    "    print(a)\n",
    "    print(b)"
   ]
  },
  {
   "cell_type": "code",
   "execution_count": 14,
   "id": "555ce468",
   "metadata": {},
   "outputs": [
    {
     "name": "stdout",
     "output_type": "stream",
     "text": [
      "1\n",
      "3\n",
      "5\n",
      "7\n"
     ]
    }
   ],
   "source": [
    "list_1 = [(1,2),(3,4),(5,6),(7,8)]\n",
    "for a,b in list_1:\n",
    "    print(a)\n",
    "    "
   ]
  },
  {
   "cell_type": "code",
   "execution_count": 15,
   "id": "222b7947",
   "metadata": {},
   "outputs": [
    {
     "name": "stdout",
     "output_type": "stream",
     "text": [
      "2\n",
      "4\n",
      "6\n",
      "8\n"
     ]
    }
   ],
   "source": [
    "list_1 = [(1,2),(3,4),(5,6),(7,8)]\n",
    "for a,b in list_1:\n",
    "    print(b)"
   ]
  },
  {
   "cell_type": "code",
   "execution_count": 16,
   "id": "aeeb28f4",
   "metadata": {},
   "outputs": [
    {
     "name": "stdout",
     "output_type": "stream",
     "text": [
      "1\n",
      "2\n",
      "3\n"
     ]
    }
   ],
   "source": [
    "dic = {1:'one',2:'two',3:'three'}\n",
    "for i in dic:         #returns key\n",
    "    print(i)"
   ]
  },
  {
   "cell_type": "code",
   "execution_count": 17,
   "id": "000bd5eb",
   "metadata": {},
   "outputs": [
    {
     "name": "stdout",
     "output_type": "stream",
     "text": [
      "(1, 'one')\n",
      "(2, 'two')\n",
      "(3, 'three')\n"
     ]
    }
   ],
   "source": [
    "dic = {1:'one',2:'two',3:'three'}\n",
    "for i in dic.items():         #returns key and value\n",
    "    print(i)"
   ]
  },
  {
   "cell_type": "code",
   "execution_count": 19,
   "id": "a30d9326",
   "metadata": {},
   "outputs": [
    {
     "name": "stdout",
     "output_type": "stream",
     "text": [
      "one\n",
      "two\n",
      "three\n"
     ]
    }
   ],
   "source": [
    "dic = {1:'one',2:'two',3:'three'}\n",
    "for value in dic.values():        \n",
    "    print(value)"
   ]
  },
  {
   "cell_type": "markdown",
   "id": "8c67b0fd",
   "metadata": {},
   "source": [
    "while loops"
   ]
  },
  {
   "cell_type": "code",
   "execution_count": 20,
   "id": "7db62b0d",
   "metadata": {},
   "outputs": [
    {
     "name": "stdout",
     "output_type": "stream",
     "text": [
      "The value of x is 0\n",
      "The value of x is 1\n",
      "The value of x is 2\n",
      "The value of x is 3\n",
      "The value of x is 4\n",
      "The value of x is 5\n",
      "The value of x is 6\n"
     ]
    }
   ],
   "source": [
    "x = 0\n",
    "while x < 7:\n",
    "    print(f'The value of x is {x}')\n",
    "    x+=1"
   ]
  },
  {
   "cell_type": "code",
   "execution_count": 21,
   "id": "30bd14da",
   "metadata": {},
   "outputs": [
    {
     "name": "stdout",
     "output_type": "stream",
     "text": [
      "C\n",
      "h\n",
      "r\n",
      "s\n"
     ]
    }
   ],
   "source": [
    "name  = 'Chris'           #using continue\n",
    "for ltr in name:\n",
    "    if ltr == 'i':        #exclude i and print the rest    \n",
    "        continue\n",
    "    print(ltr)"
   ]
  },
  {
   "cell_type": "code",
   "execution_count": 22,
   "id": "ce02c520",
   "metadata": {},
   "outputs": [
    {
     "name": "stdout",
     "output_type": "stream",
     "text": [
      "C\n",
      "h\n",
      "r\n"
     ]
    }
   ],
   "source": [
    "name  = 'Chris'           #using break\n",
    "for ltr in name:\n",
    "    if ltr == 'i':        #loop occurs till that item    \n",
    "        break\n",
    "    print(ltr)"
   ]
  },
  {
   "cell_type": "code",
   "execution_count": 23,
   "id": "aac91d6c",
   "metadata": {},
   "outputs": [
    {
     "name": "stdout",
     "output_type": "stream",
     "text": [
      "0\n",
      "1\n",
      "2\n"
     ]
    }
   ],
   "source": [
    "a = 0\n",
    "while a < 5:\n",
    "    if a == 3:\n",
    "        break\n",
    "    print(a)\n",
    "    a +=1\n",
    "    "
   ]
  },
  {
   "cell_type": "markdown",
   "id": "642218ec",
   "metadata": {},
   "source": [
    "*some* useful oprs"
   ]
  },
  {
   "cell_type": "markdown",
   "id": "de162d12",
   "metadata": {},
   "source": [
    "range function"
   ]
  },
  {
   "cell_type": "code",
   "execution_count": 24,
   "id": "5d7ca080",
   "metadata": {},
   "outputs": [
    {
     "name": "stdout",
     "output_type": "stream",
     "text": [
      "0\n",
      "1\n",
      "2\n",
      "3\n",
      "4\n",
      "5\n"
     ]
    }
   ],
   "source": [
    "for i in range(0,6):\n",
    "    print(i)"
   ]
  },
  {
   "cell_type": "code",
   "execution_count": 25,
   "id": "2aa936bd",
   "metadata": {},
   "outputs": [
    {
     "name": "stdout",
     "output_type": "stream",
     "text": [
      "0\n",
      "3\n",
      "6\n",
      "9\n",
      "12\n",
      "15\n"
     ]
    }
   ],
   "source": [
    "for i in range(0,18,3): #using start | stop | step\n",
    "    print(i)"
   ]
  },
  {
   "cell_type": "code",
   "execution_count": 26,
   "id": "bd099eae",
   "metadata": {},
   "outputs": [
    {
     "data": {
      "text/plain": [
       "[0, 2, 4, 6, 8, 10]"
      ]
     },
     "execution_count": 26,
     "metadata": {},
     "output_type": "execute_result"
    }
   ],
   "source": [
    "list(range(0,11,2))"
   ]
  },
  {
   "cell_type": "markdown",
   "id": "bfd513fe",
   "metadata": {},
   "source": [
    "enumerete function #prints with index value"
   ]
  },
  {
   "cell_type": "code",
   "execution_count": 27,
   "id": "edf8411c",
   "metadata": {},
   "outputs": [
    {
     "name": "stdout",
     "output_type": "stream",
     "text": [
      "(0, 'a')\n",
      "(1, 'e')\n",
      "(2, 'i')\n",
      "(3, 'o')\n",
      "(4, 'u')\n"
     ]
    }
   ],
   "source": [
    "word = 'aeiou'\n",
    "for letter in enumerate(word):\n",
    "    print(letter)"
   ]
  },
  {
   "cell_type": "code",
   "execution_count": 28,
   "id": "678d7576",
   "metadata": {},
   "outputs": [
    {
     "name": "stdout",
     "output_type": "stream",
     "text": [
      "0\n",
      "a\n",
      "\n",
      "\n",
      "1\n",
      "e\n",
      "\n",
      "\n",
      "2\n",
      "i\n",
      "\n",
      "\n",
      "3\n",
      "o\n",
      "\n",
      "\n",
      "4\n",
      "u\n",
      "\n",
      "\n"
     ]
    }
   ],
   "source": [
    "word = 'aeiou'\n",
    "for index,letter in enumerate(word):\n",
    "    print(index)\n",
    "    print(letter)\n",
    "    print('\\n')"
   ]
  },
  {
   "cell_type": "markdown",
   "id": "08b1b3d6",
   "metadata": {},
   "source": [
    "Zip function #pairs up list"
   ]
  },
  {
   "cell_type": "code",
   "execution_count": 29,
   "id": "5d236f7b",
   "metadata": {},
   "outputs": [
    {
     "name": "stdout",
     "output_type": "stream",
     "text": [
      "(1, 'a', 0.1)\n",
      "(2, 'b', 0.2)\n",
      "(3, 'c', 0.3)\n"
     ]
    }
   ],
   "source": [
    "list1 = [1,2,3]                             \n",
    "list2 = ['a','b','c']\n",
    "list3=[0.1,0.2,0.3]\n",
    "for item in zip(list1,list2,list3):\n",
    "    print(item)"
   ]
  },
  {
   "cell_type": "code",
   "execution_count": 30,
   "id": "e1797920",
   "metadata": {},
   "outputs": [
    {
     "name": "stdout",
     "output_type": "stream",
     "text": [
      "(1, 'a', 0.1)\n",
      "(2, 'b', 0.2)\n",
      "(3, 'c', 0.3)\n"
     ]
    }
   ],
   "source": [
    "list1 = [1,2,3,4,5]                    #doesn't pairup 4,5 since no respective values in other lists          \n",
    "list2 = ['a','b','c']\n",
    "list3=[0.1,0.2,0.3]\n",
    "for item in zip(list1,list2,list3):\n",
    "    print(item)"
   ]
  },
  {
   "cell_type": "code",
   "execution_count": 31,
   "id": "40cc4ef6",
   "metadata": {},
   "outputs": [
    {
     "data": {
      "text/plain": [
       "[(1, 'a', 0.1), (2, 'b', 0.2), (3, 'c', 0.3)]"
      ]
     },
     "execution_count": 31,
     "metadata": {},
     "output_type": "execute_result"
    }
   ],
   "source": [
    "list(zip(list1,list2,list3))"
   ]
  },
  {
   "cell_type": "markdown",
   "id": "20d72a74",
   "metadata": {},
   "source": [
    "in opr"
   ]
  },
  {
   "cell_type": "code",
   "execution_count": 32,
   "id": "675a6dee",
   "metadata": {},
   "outputs": [
    {
     "data": {
      "text/plain": [
       "False"
      ]
     },
     "execution_count": 32,
     "metadata": {},
     "output_type": "execute_result"
    }
   ],
   "source": [
    "'x' in ['y','z']"
   ]
  },
  {
   "cell_type": "code",
   "execution_count": 33,
   "id": "545e1f66",
   "metadata": {},
   "outputs": [
    {
     "data": {
      "text/plain": [
       "True"
      ]
     },
     "execution_count": 33,
     "metadata": {},
     "output_type": "execute_result"
    }
   ],
   "source": [
    "1 in [0,0,1]"
   ]
  },
  {
   "cell_type": "code",
   "execution_count": 35,
   "id": "05571964",
   "metadata": {},
   "outputs": [
    {
     "data": {
      "text/plain": [
       "True"
      ]
     },
     "execution_count": 35,
     "metadata": {},
     "output_type": "execute_result"
    }
   ],
   "source": [
    "'s' in 'script'"
   ]
  },
  {
   "cell_type": "code",
   "execution_count": 36,
   "id": "0698fea5",
   "metadata": {},
   "outputs": [
    {
     "data": {
      "text/plain": [
       "True"
      ]
     },
     "execution_count": 36,
     "metadata": {},
     "output_type": "execute_result"
    }
   ],
   "source": [
    "d = {'k1':123,'k2':'abc'}\n",
    "'k1' in d"
   ]
  },
  {
   "cell_type": "code",
   "execution_count": 37,
   "id": "88d7c038",
   "metadata": {},
   "outputs": [
    {
     "data": {
      "text/plain": [
       "True"
      ]
     },
     "execution_count": 37,
     "metadata": {},
     "output_type": "execute_result"
    }
   ],
   "source": [
    "123 in d.values()"
   ]
  },
  {
   "cell_type": "markdown",
   "id": "6a1a873c",
   "metadata": {},
   "source": [
    "Math functions"
   ]
  },
  {
   "cell_type": "code",
   "execution_count": 38,
   "id": "c9a30dc4",
   "metadata": {},
   "outputs": [],
   "source": [
    "num = [10,4,78,0,13,45]"
   ]
  },
  {
   "cell_type": "code",
   "execution_count": 39,
   "id": "c1906bc3",
   "metadata": {},
   "outputs": [
    {
     "data": {
      "text/plain": [
       "78"
      ]
     },
     "execution_count": 39,
     "metadata": {},
     "output_type": "execute_result"
    }
   ],
   "source": [
    "max(num)"
   ]
  },
  {
   "cell_type": "code",
   "execution_count": 40,
   "id": "d300eb18",
   "metadata": {},
   "outputs": [
    {
     "data": {
      "text/plain": [
       "0"
      ]
     },
     "execution_count": 40,
     "metadata": {},
     "output_type": "execute_result"
    }
   ],
   "source": [
    "min(num)"
   ]
  },
  {
   "cell_type": "markdown",
   "id": "49ee7345",
   "metadata": {},
   "source": [
    "importing a function"
   ]
  },
  {
   "cell_type": "code",
   "execution_count": 41,
   "id": "736f9e40",
   "metadata": {},
   "outputs": [],
   "source": [
    "from random import shuffle"
   ]
  },
  {
   "cell_type": "code",
   "execution_count": 42,
   "id": "f19d73c1",
   "metadata": {},
   "outputs": [],
   "source": [
    "my_list = [1,2,3,4,5,6,7,8,9,10]"
   ]
  },
  {
   "cell_type": "code",
   "execution_count": 43,
   "id": "8f8da914",
   "metadata": {},
   "outputs": [],
   "source": [
    "shuffle(my_list)"
   ]
  },
  {
   "cell_type": "code",
   "execution_count": 44,
   "id": "703ac069",
   "metadata": {},
   "outputs": [
    {
     "data": {
      "text/plain": [
       "[6, 10, 9, 4, 7, 2, 1, 3, 5, 8]"
      ]
     },
     "execution_count": 44,
     "metadata": {},
     "output_type": "execute_result"
    }
   ],
   "source": [
    "my_list"
   ]
  },
  {
   "cell_type": "code",
   "execution_count": 47,
   "id": "26d961d1",
   "metadata": {},
   "outputs": [],
   "source": [
    "from random import randint"
   ]
  },
  {
   "cell_type": "code",
   "execution_count": 48,
   "id": "88d96fb5",
   "metadata": {},
   "outputs": [
    {
     "data": {
      "text/plain": [
       "3"
      ]
     },
     "execution_count": 48,
     "metadata": {},
     "output_type": "execute_result"
    }
   ],
   "source": [
    "randint(0,50)"
   ]
  },
  {
   "cell_type": "code",
   "execution_count": 49,
   "id": "45ff44cf",
   "metadata": {},
   "outputs": [
    {
     "data": {
      "text/plain": [
       "37"
      ]
     },
     "execution_count": 49,
     "metadata": {},
     "output_type": "execute_result"
    }
   ],
   "source": [
    "randint(0,50)"
   ]
  },
  {
   "cell_type": "markdown",
   "id": "95999f15",
   "metadata": {},
   "source": [
    "user input"
   ]
  },
  {
   "cell_type": "code",
   "execution_count": 50,
   "id": "bb9cf433",
   "metadata": {},
   "outputs": [
    {
     "name": "stdout",
     "output_type": "stream",
     "text": [
      "what's your name? abc\n"
     ]
    },
    {
     "data": {
      "text/plain": [
       "'abc'"
      ]
     },
     "execution_count": 50,
     "metadata": {},
     "output_type": "execute_result"
    }
   ],
   "source": [
    "input(\"what's your name? \")"
   ]
  },
  {
   "cell_type": "markdown",
   "id": "03d99d26",
   "metadata": {},
   "source": [
    "List comprehension"
   ]
  },
  {
   "cell_type": "code",
   "execution_count": 52,
   "id": "4d00948c",
   "metadata": {},
   "outputs": [],
   "source": [
    "my_str = 'Hello'       #method 1\n",
    "my_list = []\n",
    "for ltr in my_str:\n",
    "    my_list.append(ltr)"
   ]
  },
  {
   "cell_type": "code",
   "execution_count": 53,
   "id": "7fb78311",
   "metadata": {},
   "outputs": [
    {
     "data": {
      "text/plain": [
       "['H', 'e', 'l', 'l', 'o']"
      ]
     },
     "execution_count": 53,
     "metadata": {},
     "output_type": "execute_result"
    }
   ],
   "source": [
    "my_list"
   ]
  },
  {
   "cell_type": "code",
   "execution_count": 54,
   "id": "90fd7b91",
   "metadata": {},
   "outputs": [],
   "source": [
    "str1 = 'hello'                   #method2\n",
    "lst1 = [ltr for ltr in str1 ]"
   ]
  },
  {
   "cell_type": "code",
   "execution_count": 55,
   "id": "debf5034",
   "metadata": {},
   "outputs": [
    {
     "data": {
      "text/plain": [
       "['h', 'e', 'l', 'l', 'o']"
      ]
     },
     "execution_count": 55,
     "metadata": {},
     "output_type": "execute_result"
    }
   ],
   "source": [
    "lst1"
   ]
  },
  {
   "cell_type": "code",
   "execution_count": 56,
   "id": "bbb2e39b",
   "metadata": {},
   "outputs": [],
   "source": [
    "lt = [lr for lr in 'new list']       #method 3"
   ]
  },
  {
   "cell_type": "code",
   "execution_count": 57,
   "id": "afb0f4af",
   "metadata": {},
   "outputs": [
    {
     "data": {
      "text/plain": [
       "['n', 'e', 'w', ' ', 'l', 'i', 's', 't']"
      ]
     },
     "execution_count": 57,
     "metadata": {},
     "output_type": "execute_result"
    }
   ],
   "source": [
    "lt"
   ]
  },
  {
   "cell_type": "code",
   "execution_count": 58,
   "id": "ceafbf2f",
   "metadata": {},
   "outputs": [],
   "source": [
    "num = [num for num in range(0,11)]"
   ]
  },
  {
   "cell_type": "code",
   "execution_count": 59,
   "id": "399e22a2",
   "metadata": {},
   "outputs": [
    {
     "data": {
      "text/plain": [
       "[0, 1, 2, 3, 4, 5, 6, 7, 8, 9, 10]"
      ]
     },
     "execution_count": 59,
     "metadata": {},
     "output_type": "execute_result"
    }
   ],
   "source": [
    "num"
   ]
  },
  {
   "cell_type": "code",
   "execution_count": 60,
   "id": "66efa814",
   "metadata": {},
   "outputs": [],
   "source": [
    "num = [num**2 for num in range(0,11)]"
   ]
  },
  {
   "cell_type": "code",
   "execution_count": 61,
   "id": "4d896a29",
   "metadata": {},
   "outputs": [
    {
     "data": {
      "text/plain": [
       "[0, 1, 4, 9, 16, 25, 36, 49, 64, 81, 100]"
      ]
     },
     "execution_count": 61,
     "metadata": {},
     "output_type": "execute_result"
    }
   ],
   "source": [
    "num"
   ]
  },
  {
   "cell_type": "code",
   "execution_count": 64,
   "id": "cbe9dd1a",
   "metadata": {},
   "outputs": [],
   "source": [
    "cel = [0,3,45,32.5]\n",
    "far = [((9/5)*temp + 32) for temp in cel]"
   ]
  },
  {
   "cell_type": "code",
   "execution_count": 65,
   "id": "c8f6aaec",
   "metadata": {},
   "outputs": [
    {
     "data": {
      "text/plain": [
       "[32.0, 37.4, 113.0, 90.5]"
      ]
     },
     "execution_count": 65,
     "metadata": {},
     "output_type": "execute_result"
    }
   ],
   "source": [
    "far"
   ]
  },
  {
   "cell_type": "code",
   "execution_count": 66,
   "id": "e09d2a6f",
   "metadata": {},
   "outputs": [],
   "source": [
    "list2 = []\n",
    "for x in (1,2,3):\n",
    "    for y in (10,100,1000):\n",
    "        list2.append(x * y)"
   ]
  },
  {
   "cell_type": "code",
   "execution_count": 67,
   "id": "4a80864c",
   "metadata": {},
   "outputs": [
    {
     "data": {
      "text/plain": [
       "[10, 100, 1000, 20, 200, 2000, 30, 300, 3000]"
      ]
     },
     "execution_count": 67,
     "metadata": {},
     "output_type": "execute_result"
    }
   ],
   "source": [
    "list2"
   ]
  },
  {
   "cell_type": "markdown",
   "id": "8e9f44b3",
   "metadata": {},
   "source": [
    "Methods and functios"
   ]
  },
  {
   "cell_type": "markdown",
   "id": "17af4be2",
   "metadata": {},
   "source": [
    "def function"
   ]
  },
  {
   "cell_type": "code",
   "execution_count": 68,
   "id": "de8bd189",
   "metadata": {},
   "outputs": [],
   "source": [
    "def say_hello():\n",
    "    print(\"Hello!\")"
   ]
  },
  {
   "cell_type": "code",
   "execution_count": 69,
   "id": "30335b49",
   "metadata": {},
   "outputs": [
    {
     "name": "stdout",
     "output_type": "stream",
     "text": [
      "Hello!\n"
     ]
    }
   ],
   "source": [
    "say_hello()"
   ]
  },
  {
   "cell_type": "code",
   "execution_count": 70,
   "id": "c604feb3",
   "metadata": {},
   "outputs": [],
   "source": [
    "def say_hello(name):\n",
    "    print(f'Hello {name}')\n",
    "    "
   ]
  },
  {
   "cell_type": "code",
   "execution_count": 71,
   "id": "6485eff7",
   "metadata": {},
   "outputs": [
    {
     "name": "stdout",
     "output_type": "stream",
     "text": [
      "Hello Joe\n"
     ]
    }
   ],
   "source": [
    "say_hello('Joe')"
   ]
  },
  {
   "cell_type": "code",
   "execution_count": 72,
   "id": "1bfc75c9",
   "metadata": {},
   "outputs": [],
   "source": [
    "def say_hello(name='Default'):\n",
    "    print(f'Hello {name}')\n",
    "    "
   ]
  },
  {
   "cell_type": "code",
   "execution_count": 73,
   "id": "86fb76f8",
   "metadata": {},
   "outputs": [
    {
     "name": "stdout",
     "output_type": "stream",
     "text": [
      "Hello Default\n"
     ]
    }
   ],
   "source": [
    "say_hello()         #using '' whatever to prevent error "
   ]
  },
  {
   "cell_type": "markdown",
   "id": "cd8692da",
   "metadata": {},
   "source": [
    "Using return"
   ]
  },
  {
   "cell_type": "code",
   "execution_count": 74,
   "id": "29acca18",
   "metadata": {},
   "outputs": [],
   "source": [
    "def add_num(num1,num2):\n",
    "    return num1+num2                  #return holds the o.p value whereas print func only prints the output"
   ]
  },
  {
   "cell_type": "code",
   "execution_count": 75,
   "id": "3fad3f96",
   "metadata": {},
   "outputs": [
    {
     "data": {
      "text/plain": [
       "18"
      ]
     },
     "execution_count": 75,
     "metadata": {},
     "output_type": "execute_result"
    }
   ],
   "source": [
    "add_num(10,8)"
   ]
  },
  {
   "cell_type": "markdown",
   "id": "8a353162",
   "metadata": {},
   "source": [
    "Logic with python func"
   ]
  },
  {
   "cell_type": "code",
   "execution_count": 76,
   "id": "4c9e7c86",
   "metadata": {},
   "outputs": [],
   "source": [
    "def even_chk(number):\n",
    "    return number % 2 == 0"
   ]
  },
  {
   "cell_type": "code",
   "execution_count": 77,
   "id": "02bf19d4",
   "metadata": {},
   "outputs": [
    {
     "data": {
      "text/plain": [
       "True"
      ]
     },
     "execution_count": 77,
     "metadata": {},
     "output_type": "execute_result"
    }
   ],
   "source": [
    "even_chk(10)"
   ]
  },
  {
   "cell_type": "code",
   "execution_count": 78,
   "id": "ba400b5a",
   "metadata": {},
   "outputs": [
    {
     "data": {
      "text/plain": [
       "False"
      ]
     },
     "execution_count": 78,
     "metadata": {},
     "output_type": "execute_result"
    }
   ],
   "source": [
    "even_chk(33)"
   ]
  },
  {
   "cell_type": "markdown",
   "id": "16dc3253",
   "metadata": {},
   "source": [
    "using list"
   ]
  },
  {
   "cell_type": "code",
   "execution_count": 80,
   "id": "e9b8962d",
   "metadata": {},
   "outputs": [],
   "source": [
    "def chk_list(num_list):\n",
    "    for num in num_list:\n",
    "        if num % 2 == 0:\n",
    "            return True             #if we use False here it won't chk for entire elements in the list\n",
    "        else:\n",
    "            pass\n",
    "    return False                 #chks every element"
   ]
  },
  {
   "cell_type": "code",
   "execution_count": 81,
   "id": "f3a78682",
   "metadata": {},
   "outputs": [
    {
     "data": {
      "text/plain": [
       "True"
      ]
     },
     "execution_count": 81,
     "metadata": {},
     "output_type": "execute_result"
    }
   ],
   "source": [
    "chk_list([1,2,3])"
   ]
  },
  {
   "cell_type": "code",
   "execution_count": 82,
   "id": "8f1d90f4",
   "metadata": {},
   "outputs": [
    {
     "data": {
      "text/plain": [
       "False"
      ]
     },
     "execution_count": 82,
     "metadata": {},
     "output_type": "execute_result"
    }
   ],
   "source": [
    "chk_list([1,3,5])"
   ]
  },
  {
   "cell_type": "code",
   "execution_count": 83,
   "id": "2263582b",
   "metadata": {},
   "outputs": [],
   "source": [
    "def chk_list(num_list):                   \n",
    "    my_list = []        \n",
    "    \n",
    "    for num in num_list:\n",
    "        if num % 2 == 0:\n",
    "            my_list.append(num)\n",
    "        else:\n",
    "            pass\n",
    "    return my_list"
   ]
  },
  {
   "cell_type": "code",
   "execution_count": 84,
   "id": "e83e35ca",
   "metadata": {},
   "outputs": [
    {
     "data": {
      "text/plain": [
       "[2, 4, 6, 8, 0]"
      ]
     },
     "execution_count": 84,
     "metadata": {},
     "output_type": "execute_result"
    }
   ],
   "source": [
    "chk_list([2,3,4,5,6,7,8,9,0])"
   ]
  },
  {
   "cell_type": "markdown",
   "id": "569826f7",
   "metadata": {},
   "source": [
    "Tuples unpacking with functions"
   ]
  },
  {
   "cell_type": "code",
   "execution_count": 91,
   "id": "9444db9a",
   "metadata": {},
   "outputs": [],
   "source": [
    "emp_det = [('Adam',500),('chad',900),('Dante',800)]"
   ]
  },
  {
   "cell_type": "code",
   "execution_count": 96,
   "id": "e4ecf654",
   "metadata": {},
   "outputs": [],
   "source": [
    "\n",
    "def top_perf(emp_det):\n",
    "    employee_top = ' '\n",
    "    current_max = 0\n",
    "    for employee,hours in emp_det:\n",
    "        if hours > current_max:\n",
    "            current_max = hours\n",
    "            employee_top = employee\n",
    "        else:\n",
    "            pass\n",
    "        \n",
    "        \n",
    "    return(employee_top,current_max)\n",
    "        "
   ]
  },
  {
   "cell_type": "code",
   "execution_count": 97,
   "id": "2fe3a337",
   "metadata": {},
   "outputs": [
    {
     "data": {
      "text/plain": [
       "('chad', 900)"
      ]
     },
     "execution_count": 97,
     "metadata": {},
     "output_type": "execute_result"
    }
   ],
   "source": [
    "top_perf(emp_det)"
   ]
  },
  {
   "cell_type": "markdown",
   "id": "8761a330",
   "metadata": {},
   "source": [
    "Guessing Game using function"
   ]
  },
  {
   "cell_type": "code",
   "execution_count": 98,
   "id": "17e1ad35",
   "metadata": {},
   "outputs": [],
   "source": [
    "from random import shuffle\n",
    "list1 = ['','','O']\n",
    "def shuffle_list(list1):\n",
    "    shuffle(list1)\n",
    "    return list1\n"
   ]
  },
  {
   "cell_type": "code",
   "execution_count": 99,
   "id": "7b787a77",
   "metadata": {},
   "outputs": [
    {
     "data": {
      "text/plain": [
       "['O', '', '']"
      ]
     },
     "execution_count": 99,
     "metadata": {},
     "output_type": "execute_result"
    }
   ],
   "source": [
    "shuffle_list(list1)"
   ]
  },
  {
   "cell_type": "code",
   "execution_count": 100,
   "id": "def47fbc",
   "metadata": {},
   "outputs": [],
   "source": [
    "def player_guess():\n",
    "    guess = ''\n",
    "    while guess not in ['0','1','2']:\n",
    "        guess = input(\"Pick a num : 0, 1, 2 \")\n",
    "        \n",
    "    return int(guess)"
   ]
  },
  {
   "cell_type": "code",
   "execution_count": 101,
   "id": "d47f9d36",
   "metadata": {},
   "outputs": [
    {
     "name": "stdout",
     "output_type": "stream",
     "text": [
      "Pick a num : 0, 1, 2 2\n"
     ]
    },
    {
     "data": {
      "text/plain": [
       "2"
      ]
     },
     "execution_count": 101,
     "metadata": {},
     "output_type": "execute_result"
    }
   ],
   "source": [
    "player_guess()"
   ]
  },
  {
   "cell_type": "code",
   "execution_count": 102,
   "id": "23f50826",
   "metadata": {},
   "outputs": [
    {
     "name": "stdout",
     "output_type": "stream",
     "text": [
      "Pick a num : 0, 1, 2 2\n"
     ]
    }
   ],
   "source": [
    "my_index = player_guess()"
   ]
  },
  {
   "cell_type": "code",
   "execution_count": 103,
   "id": "020c3df3",
   "metadata": {},
   "outputs": [],
   "source": [
    "def chk_guess(list1,guess):\n",
    "    if list1[guess] == 'O':\n",
    "        print(\"Guessed !\")\n",
    "    else:\n",
    "        print(\"Oops! \")\n",
    "        print(list1)"
   ]
  },
  {
   "cell_type": "code",
   "execution_count": 104,
   "id": "17b9733c",
   "metadata": {},
   "outputs": [
    {
     "name": "stdout",
     "output_type": "stream",
     "text": [
      "Pick a num : 0, 1, 2 1\n",
      "Oops! \n",
      "['O', '', '']\n"
     ]
    }
   ],
   "source": [
    "list1 = ['','','O']                #getting a list\n",
    "shuffled_list = shuffle_list(list1)     #shuffling\n",
    "guess= player_guess()                        #player guesses\n",
    "chk_guess(list1,guess)                  #chk actual position and guesses position"
   ]
  },
  {
   "cell_type": "markdown",
   "id": "57fb0b8c",
   "metadata": {},
   "source": [
    "args "
   ]
  },
  {
   "cell_type": "code",
   "execution_count": 6,
   "id": "75a29cb2",
   "metadata": {},
   "outputs": [],
   "source": [
    "def func(*args):                          #return back tuple\n",
    "     return sum(args) * 0.05           #we can pass as many as values we want \n",
    "                                        # * indicates args, use whatever in the place of arge ie *valu *nums"
   ]
  },
  {
   "cell_type": "code",
   "execution_count": 7,
   "id": "986bc209",
   "metadata": {},
   "outputs": [
    {
     "data": {
      "text/plain": [
       "1.5"
      ]
     },
     "execution_count": 7,
     "metadata": {},
     "output_type": "execute_result"
    }
   ],
   "source": [
    "func(10,20)"
   ]
  },
  {
   "cell_type": "code",
   "execution_count": 8,
   "id": "68ce3ebb",
   "metadata": {},
   "outputs": [
    {
     "data": {
      "text/plain": [
       "7.5"
      ]
     },
     "execution_count": 8,
     "metadata": {},
     "output_type": "execute_result"
    }
   ],
   "source": [
    "func(10,20,50,70)"
   ]
  },
  {
   "cell_type": "markdown",
   "id": "e9fd994f",
   "metadata": {},
   "source": [
    "Kwargs"
   ]
  },
  {
   "cell_type": "code",
   "execution_count": 12,
   "id": "95098388",
   "metadata": {},
   "outputs": [],
   "source": [
    "def myfunc(**kwargs):                      #return back dict\n",
    "    print(kwargs)                          #use **  \n",
    "    if 'fruit' in kwargs:\n",
    "        print('the choice is {}'.format(kwargs['fruit']))\n",
    "    else:\n",
    "        print('na')"
   ]
  },
  {
   "cell_type": "code",
   "execution_count": 13,
   "id": "a8e5f1d3",
   "metadata": {},
   "outputs": [
    {
     "name": "stdout",
     "output_type": "stream",
     "text": [
      "{'fruit': 'apple', 'veg': 'cabbage'}\n",
      "the choice is apple\n"
     ]
    }
   ],
   "source": [
    "myfunc(fruit = 'apple',veg = 'cabbage')"
   ]
  },
  {
   "cell_type": "markdown",
   "id": "04e22611",
   "metadata": {},
   "source": [
    "args and kwargs"
   ]
  },
  {
   "cell_type": "code",
   "execution_count": 14,
   "id": "c6fbdf4e",
   "metadata": {},
   "outputs": [],
   "source": [
    "def fucn1(*args,**kwargs):\n",
    "    print(args)\n",
    "    print(kwargs)\n",
    "    print('I would like to have {} {} '.format(args[0],kwargs['food']))"
   ]
  },
  {
   "cell_type": "code",
   "execution_count": 16,
   "id": "f1e95266",
   "metadata": {},
   "outputs": [
    {
     "name": "stdout",
     "output_type": "stream",
     "text": [
      "(7, 8, 5)\n",
      "{'fruit': 'apple', 'food': 'eggs', 'item': 'paper'}\n",
      "I would like to have 7 eggs \n"
     ]
    }
   ],
   "source": [
    "fucn1(7,8,5,fruit = 'apple',food = 'eggs',item = 'paper')"
   ]
  },
  {
   "cell_type": "markdown",
   "id": "1fbb3cac",
   "metadata": {},
   "source": [
    "Lambda, map, filter"
   ]
  },
  {
   "cell_type": "code",
   "execution_count": 17,
   "id": "d5e8d1ab",
   "metadata": {},
   "outputs": [],
   "source": [
    "def sqr(num):\n",
    "    return num**2"
   ]
  },
  {
   "cell_type": "code",
   "execution_count": 18,
   "id": "954218c1",
   "metadata": {},
   "outputs": [],
   "source": [
    "num = [1,2,3,4,5]"
   ]
  },
  {
   "cell_type": "code",
   "execution_count": 19,
   "id": "68602c0d",
   "metadata": {},
   "outputs": [
    {
     "name": "stdout",
     "output_type": "stream",
     "text": [
      "1\n",
      "4\n",
      "9\n",
      "16\n",
      "25\n"
     ]
    }
   ],
   "source": [
    "for n in map(sqr,num):               #applies sqr function to every element in num\n",
    "    print(n)"
   ]
  },
  {
   "cell_type": "code",
   "execution_count": 20,
   "id": "c5851f1d",
   "metadata": {},
   "outputs": [],
   "source": [
    "def chk_even(num):\n",
    "    return num%2 == 0"
   ]
  },
  {
   "cell_type": "code",
   "execution_count": 21,
   "id": "f3bc0414",
   "metadata": {},
   "outputs": [],
   "source": [
    "num = [1,2,3,4,5,6]"
   ]
  },
  {
   "cell_type": "code",
   "execution_count": 23,
   "id": "2ad919ff",
   "metadata": {},
   "outputs": [
    {
     "data": {
      "text/plain": [
       "[2, 4, 6]"
      ]
     },
     "execution_count": 23,
     "metadata": {},
     "output_type": "execute_result"
    }
   ],
   "source": [
    "list(filter(chk_even,num))              #filters the needed res"
   ]
  },
  {
   "cell_type": "code",
   "execution_count": 29,
   "id": "dca92438",
   "metadata": {},
   "outputs": [
    {
     "name": "stdout",
     "output_type": "stream",
     "text": [
      "81\n"
     ]
    }
   ],
   "source": [
    "n = lambda a: a**2\n",
    "print(n(9))"
   ]
  },
  {
   "cell_type": "markdown",
   "id": "9eccbb8e",
   "metadata": {},
   "source": [
    "Lambda + map"
   ]
  },
  {
   "cell_type": "code",
   "execution_count": 30,
   "id": "31e60721",
   "metadata": {},
   "outputs": [],
   "source": [
    "num = [1,2,3,4,5,6]                   "
   ]
  },
  {
   "cell_type": "code",
   "execution_count": 31,
   "id": "0a6b8558",
   "metadata": {},
   "outputs": [
    {
     "data": {
      "text/plain": [
       "[1, 4, 9, 16, 25, 36]"
      ]
     },
     "execution_count": 31,
     "metadata": {},
     "output_type": "execute_result"
    }
   ],
   "source": [
    "list(map(lambda n: n ** 2,num))"
   ]
  },
  {
   "cell_type": "markdown",
   "id": "6e5c9194",
   "metadata": {},
   "source": [
    "Lambda + filter"
   ]
  },
  {
   "cell_type": "code",
   "execution_count": 33,
   "id": "90f467eb",
   "metadata": {},
   "outputs": [
    {
     "data": {
      "text/plain": [
       "[2, 4, 6]"
      ]
     },
     "execution_count": 33,
     "metadata": {},
     "output_type": "execute_result"
    }
   ],
   "source": [
    "list(filter(lambda n: n%2 == 0,num))"
   ]
  },
  {
   "cell_type": "code",
   "execution_count": 34,
   "id": "6b53b8eb",
   "metadata": {},
   "outputs": [],
   "source": [
    "names = ['jass','kyle','hailey']"
   ]
  },
  {
   "cell_type": "code",
   "execution_count": 35,
   "id": "f27726b0",
   "metadata": {},
   "outputs": [
    {
     "data": {
      "text/plain": [
       "['j', 'k', 'h']"
      ]
     },
     "execution_count": 35,
     "metadata": {},
     "output_type": "execute_result"
    }
   ],
   "source": [
    "list(map(lambda name: name[0],names))"
   ]
  },
  {
   "cell_type": "markdown",
   "id": "4ea5eff8",
   "metadata": {},
   "source": [
    "Nested statements LEGBA rule"
   ]
  },
  {
   "cell_type": "code",
   "execution_count": 38,
   "id": "bb3dbb41",
   "metadata": {},
   "outputs": [],
   "source": [
    "#global\n",
    "name = ' Global variable'\n",
    "def greet():\n",
    "    #Enclosing \n",
    "    name = ' Enclosing variable'\n",
    "    def hello():\n",
    "        #local \n",
    "        name = ' Local variable' \n",
    "        print('Hello '+name)\n",
    "        \n",
    "    hello()"
   ]
  },
  {
   "cell_type": "code",
   "execution_count": 41,
   "id": "6df240a7",
   "metadata": {},
   "outputs": [
    {
     "name": "stdout",
     "output_type": "stream",
     "text": [
      "HelloLocal variable\n"
     ]
    }
   ],
   "source": [
    "greet()"
   ]
  },
  {
   "cell_type": "markdown",
   "id": "a1881241",
   "metadata": {},
   "source": [
    "Displaying info"
   ]
  },
  {
   "cell_type": "code",
   "execution_count": 42,
   "id": "59999d11",
   "metadata": {},
   "outputs": [],
   "source": [
    "def display(r1,r2,r3):\n",
    "    print(r1)\n",
    "    print(r2)\n",
    "    print(r3)"
   ]
  },
  {
   "cell_type": "code",
   "execution_count": 43,
   "id": "f633be03",
   "metadata": {},
   "outputs": [],
   "source": [
    "r1 = [' ', ' ',' ']\n",
    "r2 = [' ', ' ',' ']\n",
    "r3 = [' ', ' ',' ']"
   ]
  },
  {
   "cell_type": "code",
   "execution_count": 44,
   "id": "b7dc9593",
   "metadata": {},
   "outputs": [
    {
     "name": "stdout",
     "output_type": "stream",
     "text": [
      "[' ', ' ', ' ']\n",
      "[' ', ' ', ' ']\n",
      "[' ', ' ', ' ']\n"
     ]
    }
   ],
   "source": [
    "display(r1,r2,r3)"
   ]
  },
  {
   "cell_type": "markdown",
   "id": "5cded795",
   "metadata": {},
   "source": [
    "Accepting user input"
   ]
  },
  {
   "cell_type": "code",
   "execution_count": 45,
   "id": "1fba0e47",
   "metadata": {},
   "outputs": [
    {
     "name": "stdout",
     "output_type": "stream",
     "text": [
      "Enter your name: Jack\n"
     ]
    },
    {
     "data": {
      "text/plain": [
       "'Jack'"
      ]
     },
     "execution_count": 45,
     "metadata": {},
     "output_type": "execute_result"
    }
   ],
   "source": [
    " input('Enter your name: ')"
   ]
  },
  {
   "cell_type": "code",
   "execution_count": 46,
   "id": "ebc6e16b",
   "metadata": {},
   "outputs": [
    {
     "name": "stdout",
     "output_type": "stream",
     "text": [
      "Enter your age: 20\n"
     ]
    }
   ],
   "source": [
    "age = input('Enter your age: ')"
   ]
  },
  {
   "cell_type": "code",
   "execution_count": 47,
   "id": "40fc5b4f",
   "metadata": {},
   "outputs": [
    {
     "data": {
      "text/plain": [
       "str"
      ]
     },
     "execution_count": 47,
     "metadata": {},
     "output_type": "execute_result"
    }
   ],
   "source": [
    "type(age)"
   ]
  },
  {
   "cell_type": "code",
   "execution_count": 50,
   "id": "b5bea0ba",
   "metadata": {},
   "outputs": [
    {
     "data": {
      "text/plain": [
       "20"
      ]
     },
     "execution_count": 50,
     "metadata": {},
     "output_type": "execute_result"
    }
   ],
   "source": [
    "int(age)"
   ]
  },
  {
   "cell_type": "code",
   "execution_count": 51,
   "id": "258fbf84",
   "metadata": {},
   "outputs": [
    {
     "data": {
      "text/plain": [
       "int"
      ]
     },
     "execution_count": 51,
     "metadata": {},
     "output_type": "execute_result"
    }
   ],
   "source": [
    "type(age)"
   ]
  },
  {
   "cell_type": "code",
   "execution_count": 48,
   "id": "4dbbb6ab",
   "metadata": {},
   "outputs": [
    {
     "name": "stdout",
     "output_type": "stream",
     "text": [
      "Enter your age: 20\n"
     ]
    }
   ],
   "source": [
    "age = int(input('Enter your age: '))"
   ]
  },
  {
   "cell_type": "code",
   "execution_count": 49,
   "id": "53c4e9aa",
   "metadata": {},
   "outputs": [
    {
     "data": {
      "text/plain": [
       "int"
      ]
     },
     "execution_count": 49,
     "metadata": {},
     "output_type": "execute_result"
    }
   ],
   "source": [
    "type(age)"
   ]
  },
  {
   "cell_type": "markdown",
   "id": "10e9a62d",
   "metadata": {},
   "source": []
  },
  {
   "cell_type": "markdown",
   "id": "d8cdd3ed",
   "metadata": {},
   "source": [
    "OOP"
   ]
  },
  {
   "cell_type": "code",
   "execution_count": null,
   "id": "9d34247b",
   "metadata": {},
   "outputs": [],
   "source": [
    "#class MyClass():\n",
    "   # def _init__(self,param1,param2):\n",
    "        #self.param1=param1\n",
    "       # self.param2=param2\n",
    "        "
   ]
  },
  {
   "cell_type": "code",
   "execution_count": 14,
   "id": "7054151b",
   "metadata": {},
   "outputs": [],
   "source": [
    "class Dog():\n",
    "    def __init__(self,name,breed):\n",
    "        self.name = name                  #attributes 'don't require()\n",
    "        self.breed = breed\n",
    "        \n",
    "        #method\n",
    "    def bark(self):\n",
    "        print(\"woof! my name is {}\".format(self.name))                     #methods require () #use self. in formatted string"
   ]
  },
  {
   "cell_type": "code",
   "execution_count": 15,
   "id": "d72d75a2",
   "metadata": {},
   "outputs": [],
   "source": [
    "my_dog = Dog(name = 'jack',breed = 'pug')"
   ]
  },
  {
   "cell_type": "code",
   "execution_count": 16,
   "id": "65209932",
   "metadata": {},
   "outputs": [
    {
     "data": {
      "text/plain": [
       "'pug'"
      ]
     },
     "execution_count": 16,
     "metadata": {},
     "output_type": "execute_result"
    }
   ],
   "source": [
    "my_dog.breed"
   ]
  },
  {
   "cell_type": "code",
   "execution_count": 17,
   "id": "85d31c53",
   "metadata": {},
   "outputs": [
    {
     "data": {
      "text/plain": [
       "'jack'"
      ]
     },
     "execution_count": 17,
     "metadata": {},
     "output_type": "execute_result"
    }
   ],
   "source": [
    "my_dog.name"
   ]
  },
  {
   "cell_type": "code",
   "execution_count": 18,
   "id": "116f48b6",
   "metadata": {},
   "outputs": [
    {
     "name": "stdout",
     "output_type": "stream",
     "text": [
      "woof! my name is jack\n"
     ]
    }
   ],
   "source": [
    "my_dog.bark()"
   ]
  },
  {
   "cell_type": "markdown",
   "id": "88961e2c",
   "metadata": {},
   "source": [
    "Methods and Dunder"
   ]
  },
  {
   "cell_type": "code",
   "execution_count": 34,
   "id": "48b66c08",
   "metadata": {},
   "outputs": [],
   "source": [
    "class Book():\n",
    "    def __init__(self,title,author,pages):\n",
    "        self.title = title\n",
    "        self.author = author\n",
    "        self.pages = pages\n",
    "    def __str__(self):\n",
    "        return f'{self.title} by {self.author}'#to prevent 1st error\n",
    "    def __len__(self):\n",
    "        return self.pages\n",
    "    def __del__(self):\n",
    "        print('The book object has been deleted')"
   ]
  },
  {
   "cell_type": "code",
   "execution_count": 31,
   "id": "ee45e8dc",
   "metadata": {},
   "outputs": [],
   "source": [
    "bk = Book('Crime','Steve',100)"
   ]
  },
  {
   "cell_type": "markdown",
   "id": "3323b337",
   "metadata": {},
   "source": [
    "print(bk) will throw this error <__main__.Book object at 0x0000022D24A236A0> "
   ]
  },
  {
   "cell_type": "code",
   "execution_count": 32,
   "id": "f58334dd",
   "metadata": {},
   "outputs": [
    {
     "name": "stdout",
     "output_type": "stream",
     "text": [
      "Crime by Steve\n"
     ]
    }
   ],
   "source": [
    "print(bk)"
   ]
  },
  {
   "cell_type": "code",
   "execution_count": 33,
   "id": "b492f3c2",
   "metadata": {},
   "outputs": [
    {
     "data": {
      "text/plain": [
       "100"
      ]
     },
     "execution_count": 33,
     "metadata": {},
     "output_type": "execute_result"
    }
   ],
   "source": [
    "len(bk)"
   ]
  },
  {
   "cell_type": "markdown",
   "id": "08869522",
   "metadata": {},
   "source": [
    "Modules and packages"
   ]
  },
  {
   "cell_type": "code",
   "execution_count": null,
   "id": "aec60a02",
   "metadata": {},
   "outputs": [],
   "source": [
    "#pip install package_name"
   ]
  },
  {
   "cell_type": "markdown",
   "id": "cf69a472",
   "metadata": {},
   "source": [
    "Errors and exception handling and "
   ]
  },
  {
   "cell_type": "markdown",
   "id": "6c1d160f",
   "metadata": {},
   "source": [
    "type error"
   ]
  },
  {
   "cell_type": "code",
   "execution_count": 1,
   "id": "444f1487",
   "metadata": {},
   "outputs": [
    {
     "ename": "TypeError",
     "evalue": "unsupported operand type(s) for +: 'int' and 'str'",
     "output_type": "error",
     "traceback": [
      "\u001b[1;31m---------------------------------------------------------------------------\u001b[0m",
      "\u001b[1;31mTypeError\u001b[0m                                 Traceback (most recent call last)",
      "\u001b[1;32m<ipython-input-1-b0c7cad4483a>\u001b[0m in \u001b[0;36m<module>\u001b[1;34m\u001b[0m\n\u001b[1;32m----> 1\u001b[1;33m \u001b[0mres\u001b[0m \u001b[1;33m=\u001b[0m \u001b[1;36m10\u001b[0m \u001b[1;33m+\u001b[0m \u001b[1;34m'10'\u001b[0m\u001b[1;33m\u001b[0m\u001b[1;33m\u001b[0m\u001b[0m\n\u001b[0m",
      "\u001b[1;31mTypeError\u001b[0m: unsupported operand type(s) for +: 'int' and 'str'"
     ]
    }
   ],
   "source": [
    "res = 10 + '10'"
   ]
  },
  {
   "cell_type": "code",
   "execution_count": 2,
   "id": "3605d6a5",
   "metadata": {},
   "outputs": [
    {
     "name": "stdout",
     "output_type": "stream",
     "text": [
      "Please enter a number \n"
     ]
    }
   ],
   "source": [
    "try:\n",
    "    result = 10 + '10'\n",
    "except:\n",
    "    print(\"Please enter a number \")\n",
    "else:\n",
    "    print(\"The result is \",result)"
   ]
  },
  {
   "cell_type": "code",
   "execution_count": 3,
   "id": "157c69d1",
   "metadata": {},
   "outputs": [
    {
     "name": "stdout",
     "output_type": "stream",
     "text": [
      "The result is  20\n"
     ]
    }
   ],
   "source": [
    "try:\n",
    "    result = 10 + 10\n",
    "except:\n",
    "    print(\"Please enter a number \")\n",
    "else:\n",
    "    print(\"The result is \",result)"
   ]
  },
  {
   "cell_type": "code",
   "execution_count": 4,
   "id": "6e134b98",
   "metadata": {},
   "outputs": [
    {
     "name": "stdout",
     "output_type": "stream",
     "text": [
      "I always run\n"
     ]
    }
   ],
   "source": [
    "try:\n",
    "    f = open('filechk','w')\n",
    "    f.write('this is a test')\n",
    "except TypeError:\n",
    "    print('Type error')\n",
    "except OSError:               #or use IO error\n",
    "    print('Oops OS Error')\n",
    "finally:\n",
    "    print('I always run')          #prints whether there is an error or not\n",
    "    "
   ]
  },
  {
   "cell_type": "code",
   "execution_count": 5,
   "id": "c3565233",
   "metadata": {},
   "outputs": [
    {
     "name": "stdout",
     "output_type": "stream",
     "text": [
      "Oops OS Error\n",
      "I always run\n"
     ]
    }
   ],
   "source": [
    "try:\n",
    "    f = open('filechk','r')                  #simply use except in all case \n",
    "    f.write('this is a test')\n",
    "except TypeError:\n",
    "    print('Type error')\n",
    "except OSError:               #or use IO error\n",
    "    print('Oops OS Error')\n",
    "finally:\n",
    "    print('I always run')          #prints whether there is an error or not\n",
    "    "
   ]
  },
  {
   "cell_type": "code",
   "execution_count": 10,
   "id": "2047ca11",
   "metadata": {},
   "outputs": [],
   "source": [
    " def numc():\n",
    "        try:\n",
    "            nu = int(input('Enter a number: '))\n",
    "        except:\n",
    "            print('This is not a number ')\n",
    "        finally:\n",
    "            print(\"end\")"
   ]
  },
  {
   "cell_type": "code",
   "execution_count": 11,
   "id": "3c8f785f",
   "metadata": {},
   "outputs": [
    {
     "name": "stdout",
     "output_type": "stream",
     "text": [
      "Enter a number: hi\n",
      "This is not a number \n",
      "end\n"
     ]
    }
   ],
   "source": [
    "numc()"
   ]
  },
  {
   "cell_type": "code",
   "execution_count": 13,
   "id": "a6ce8697",
   "metadata": {},
   "outputs": [],
   "source": [
    " def numc():\n",
    "        while True:\n",
    "            try:\n",
    "                nu = int(input('Enter a number: '))\n",
    "            except:\n",
    "                print('This is not a number ')\n",
    "                continue\n",
    "            else:\n",
    "                print('the number is ',nu)\n",
    "                break\n",
    "            finally: \n",
    "                print(\"end\")"
   ]
  },
  {
   "cell_type": "code",
   "execution_count": 14,
   "id": "d3ef489b",
   "metadata": {},
   "outputs": [
    {
     "name": "stdout",
     "output_type": "stream",
     "text": [
      "Enter a number: a\n",
      "This is not a number \n",
      "end\n",
      "Enter a number: b\n",
      "This is not a number \n",
      "end\n",
      "Enter a number: hgjhj\n",
      "This is not a number \n",
      "end\n",
      "Enter a number: 7\n",
      "the number is  7\n",
      "end\n"
     ]
    }
   ],
   "source": [
    "numc()"
   ]
  },
  {
   "cell_type": "markdown",
   "id": "6bc7603e",
   "metadata": {},
   "source": [
    "Generators"
   ]
  },
  {
   "cell_type": "code",
   "execution_count": 17,
   "id": "a08f36e9",
   "metadata": {},
   "outputs": [],
   "source": [
    "def cubes_val(n):            \n",
    "    res = []\n",
    "    for x in range(n):\n",
    "        res.append(x**3)\n",
    "    return res\n",
    "        "
   ]
  },
  {
   "cell_type": "code",
   "execution_count": 18,
   "id": "9ac52590",
   "metadata": {},
   "outputs": [
    {
     "data": {
      "text/plain": [
       "[0, 1, 8, 27, 64, 125, 216, 343, 512, 729, 1000]"
      ]
     },
     "execution_count": 18,
     "metadata": {},
     "output_type": "execute_result"
    }
   ],
   "source": [
    "cubes_val(11)"
   ]
  },
  {
   "cell_type": "code",
   "execution_count": null,
   "id": "24ee4f27",
   "metadata": {},
   "outputs": [],
   "source": [
    "#generators yields the value//save memory occuapncy    keyword is yield"
   ]
  },
  {
   "cell_type": "code",
   "execution_count": 19,
   "id": "2013e196",
   "metadata": {},
   "outputs": [],
   "source": [
    "def cubes_val(n):\n",
    "    for x in range(n):\n",
    "        yield x**3"
   ]
  },
  {
   "cell_type": "code",
   "execution_count": 22,
   "id": "6caace5b",
   "metadata": {},
   "outputs": [
    {
     "name": "stdout",
     "output_type": "stream",
     "text": [
      "0\n",
      "1\n",
      "8\n",
      "27\n",
      "64\n",
      "125\n",
      "216\n",
      "343\n",
      "512\n",
      "729\n",
      "1000\n"
     ]
    }
   ],
   "source": [
    "for x in cubes_val(11):\n",
    "    print(x)"
   ]
  },
  {
   "cell_type": "code",
   "execution_count": 27,
   "id": "0238cd18",
   "metadata": {},
   "outputs": [],
   "source": [
    "def fibo(n):\n",
    "    a = 0\n",
    "    b = 1\n",
    "    for i in range(n):\n",
    "        yield a\n",
    "        a,b = b,a+b"
   ]
  },
  {
   "cell_type": "code",
   "execution_count": 28,
   "id": "9ccec4f7",
   "metadata": {},
   "outputs": [
    {
     "name": "stdout",
     "output_type": "stream",
     "text": [
      "0\n",
      "1\n",
      "1\n",
      "2\n",
      "3\n",
      "5\n",
      "8\n",
      "13\n",
      "21\n",
      "34\n"
     ]
    }
   ],
   "source": [
    "for i in fibo(10):\n",
    "    print(i)"
   ]
  },
  {
   "cell_type": "markdown",
   "id": "32e39bd1",
   "metadata": {},
   "source": [
    "Iterators"
   ]
  },
  {
   "cell_type": "code",
   "execution_count": 29,
   "id": "477163c2",
   "metadata": {},
   "outputs": [],
   "source": [
    "s = 'Python'"
   ]
  },
  {
   "cell_type": "code",
   "execution_count": 30,
   "id": "b1bada6c",
   "metadata": {},
   "outputs": [
    {
     "data": {
      "text/plain": [
       "'Python'"
      ]
     },
     "execution_count": 30,
     "metadata": {},
     "output_type": "execute_result"
    }
   ],
   "source": [
    "s"
   ]
  },
  {
   "cell_type": "code",
   "execution_count": null,
   "id": "5f8addac",
   "metadata": {},
   "outputs": [],
   "source": [
    "#using iterators"
   ]
  },
  {
   "cell_type": "code",
   "execution_count": 35,
   "id": "016399f2",
   "metadata": {},
   "outputs": [],
   "source": [
    "s_iter = iter(s)"
   ]
  },
  {
   "cell_type": "code",
   "execution_count": 36,
   "id": "d1554cfb",
   "metadata": {},
   "outputs": [
    {
     "data": {
      "text/plain": [
       "'P'"
      ]
     },
     "execution_count": 36,
     "metadata": {},
     "output_type": "execute_result"
    }
   ],
   "source": [
    "next(s_iter)"
   ]
  },
  {
   "cell_type": "code",
   "execution_count": 37,
   "id": "aa6b6696",
   "metadata": {},
   "outputs": [
    {
     "data": {
      "text/plain": [
       "'y'"
      ]
     },
     "execution_count": 37,
     "metadata": {},
     "output_type": "execute_result"
    }
   ],
   "source": [
    "next(s_iter)"
   ]
  },
  {
   "cell_type": "code",
   "execution_count": 38,
   "id": "0c3574c5",
   "metadata": {},
   "outputs": [
    {
     "data": {
      "text/plain": [
       "'t'"
      ]
     },
     "execution_count": 38,
     "metadata": {},
     "output_type": "execute_result"
    }
   ],
   "source": [
    "next(s_iter)"
   ]
  },
  {
   "cell_type": "code",
   "execution_count": 39,
   "id": "77fd2435",
   "metadata": {},
   "outputs": [
    {
     "data": {
      "text/plain": [
       "'h'"
      ]
     },
     "execution_count": 39,
     "metadata": {},
     "output_type": "execute_result"
    }
   ],
   "source": [
    "next(s_iter)"
   ]
  },
  {
   "cell_type": "code",
   "execution_count": 40,
   "id": "777d2c10",
   "metadata": {},
   "outputs": [
    {
     "data": {
      "text/plain": [
       "'o'"
      ]
     },
     "execution_count": 40,
     "metadata": {},
     "output_type": "execute_result"
    }
   ],
   "source": [
    "next(s_iter)"
   ]
  },
  {
   "cell_type": "code",
   "execution_count": 41,
   "id": "c3027350",
   "metadata": {},
   "outputs": [
    {
     "data": {
      "text/plain": [
       "'n'"
      ]
     },
     "execution_count": 41,
     "metadata": {},
     "output_type": "execute_result"
    }
   ],
   "source": [
    "next(s_iter)"
   ]
  },
  {
   "cell_type": "markdown",
   "id": "09a5c69b",
   "metadata": {},
   "source": [
    "adv python modules"
   ]
  },
  {
   "cell_type": "code",
   "execution_count": null,
   "id": "fe3aea54",
   "metadata": {},
   "outputs": [],
   "source": [
    "#counter module"
   ]
  },
  {
   "cell_type": "code",
   "execution_count": 42,
   "id": "8285c88e",
   "metadata": {},
   "outputs": [
    {
     "data": {
      "text/plain": [
       "Counter({1: 2, 2: 5, 3: 2, 4: 4, 5: 3, 6: 1, 7: 1})"
      ]
     },
     "execution_count": 42,
     "metadata": {},
     "output_type": "execute_result"
    }
   ],
   "source": [
    "from collections import Counter\n",
    "list1 = [1,2,3,1,3,2,2,2,2,4,5,6,7,4,5,4,4,5]\n",
    "Counter(list1)"
   ]
  },
  {
   "cell_type": "code",
   "execution_count": 43,
   "id": "8573adb4",
   "metadata": {},
   "outputs": [],
   "source": [
    "list2 = ['a','a','b',12,12]"
   ]
  },
  {
   "cell_type": "code",
   "execution_count": 44,
   "id": "f25e4b97",
   "metadata": {},
   "outputs": [
    {
     "data": {
      "text/plain": [
       "Counter({'a': 2, 'b': 1, 12: 2})"
      ]
     },
     "execution_count": 44,
     "metadata": {},
     "output_type": "execute_result"
    }
   ],
   "source": [
    "Counter(list2)"
   ]
  },
  {
   "cell_type": "code",
   "execution_count": 45,
   "id": "e38a9c18",
   "metadata": {},
   "outputs": [
    {
     "data": {
      "text/plain": [
       "Counter({'G': 1, 'o': 2, 'd': 2, 'a': 1, 'y': 1})"
      ]
     },
     "execution_count": 45,
     "metadata": {},
     "output_type": "execute_result"
    }
   ],
   "source": [
    "Counter('Goodday')"
   ]
  },
  {
   "cell_type": "code",
   "execution_count": 46,
   "id": "0deb27e3",
   "metadata": {},
   "outputs": [],
   "source": [
    "sent = \"hello this is a sentence\""
   ]
  },
  {
   "cell_type": "code",
   "execution_count": 47,
   "id": "0a38b521",
   "metadata": {},
   "outputs": [
    {
     "data": {
      "text/plain": [
       "Counter({'hello': 1, 'this': 1, 'is': 1, 'a': 1, 'sentence': 1})"
      ]
     },
     "execution_count": 47,
     "metadata": {},
     "output_type": "execute_result"
    }
   ],
   "source": [
    "Counter(sent.split())"
   ]
  },
  {
   "cell_type": "code",
   "execution_count": 48,
   "id": "d8c401fe",
   "metadata": {},
   "outputs": [],
   "source": [
    "letter  = 'aaaabbbbbebbebebebsjjjjjsjudbja'"
   ]
  },
  {
   "cell_type": "code",
   "execution_count": 50,
   "id": "2b717cc3",
   "metadata": {},
   "outputs": [],
   "source": [
    "c = Counter(letter)"
   ]
  },
  {
   "cell_type": "code",
   "execution_count": 51,
   "id": "f3e4a762",
   "metadata": {},
   "outputs": [
    {
     "data": {
      "text/plain": [
       "Counter({'a': 5, 'b': 11, 'e': 4, 's': 2, 'j': 7, 'u': 1, 'd': 1})"
      ]
     },
     "execution_count": 51,
     "metadata": {},
     "output_type": "execute_result"
    }
   ],
   "source": [
    "c"
   ]
  },
  {
   "cell_type": "code",
   "execution_count": 52,
   "id": "14596836",
   "metadata": {},
   "outputs": [
    {
     "data": {
      "text/plain": [
       "[('b', 11), ('j', 7), ('a', 5), ('e', 4), ('s', 2), ('u', 1), ('d', 1)]"
      ]
     },
     "execution_count": 52,
     "metadata": {},
     "output_type": "execute_result"
    }
   ],
   "source": [
    "c.most_common()"
   ]
  },
  {
   "cell_type": "code",
   "execution_count": 53,
   "id": "991ffe2c",
   "metadata": {},
   "outputs": [
    {
     "data": {
      "text/plain": [
       "[('b', 11), ('j', 7)]"
      ]
     },
     "execution_count": 53,
     "metadata": {},
     "output_type": "execute_result"
    }
   ],
   "source": [
    "c.most_common(2)"
   ]
  },
  {
   "cell_type": "code",
   "execution_count": 54,
   "id": "14678e2e",
   "metadata": {},
   "outputs": [
    {
     "data": {
      "text/plain": [
       "['a', 'b', 'e', 's', 'j', 'u', 'd']"
      ]
     },
     "execution_count": 54,
     "metadata": {},
     "output_type": "execute_result"
    }
   ],
   "source": [
    "list(c)"
   ]
  },
  {
   "cell_type": "code",
   "execution_count": 55,
   "id": "5613cb4e",
   "metadata": {},
   "outputs": [],
   "source": [
    "from collections import defaultdict"
   ]
  },
  {
   "cell_type": "code",
   "execution_count": 56,
   "id": "48102f97",
   "metadata": {},
   "outputs": [],
   "source": [
    "d = {'a1':'apple','b1':'banana'}      #normal dict"
   ]
  },
  {
   "cell_type": "code",
   "execution_count": 58,
   "id": "6e4bb2e4",
   "metadata": {},
   "outputs": [
    {
     "data": {
      "text/plain": [
       "'apple'"
      ]
     },
     "execution_count": 58,
     "metadata": {},
     "output_type": "execute_result"
    }
   ],
   "source": [
    "d['a1']"
   ]
  },
  {
   "cell_type": "markdown",
   "id": "7a785375",
   "metadata": {},
   "source": [
    "d['d2']  \n",
    "---------------------------------------------------------------------------\n",
    "to avoid this key error -----> defaultdict\n",
    "KeyError                                  Traceback (most recent call last)\n",
    "<ipython-input-59-0a6e17ccab26> in <module>\n",
    "----> 1 d['d2']\n",
    "\n",
    "KeyError: 'd2'"
   ]
  },
  {
   "cell_type": "code",
   "execution_count": 60,
   "id": "dd816231",
   "metadata": {},
   "outputs": [],
   "source": [
    "d = defaultdict(lambda:0)"
   ]
  },
  {
   "cell_type": "code",
   "execution_count": 61,
   "id": "f06d7714",
   "metadata": {},
   "outputs": [],
   "source": [
    "d[1] = 'one'"
   ]
  },
  {
   "cell_type": "code",
   "execution_count": 62,
   "id": "f68745a6",
   "metadata": {},
   "outputs": [
    {
     "data": {
      "text/plain": [
       "'one'"
      ]
     },
     "execution_count": 62,
     "metadata": {},
     "output_type": "execute_result"
    }
   ],
   "source": [
    "d[1]"
   ]
  },
  {
   "cell_type": "code",
   "execution_count": 64,
   "id": "287fbe1a",
   "metadata": {},
   "outputs": [
    {
     "data": {
      "text/plain": [
       "0"
      ]
     },
     "execution_count": 64,
     "metadata": {},
     "output_type": "execute_result"
    }
   ],
   "source": [
    "d[2]"
   ]
  },
  {
   "cell_type": "markdown",
   "id": "f2019126",
   "metadata": {},
   "source": [
    "print(d)\n",
    "defaultdict(<function <lambda> at 0x0000020643F31670>, {1: 'one', 2: 0})"
   ]
  },
  {
   "cell_type": "markdown",
   "id": "3fba082b",
   "metadata": {},
   "source": [
    "Namedtuple"
   ]
  },
  {
   "cell_type": "code",
   "execution_count": 67,
   "id": "64920cc3",
   "metadata": {},
   "outputs": [],
   "source": [
    "from collections import namedtuple"
   ]
  },
  {
   "cell_type": "code",
   "execution_count": 68,
   "id": "d2d8d17c",
   "metadata": {},
   "outputs": [],
   "source": [
    "Dog = namedtuple('Dog',['name','age','breed'])"
   ]
  },
  {
   "cell_type": "code",
   "execution_count": 69,
   "id": "78b7852f",
   "metadata": {},
   "outputs": [],
   "source": [
    "sammy = Dog(name = 'jack',age = 4, breed = 'pug')"
   ]
  },
  {
   "cell_type": "code",
   "execution_count": 70,
   "id": "293037ba",
   "metadata": {},
   "outputs": [
    {
     "data": {
      "text/plain": [
       "Dog(name='jack', age=4, breed='pug')"
      ]
     },
     "execution_count": 70,
     "metadata": {},
     "output_type": "execute_result"
    }
   ],
   "source": [
    "sammy"
   ]
  },
  {
   "cell_type": "code",
   "execution_count": 71,
   "id": "c3594c62",
   "metadata": {},
   "outputs": [
    {
     "data": {
      "text/plain": [
       "'jack'"
      ]
     },
     "execution_count": 71,
     "metadata": {},
     "output_type": "execute_result"
    }
   ],
   "source": [
    "sammy.name"
   ]
  },
  {
   "cell_type": "code",
   "execution_count": 72,
   "id": "8c212b04",
   "metadata": {},
   "outputs": [],
   "source": [
    "cathy = Dog(name = 'cathy',age = 1, breed = 'poodle')"
   ]
  },
  {
   "cell_type": "code",
   "execution_count": 73,
   "id": "7c1024ed",
   "metadata": {},
   "outputs": [
    {
     "data": {
      "text/plain": [
       "Dog(name='cathy', age=1, breed='poodle')"
      ]
     },
     "execution_count": 73,
     "metadata": {},
     "output_type": "execute_result"
    }
   ],
   "source": [
    "cathy"
   ]
  },
  {
   "cell_type": "code",
   "execution_count": 74,
   "id": "2aa8e21c",
   "metadata": {},
   "outputs": [
    {
     "data": {
      "text/plain": [
       "Dog(name='jack', age=4, breed='pug')"
      ]
     },
     "execution_count": 74,
     "metadata": {},
     "output_type": "execute_result"
    }
   ],
   "source": [
    "sammy"
   ]
  },
  {
   "cell_type": "code",
   "execution_count": 75,
   "id": "8680af57",
   "metadata": {},
   "outputs": [
    {
     "data": {
      "text/plain": [
       "'cathy'"
      ]
     },
     "execution_count": 75,
     "metadata": {},
     "output_type": "execute_result"
    }
   ],
   "source": [
    "cathy[0]"
   ]
  },
  {
   "cell_type": "markdown",
   "id": "cadbe6ae",
   "metadata": {},
   "source": [
    "Opening and closing files - OS modules"
   ]
  },
  {
   "cell_type": "code",
   "execution_count": 76,
   "id": "ebe3c7fd",
   "metadata": {},
   "outputs": [
    {
     "data": {
      "text/plain": [
       "'C:\\\\Users\\\\X238616'"
      ]
     },
     "execution_count": 76,
     "metadata": {},
     "output_type": "execute_result"
    }
   ],
   "source": [
    "pwd    #works only on j.nb"
   ]
  },
  {
   "cell_type": "code",
   "execution_count": 77,
   "id": "78a36f27",
   "metadata": {},
   "outputs": [],
   "source": [
    "import os"
   ]
  },
  {
   "cell_type": "code",
   "execution_count": 78,
   "id": "a5de5a8f",
   "metadata": {},
   "outputs": [
    {
     "data": {
      "text/plain": [
       "'C:\\\\Users\\\\X238616'"
      ]
     },
     "execution_count": 78,
     "metadata": {},
     "output_type": "execute_result"
    }
   ],
   "source": [
    "os.getcwd()"
   ]
  },
  {
   "cell_type": "markdown",
   "id": "86edbcf2",
   "metadata": {},
   "source": [
    "#os.listdir()"
   ]
  },
  {
   "cell_type": "markdown",
   "id": "e43a651c",
   "metadata": {},
   "source": [
    "#deleting files\n",
    "#os.unlink()\n",
    "#os.removedir()\n",
    "import shutil\n",
    "#shutil.rmtree()\n",
    "\n",
    "alternative send2trash\n"
   ]
  },
  {
   "cell_type": "markdown",
   "id": "3cfbdffe",
   "metadata": {},
   "source": [
    "datetime "
   ]
  },
  {
   "cell_type": "code",
   "execution_count": 81,
   "id": "f2d7b9e6",
   "metadata": {},
   "outputs": [],
   "source": [
    "import datetime"
   ]
  },
  {
   "cell_type": "code",
   "execution_count": 82,
   "id": "32fcf1a7",
   "metadata": {},
   "outputs": [],
   "source": [
    "mytime = datetime.time(2,30)"
   ]
  },
  {
   "cell_type": "code",
   "execution_count": 83,
   "id": "1a6da16d",
   "metadata": {},
   "outputs": [
    {
     "name": "stdout",
     "output_type": "stream",
     "text": [
      "02:30:00\n"
     ]
    }
   ],
   "source": [
    "print(mytime)"
   ]
  },
  {
   "cell_type": "code",
   "execution_count": 84,
   "id": "b65f8069",
   "metadata": {},
   "outputs": [
    {
     "data": {
      "text/plain": [
       "30"
      ]
     },
     "execution_count": 84,
     "metadata": {},
     "output_type": "execute_result"
    }
   ],
   "source": [
    "mytime.minute"
   ]
  },
  {
   "cell_type": "code",
   "execution_count": 85,
   "id": "19bdae46",
   "metadata": {},
   "outputs": [
    {
     "data": {
      "text/plain": [
       "2"
      ]
     },
     "execution_count": 85,
     "metadata": {},
     "output_type": "execute_result"
    }
   ],
   "source": [
    "mytime.hour"
   ]
  },
  {
   "cell_type": "code",
   "execution_count": 86,
   "id": "a69fecb4",
   "metadata": {},
   "outputs": [
    {
     "data": {
      "text/plain": [
       "datetime.time"
      ]
     },
     "execution_count": 86,
     "metadata": {},
     "output_type": "execute_result"
    }
   ],
   "source": [
    "type(mytime)"
   ]
  },
  {
   "cell_type": "code",
   "execution_count": 87,
   "id": "19821259",
   "metadata": {},
   "outputs": [],
   "source": [
    "today = datetime.date.today()"
   ]
  },
  {
   "cell_type": "code",
   "execution_count": 88,
   "id": "750dd8ac",
   "metadata": {},
   "outputs": [
    {
     "data": {
      "text/plain": [
       "datetime.date(2021, 10, 28)"
      ]
     },
     "execution_count": 88,
     "metadata": {},
     "output_type": "execute_result"
    }
   ],
   "source": [
    "today"
   ]
  },
  {
   "cell_type": "code",
   "execution_count": 89,
   "id": "da5e9aa9",
   "metadata": {},
   "outputs": [
    {
     "data": {
      "text/plain": [
       "28"
      ]
     },
     "execution_count": 89,
     "metadata": {},
     "output_type": "execute_result"
    }
   ],
   "source": [
    "today.day"
   ]
  },
  {
   "cell_type": "code",
   "execution_count": 90,
   "id": "91c83e7b",
   "metadata": {},
   "outputs": [
    {
     "data": {
      "text/plain": [
       "'Thu Oct 28 00:00:00 2021'"
      ]
     },
     "execution_count": 90,
     "metadata": {},
     "output_type": "execute_result"
    }
   ],
   "source": [
    "today.ctime()"
   ]
  },
  {
   "cell_type": "code",
   "execution_count": 91,
   "id": "7219f7e1",
   "metadata": {},
   "outputs": [],
   "source": [
    "from datetime import datetime"
   ]
  },
  {
   "cell_type": "code",
   "execution_count": 92,
   "id": "9ae193e6",
   "metadata": {},
   "outputs": [],
   "source": [
    "mydatetime = datetime(2021,10,28,22,20,54)"
   ]
  },
  {
   "cell_type": "code",
   "execution_count": 93,
   "id": "e2f5922a",
   "metadata": {},
   "outputs": [
    {
     "data": {
      "text/plain": [
       "datetime.datetime(2021, 10, 28, 22, 20, 54)"
      ]
     },
     "execution_count": 93,
     "metadata": {},
     "output_type": "execute_result"
    }
   ],
   "source": [
    "mydatetime"
   ]
  },
  {
   "cell_type": "code",
   "execution_count": 94,
   "id": "3220f170",
   "metadata": {},
   "outputs": [
    {
     "name": "stdout",
     "output_type": "stream",
     "text": [
      "2021-10-28 22:20:54\n"
     ]
    }
   ],
   "source": [
    "print(mydatetime)"
   ]
  },
  {
   "cell_type": "code",
   "execution_count": 97,
   "id": "8c6e4a46",
   "metadata": {},
   "outputs": [],
   "source": [
    "mydatetime = mydatetime.replace(month = 11)"
   ]
  },
  {
   "cell_type": "code",
   "execution_count": 98,
   "id": "0752ed07",
   "metadata": {},
   "outputs": [
    {
     "name": "stdout",
     "output_type": "stream",
     "text": [
      "2021-11-28 22:20:54\n"
     ]
    }
   ],
   "source": [
    "print(mydatetime)"
   ]
  },
  {
   "cell_type": "code",
   "execution_count": 99,
   "id": "cdc807e9",
   "metadata": {},
   "outputs": [],
   "source": [
    "from datetime import date"
   ]
  },
  {
   "cell_type": "code",
   "execution_count": 101,
   "id": "16a7230a",
   "metadata": {},
   "outputs": [],
   "source": [
    "d1 = date(2021,10,28)\n",
    "d2 = date(2021,8,18)\n"
   ]
  },
  {
   "cell_type": "code",
   "execution_count": 102,
   "id": "201a6c45",
   "metadata": {},
   "outputs": [
    {
     "data": {
      "text/plain": [
       "datetime.timedelta(days=71)"
      ]
     },
     "execution_count": 102,
     "metadata": {},
     "output_type": "execute_result"
    }
   ],
   "source": [
    "d1 - d2"
   ]
  },
  {
   "cell_type": "code",
   "execution_count": 103,
   "id": "88f32282",
   "metadata": {},
   "outputs": [],
   "source": [
    "d1 = datetime(2021,10,28,10,30)\n",
    "d2 = datetime(2021,8,18,10,30)"
   ]
  },
  {
   "cell_type": "code",
   "execution_count": 106,
   "id": "a6b4a6c9",
   "metadata": {},
   "outputs": [
    {
     "name": "stdout",
     "output_type": "stream",
     "text": [
      "71 days, 0:00:00\n"
     ]
    }
   ],
   "source": [
    "print(d1- d2)"
   ]
  }
 ],
 "metadata": {
  "kernelspec": {
   "display_name": "Python 3",
   "language": "python",
   "name": "python3"
  },
  "language_info": {
   "codemirror_mode": {
    "name": "ipython",
    "version": 3
   },
   "file_extension": ".py",
   "mimetype": "text/x-python",
   "name": "python",
   "nbconvert_exporter": "python",
   "pygments_lexer": "ipython3",
   "version": "3.8.8"
  }
 },
 "nbformat": 4,
 "nbformat_minor": 5
}
