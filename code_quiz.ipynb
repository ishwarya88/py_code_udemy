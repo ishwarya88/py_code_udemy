{
 "cells": [
  {
   "cell_type": "markdown",
   "id": "6cad9fc1-50f5-44c2-9cb3-52efdff3d05c",
   "metadata": {},
   "source": [
    "EX1: Hello wolrd prgm"
   ]
  },
  {
   "cell_type": "code",
   "execution_count": 1,
   "id": "1919ab5e-3d23-47a0-8cd1-2e7d62909597",
   "metadata": {},
   "outputs": [
    {
     "name": "stdout",
     "output_type": "stream",
     "text": [
      "Hello World!\n"
     ]
    }
   ],
   "source": [
    "print('Hello World!')"
   ]
  },
  {
   "cell_type": "markdown",
   "id": "5555f5de-b286-4ffc-b10f-54a61e992131",
   "metadata": {},
   "source": [
    "String indexing: print 'r' from Hello world"
   ]
  },
  {
   "cell_type": "code",
   "execution_count": 3,
   "id": "73200495-0445-4ac6-9690-a856ce8187f6",
   "metadata": {},
   "outputs": [
    {
     "name": "stdout",
     "output_type": "stream",
     "text": [
      "r\n"
     ]
    }
   ],
   "source": [
    "print('Hello World!'[-4])"
   ]
  },
  {
   "cell_type": "markdown",
   "id": "ab639d19-8192-4ca0-81ee-44af88c704c9",
   "metadata": {},
   "source": [
    "String slicing: print 'ink' from 'tinker'"
   ]
  },
  {
   "cell_type": "code",
   "execution_count": 4,
   "id": "558f0edc-9216-4a3c-98eb-13d3d39b5ea9",
   "metadata": {},
   "outputs": [
    {
     "name": "stdout",
     "output_type": "stream",
     "text": [
      "ink\n"
     ]
    }
   ],
   "source": [
    "print('tinker'[1:4])"
   ]
  },
  {
   "cell_type": "markdown",
   "id": "be366404-e639-4acf-a865-d90210b38de1",
   "metadata": {},
   "source": [
    "Print formatting"
   ]
  },
  {
   "cell_type": "code",
   "execution_count": 5,
   "id": "4f754273-6ea5-49a7-b4e4-233322f258f5",
   "metadata": {},
   "outputs": [
    {
     "name": "stdout",
     "output_type": "stream",
     "text": [
      "Python rules !\n"
     ]
    }
   ],
   "source": [
    "print('Python {} {}'.format('rules','!'))"
   ]
  },
  {
   "cell_type": "markdown",
   "id": "c447cb87-84ac-4ede-8249-6983bd9ebeea",
   "metadata": {},
   "source": [
    "Creating a simple list"
   ]
  },
  {
   "cell_type": "code",
   "execution_count": 6,
   "id": "5549b481-764a-486a-8539-67e2a6351814",
   "metadata": {},
   "outputs": [
    {
     "name": "stdout",
     "output_type": "stream",
     "text": [
      "['Dog', 8, 3.14]\n"
     ]
    }
   ],
   "source": [
    "lt = ['Dog',8,3.14]\n",
    "print(lt)"
   ]
  },
  {
   "cell_type": "markdown",
   "id": "a8b3728d-3903-41a8-9293-df8b2f2b6681",
   "metadata": {},
   "source": [
    "Dict - strings as keys, int as values"
   ]
  },
  {
   "cell_type": "code",
   "execution_count": 7,
   "id": "503ea802-f225-41a0-8b95-1a2956c05ed7",
   "metadata": {},
   "outputs": [
    {
     "name": "stdout",
     "output_type": "stream",
     "text": [
      "{'Arsenal': 1, 'Liverpool': 2, 'Chelsea': 3}\n"
     ]
    }
   ],
   "source": [
    "dt = {'Arsenal':1, 'Liverpool':2,'Chelsea':3}\n",
    "print(dt)"
   ]
  },
  {
   "cell_type": "raw",
   "id": "600a1366-8123-4da5-a36c-1c00689948b6",
   "metadata": {},
   "source": [
    "set"
   ]
  },
  {
   "cell_type": "code",
   "execution_count": 8,
   "id": "eceabbe6-5617-482c-971f-b1060cb22e97",
   "metadata": {},
   "outputs": [
    {
     "name": "stdout",
     "output_type": "stream",
     "text": [
      "{'s', 'i', 'M', 'p'}\n"
     ]
    }
   ],
   "source": [
    "myset = set('Mississippi')\n",
    "print(myset)"
   ]
  },
  {
   "cell_type": "markdown",
   "id": "58bc99ec",
   "metadata": {
    "tags": []
   },
   "source": [
    "File I/o"
   ]
  },
  {
   "cell_type": "code",
   "execution_count": 1,
   "id": "116df09f",
   "metadata": {},
   "outputs": [],
   "source": [
    "with open('test1.txt',mode = 'w') as t:\n",
    "    t.write('Hello World')"
   ]
  },
  {
   "cell_type": "code",
   "execution_count": 2,
   "id": "5bb6c778",
   "metadata": {},
   "outputs": [
    {
     "name": "stdout",
     "output_type": "stream",
     "text": [
      "Hello World\n"
     ]
    }
   ],
   "source": [
    "with open('test1.txt',mode = 'r') as t:\n",
    "   print(t.read())"
   ]
  }
 ],
 "metadata": {
  "kernelspec": {
   "display_name": "Python 3",
   "language": "python",
   "name": "python3"
  },
  "language_info": {
   "codemirror_mode": {
    "name": "ipython",
    "version": 3
   },
   "file_extension": ".py",
   "mimetype": "text/x-python",
   "name": "python",
   "nbconvert_exporter": "python",
   "pygments_lexer": "ipython3",
   "version": "3.8.8"
  }
 },
 "nbformat": 4,
 "nbformat_minor": 5
}
