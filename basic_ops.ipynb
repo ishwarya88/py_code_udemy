{
 "cells": [
  {
   "cell_type": "markdown",
   "id": "6b9d5abf-9747-4f0d-a4c6-144409a5c7fe",
   "metadata": {},
   "source": [
    "Basic number ops"
   ]
  },
  {
   "cell_type": "code",
   "execution_count": null,
   "id": "80dcc43b",
   "metadata": {},
   "outputs": [],
   "source": []
  },
  {
   "cell_type": "code",
   "execution_count": 1,
   "id": "7a225fae-a9ce-4135-82d5-385f5578830c",
   "metadata": {},
   "outputs": [
    {
     "data": {
      "text/plain": [
       "3"
      ]
     },
     "execution_count": 1,
     "metadata": {},
     "output_type": "execute_result"
    }
   ],
   "source": [
    "2+1"
   ]
  },
  {
   "cell_type": "code",
   "execution_count": 3,
   "id": "fbd7138f-8761-4c81-8b98-d7d6d9f1b14d",
   "metadata": {},
   "outputs": [
    {
     "data": {
      "text/plain": [
       "3"
      ]
     },
     "execution_count": 3,
     "metadata": {},
     "output_type": "execute_result"
    }
   ],
   "source": [
    "6-3"
   ]
  },
  {
   "cell_type": "code",
   "execution_count": 4,
   "id": "b96ae0b5-669e-4518-aad8-dc8bb2c8efc6",
   "metadata": {},
   "outputs": [
    {
     "data": {
      "text/plain": [
       "10"
      ]
     },
     "execution_count": 4,
     "metadata": {},
     "output_type": "execute_result"
    }
   ],
   "source": [
    "2*5"
   ]
  },
  {
   "cell_type": "markdown",
   "id": "2de478ae-2ffc-4175-9666-3bbf27f36e03",
   "metadata": {
    "tags": []
   },
   "source": [
    "Divison opr "
   ]
  },
  {
   "cell_type": "code",
   "execution_count": 7,
   "id": "49d54ffe-adc3-441c-965b-48b7f2b0a66d",
   "metadata": {},
   "outputs": [
    {
     "data": {
      "text/plain": [
       "2.5"
      ]
     },
     "execution_count": 7,
     "metadata": {},
     "output_type": "execute_result"
    }
   ],
   "source": [
    "5/2"
   ]
  },
  {
   "cell_type": "code",
   "execution_count": null,
   "id": "12be847c-00ad-4969-86f4-eb491bde6790",
   "metadata": {},
   "outputs": [],
   "source": [
    "Modulus opr"
   ]
  },
  {
   "cell_type": "code",
   "execution_count": 6,
   "id": "e059fd99-a3b1-47a2-87c8-48653649a8ce",
   "metadata": {},
   "outputs": [
    {
     "data": {
      "text/plain": [
       "2"
      ]
     },
     "execution_count": 6,
     "metadata": {},
     "output_type": "execute_result"
    }
   ],
   "source": [
    "5//2"
   ]
  },
  {
   "cell_type": "markdown",
   "id": "91c1b979-a99c-484c-a629-e72052d316c0",
   "metadata": {},
   "source": [
    "percentage"
   ]
  },
  {
   "cell_type": "code",
   "execution_count": 8,
   "id": "906c768a-b17a-43e1-b72e-498642f4cd33",
   "metadata": {},
   "outputs": [
    {
     "data": {
      "text/plain": [
       "0"
      ]
     },
     "execution_count": 8,
     "metadata": {},
     "output_type": "execute_result"
    }
   ],
   "source": [
    "100%5"
   ]
  },
  {
   "cell_type": "code",
   "execution_count": 9,
   "id": "9134c78e-2338-4158-8ce9-8eab924cd030",
   "metadata": {},
   "outputs": [
    {
     "data": {
      "text/plain": [
       "4"
      ]
     },
     "execution_count": 9,
     "metadata": {},
     "output_type": "execute_result"
    }
   ],
   "source": [
    "100%6"
   ]
  },
  {
   "cell_type": "markdown",
   "id": "4c5d033e-4e43-42a8-8baf-de32c3c848de",
   "metadata": {},
   "source": [
    "power opr"
   ]
  },
  {
   "cell_type": "code",
   "execution_count": 10,
   "id": "afdde0ef-9b48-4054-b147-9fe89cf956ae",
   "metadata": {},
   "outputs": [
    {
     "data": {
      "text/plain": [
       "64"
      ]
     },
     "execution_count": 10,
     "metadata": {},
     "output_type": "execute_result"
    }
   ],
   "source": [
    "4**3"
   ]
  },
  {
   "cell_type": "markdown",
   "id": "efea321d-5e13-4631-856a-bfcf493f46e1",
   "metadata": {},
   "source": [
    "Bodmos"
   ]
  },
  {
   "cell_type": "code",
   "execution_count": 11,
   "id": "70519de5-c5a4-4e74-b71d-38f780f0e790",
   "metadata": {},
   "outputs": [
    {
     "data": {
      "text/plain": [
       "19.0"
      ]
     },
     "execution_count": 11,
     "metadata": {},
     "output_type": "execute_result"
    }
   ],
   "source": [
    "4  + 5 * 6 / 2"
   ]
  },
  {
   "cell_type": "code",
   "execution_count": 12,
   "id": "e77328dd-c819-4119-9c7c-fa19f4a896b6",
   "metadata": {},
   "outputs": [
    {
     "data": {
      "text/plain": [
       "27.0"
      ]
     },
     "execution_count": 12,
     "metadata": {},
     "output_type": "execute_result"
    }
   ],
   "source": [
    "(4  + 5) * 6 / 2"
   ]
  },
  {
   "cell_type": "markdown",
   "id": "53e9e136-70fb-425a-8a64-479770106e21",
   "metadata": {},
   "source": [
    "Variables allocation"
   ]
  },
  {
   "cell_type": "code",
   "execution_count": 13,
   "id": "b99b1eed-ab7e-487b-a4dc-fd4be706aaf1",
   "metadata": {},
   "outputs": [],
   "source": [
    "x = 5"
   ]
  },
  {
   "cell_type": "code",
   "execution_count": 14,
   "id": "d76c93cf-c0ec-4df5-a54a-7ee6755ba5f5",
   "metadata": {},
   "outputs": [
    {
     "data": {
      "text/plain": [
       "5"
      ]
     },
     "execution_count": 14,
     "metadata": {},
     "output_type": "execute_result"
    }
   ],
   "source": [
    "x"
   ]
  },
  {
   "cell_type": "code",
   "execution_count": 15,
   "id": "ec10d70b-b5e0-49b9-b2e8-c4c8cf0cd7c4",
   "metadata": {},
   "outputs": [],
   "source": [
    "x = 10"
   ]
  },
  {
   "cell_type": "code",
   "execution_count": 16,
   "id": "728f9931-f14b-413a-9e41-5570c67011b1",
   "metadata": {},
   "outputs": [
    {
     "data": {
      "text/plain": [
       "10"
      ]
     },
     "execution_count": 16,
     "metadata": {},
     "output_type": "execute_result"
    }
   ],
   "source": [
    "x"
   ]
  },
  {
   "cell_type": "code",
   "execution_count": 18,
   "id": "d6f93c38-978f-4516-8c82-af751bf654f0",
   "metadata": {},
   "outputs": [],
   "source": [
    "income = 100\n",
    "tax_rate = 0.40\n",
    "tax = income * tax_rate"
   ]
  },
  {
   "cell_type": "code",
   "execution_count": 19,
   "id": "67b5fea1-16e1-439e-b0d3-c0825fab6538",
   "metadata": {},
   "outputs": [
    {
     "data": {
      "text/plain": [
       "40.0"
      ]
     },
     "execution_count": 19,
     "metadata": {},
     "output_type": "execute_result"
    }
   ],
   "source": [
    "tax"
   ]
  },
  {
   "cell_type": "markdown",
   "id": "c3e08f32-ef70-4a3c-a167-d60e730f3aab",
   "metadata": {},
   "source": [
    "String Ops"
   ]
  },
  {
   "cell_type": "code",
   "execution_count": 20,
   "id": "9c552742-bd74-4b9e-90f6-70d099393c8a",
   "metadata": {},
   "outputs": [
    {
     "data": {
      "text/plain": [
       "'single quote string'"
      ]
     },
     "execution_count": 20,
     "metadata": {},
     "output_type": "execute_result"
    }
   ],
   "source": [
    "'single quote string'"
   ]
  },
  {
   "cell_type": "code",
   "execution_count": 21,
   "id": "62848739-da91-4e78-9ed8-46f018c7c462",
   "metadata": {},
   "outputs": [
    {
     "data": {
      "text/plain": [
       "'double quote str'"
      ]
     },
     "execution_count": 21,
     "metadata": {},
     "output_type": "execute_result"
    }
   ],
   "source": [
    "\"double quote str\""
   ]
  },
  {
   "cell_type": "code",
   "execution_count": 22,
   "id": "58741cfa-136f-4326-bd61-e0ab8403a4ff",
   "metadata": {},
   "outputs": [
    {
     "data": {
      "text/plain": [
       "\"Let's go\""
      ]
     },
     "execution_count": 22,
     "metadata": {},
     "output_type": "execute_result"
    }
   ],
   "source": [
    "\"Let's go\""
   ]
  },
  {
   "cell_type": "code",
   "execution_count": 23,
   "id": "d1884d21-d652-4aa4-81b7-8740f1eeb7d1",
   "metadata": {},
   "outputs": [
    {
     "name": "stdout",
     "output_type": "stream",
     "text": [
      "hello \n",
      " let's go\n"
     ]
    }
   ],
   "source": [
    "print(\"hello \\n let's go\")"
   ]
  },
  {
   "cell_type": "code",
   "execution_count": 24,
   "id": "5ce13664-7a1a-4d3a-badf-469b2d7e0c4d",
   "metadata": {},
   "outputs": [
    {
     "name": "stdout",
     "output_type": "stream",
     "text": [
      "hello \t let's go\n"
     ]
    }
   ],
   "source": [
    "print(\"hello \\t let's go\")"
   ]
  },
  {
   "cell_type": "code",
   "execution_count": 25,
   "id": "c9032a33-4e32-40c4-960c-d094acf96bcd",
   "metadata": {},
   "outputs": [
    {
     "data": {
      "text/plain": [
       "6"
      ]
     },
     "execution_count": 25,
     "metadata": {},
     "output_type": "execute_result"
    }
   ],
   "source": [
    "len('Python')"
   ]
  },
  {
   "cell_type": "code",
   "execution_count": 26,
   "id": "0755774c-5210-417e-ab74-0a061387ad6a",
   "metadata": {},
   "outputs": [
    {
     "data": {
      "text/plain": [
       "8"
      ]
     },
     "execution_count": 26,
     "metadata": {},
     "output_type": "execute_result"
    }
   ],
   "source": [
    "len(' python ')"
   ]
  },
  {
   "cell_type": "markdown",
   "id": "2d35e10e-c222-4465-97d1-d2cb0a1e001b",
   "metadata": {},
   "source": [
    "String indexing"
   ]
  },
  {
   "cell_type": "code",
   "execution_count": 28,
   "id": "ea622364-0504-492f-a9bb-41ea10c2938e",
   "metadata": {},
   "outputs": [],
   "source": [
    "st = 'Python'"
   ]
  },
  {
   "cell_type": "code",
   "execution_count": 29,
   "id": "c5d39635-849e-4e56-89a0-50d7f789693e",
   "metadata": {},
   "outputs": [
    {
     "data": {
      "text/plain": [
       "'Python'"
      ]
     },
     "execution_count": 29,
     "metadata": {},
     "output_type": "execute_result"
    }
   ],
   "source": [
    "st"
   ]
  },
  {
   "cell_type": "code",
   "execution_count": 30,
   "id": "2875be76-d0a8-49cc-aa50-2fb99cd24b26",
   "metadata": {},
   "outputs": [
    {
     "data": {
      "text/plain": [
       "'t'"
      ]
     },
     "execution_count": 30,
     "metadata": {},
     "output_type": "execute_result"
    }
   ],
   "source": [
    "st[2]"
   ]
  },
  {
   "cell_type": "code",
   "execution_count": 31,
   "id": "1143040d-022a-4544-a514-d04546f5e701",
   "metadata": {},
   "outputs": [
    {
     "data": {
      "text/plain": [
       "'Pyt'"
      ]
     },
     "execution_count": 31,
     "metadata": {},
     "output_type": "execute_result"
    }
   ],
   "source": [
    "st[0:3]"
   ]
  },
  {
   "cell_type": "code",
   "execution_count": 36,
   "id": "5f1deba9-7331-47ba-8c29-63421e5c78c4",
   "metadata": {},
   "outputs": [
    {
     "data": {
      "text/plain": [
       "'Pytho'"
      ]
     },
     "execution_count": 36,
     "metadata": {},
     "output_type": "execute_result"
    }
   ],
   "source": [
    "st[:-1]"
   ]
  },
  {
   "cell_type": "code",
   "execution_count": 37,
   "id": "306b5498-f0ff-4792-837a-c4b41db371e4",
   "metadata": {},
   "outputs": [
    {
     "data": {
      "text/plain": [
       "'hon'"
      ]
     },
     "execution_count": 37,
     "metadata": {},
     "output_type": "execute_result"
    }
   ],
   "source": [
    "st[3:]"
   ]
  },
  {
   "cell_type": "code",
   "execution_count": 38,
   "id": "f5d99643-66b4-4d50-9c2c-1a05f4b51934",
   "metadata": {},
   "outputs": [
    {
     "data": {
      "text/plain": [
       "'yth'"
      ]
     },
     "execution_count": 38,
     "metadata": {},
     "output_type": "execute_result"
    }
   ],
   "source": [
    "st[1:4]"
   ]
  },
  {
   "cell_type": "code",
   "execution_count": 39,
   "id": "c2b02439-5a6e-492e-ac20-70ddfdbed26a",
   "metadata": {},
   "outputs": [],
   "source": [
    "st_1 = 'abcedefghi'"
   ]
  },
  {
   "cell_type": "code",
   "execution_count": 40,
   "id": "86365a44-f44f-48fc-a88d-ad274769c908",
   "metadata": {},
   "outputs": [
    {
     "data": {
      "text/plain": [
       "'aefi'"
      ]
     },
     "execution_count": 40,
     "metadata": {},
     "output_type": "execute_result"
    }
   ],
   "source": [
    "st_1[::3]"
   ]
  },
  {
   "cell_type": "code",
   "execution_count": 41,
   "id": "eeb4c29e-550e-43eb-a216-2b78916242f4",
   "metadata": {},
   "outputs": [
    {
     "data": {
      "text/plain": [
       "'ae'"
      ]
     },
     "execution_count": 41,
     "metadata": {},
     "output_type": "execute_result"
    }
   ],
   "source": [
    "st_1[::5]"
   ]
  },
  {
   "cell_type": "code",
   "execution_count": 42,
   "id": "624806b5-2ce8-436f-94ca-01dc3ec3ba3d",
   "metadata": {},
   "outputs": [
    {
     "data": {
      "text/plain": [
       "'cdfh'"
      ]
     },
     "execution_count": 42,
     "metadata": {},
     "output_type": "execute_result"
    }
   ],
   "source": [
    "st_1[2::2]"
   ]
  },
  {
   "cell_type": "code",
   "execution_count": 43,
   "id": "d974c658-e9ee-45a2-83e4-d18296c02407",
   "metadata": {},
   "outputs": [
    {
     "data": {
      "text/plain": [
       "'cdf'"
      ]
     },
     "execution_count": 43,
     "metadata": {},
     "output_type": "execute_result"
    }
   ],
   "source": [
    "st_1[2:7:2]"
   ]
  },
  {
   "cell_type": "markdown",
   "id": "18be3f37",
   "metadata": {},
   "source": [
    "String Concatenation // strings are immutable"
   ]
  },
  {
   "cell_type": "code",
   "execution_count": 2,
   "id": "487b8fa3",
   "metadata": {},
   "outputs": [],
   "source": [
    "a = 'hai'"
   ]
  },
  {
   "cell_type": "code",
   "execution_count": 3,
   "id": "fe70892a",
   "metadata": {},
   "outputs": [
    {
     "data": {
      "text/plain": [
       "'hai'"
      ]
     },
     "execution_count": 3,
     "metadata": {},
     "output_type": "execute_result"
    }
   ],
   "source": [
    "a"
   ]
  },
  {
   "cell_type": "code",
   "execution_count": 4,
   "id": "9ae3715b",
   "metadata": {},
   "outputs": [],
   "source": [
    "last_letters = a[1:]"
   ]
  },
  {
   "cell_type": "code",
   "execution_count": 5,
   "id": "1b94b773",
   "metadata": {},
   "outputs": [
    {
     "data": {
      "text/plain": [
       "'ai'"
      ]
     },
     "execution_count": 5,
     "metadata": {},
     "output_type": "execute_result"
    }
   ],
   "source": [
    "last_letters"
   ]
  },
  {
   "cell_type": "code",
   "execution_count": 6,
   "id": "eba3a3fd",
   "metadata": {},
   "outputs": [
    {
     "data": {
      "text/plain": [
       "'jai'"
      ]
     },
     "execution_count": 6,
     "metadata": {},
     "output_type": "execute_result"
    }
   ],
   "source": [
    "'j' + last_letters"
   ]
  },
  {
   "cell_type": "markdown",
   "id": "a7a2bffd",
   "metadata": {},
   "source": [
    "Letters multiplication"
   ]
  },
  {
   "cell_type": "code",
   "execution_count": 7,
   "id": "a87e0d6e",
   "metadata": {},
   "outputs": [],
   "source": [
    "letter = 'i'"
   ]
  },
  {
   "cell_type": "code",
   "execution_count": 8,
   "id": "5f3848de",
   "metadata": {},
   "outputs": [
    {
     "data": {
      "text/plain": [
       "'iiiiiiii'"
      ]
     },
     "execution_count": 8,
     "metadata": {},
     "output_type": "execute_result"
    }
   ],
   "source": [
    "letter * 8"
   ]
  },
  {
   "cell_type": "markdown",
   "id": "2ea798a9",
   "metadata": {},
   "source": [
    "methods "
   ]
  },
  {
   "cell_type": "code",
   "execution_count": 9,
   "id": "e893827a",
   "metadata": {},
   "outputs": [],
   "source": [
    "x = 'Python'"
   ]
  },
  {
   "cell_type": "code",
   "execution_count": 10,
   "id": "e4c09e5c",
   "metadata": {},
   "outputs": [
    {
     "data": {
      "text/plain": [
       "'PYTHON'"
      ]
     },
     "execution_count": 10,
     "metadata": {},
     "output_type": "execute_result"
    }
   ],
   "source": [
    "x.upper()"
   ]
  },
  {
   "cell_type": "code",
   "execution_count": 11,
   "id": "74536821",
   "metadata": {},
   "outputs": [],
   "source": [
    "y = 'arsenal'"
   ]
  },
  {
   "cell_type": "code",
   "execution_count": 12,
   "id": "22d4f9a7",
   "metadata": {},
   "outputs": [
    {
     "data": {
      "text/plain": [
       "'Arsenal'"
      ]
     },
     "execution_count": 12,
     "metadata": {},
     "output_type": "execute_result"
    }
   ],
   "source": [
    "y.title()"
   ]
  },
  {
   "cell_type": "code",
   "execution_count": 13,
   "id": "3a8fb428",
   "metadata": {},
   "outputs": [
    {
     "data": {
      "text/plain": [
       "'arsenal'"
      ]
     },
     "execution_count": 13,
     "metadata": {},
     "output_type": "execute_result"
    }
   ],
   "source": [
    "y.lower()"
   ]
  },
  {
   "cell_type": "code",
   "execution_count": 14,
   "id": "62720070",
   "metadata": {},
   "outputs": [],
   "source": [
    "z = 'This is a sample code'"
   ]
  },
  {
   "cell_type": "code",
   "execution_count": 15,
   "id": "0a5110fe",
   "metadata": {},
   "outputs": [
    {
     "data": {
      "text/plain": [
       "['This', 'is', 'a', 'sample', 'code']"
      ]
     },
     "execution_count": 15,
     "metadata": {},
     "output_type": "execute_result"
    }
   ],
   "source": [
    "z.split()"
   ]
  },
  {
   "cell_type": "markdown",
   "id": "a089f205",
   "metadata": {},
   "source": [
    "Print formatting"
   ]
  },
  {
   "cell_type": "markdown",
   "id": "92130e60",
   "metadata": {},
   "source": [
    "Method 1 // .format"
   ]
  },
  {
   "cell_type": "code",
   "execution_count": 16,
   "id": "4b28fab9",
   "metadata": {},
   "outputs": [
    {
     "name": "stdout",
     "output_type": "stream",
     "text": [
      "Hello This is python\n"
     ]
    }
   ],
   "source": [
    "print('Hello {} {} {}'.format('This','is','python'))"
   ]
  },
  {
   "cell_type": "code",
   "execution_count": 17,
   "id": "b0b44862",
   "metadata": {},
   "outputs": [
    {
     "name": "stdout",
     "output_type": "stream",
     "text": [
      "Hello this is python\n"
     ]
    }
   ],
   "source": [
    "print('Hello {2} {0} {1}'.format('is','python','this'))"
   ]
  },
  {
   "cell_type": "code",
   "execution_count": 18,
   "id": "b35a4062",
   "metadata": {
    "scrolled": true
   },
   "outputs": [
    {
     "name": "stdout",
     "output_type": "stream",
     "text": [
      "Hello is python this\n"
     ]
    }
   ],
   "source": [
    "print('Hello {} {} {}'.format('is','python','this'))"
   ]
  },
  {
   "cell_type": "code",
   "execution_count": 19,
   "id": "16304d2f",
   "metadata": {},
   "outputs": [
    {
     "name": "stdout",
     "output_type": "stream",
     "text": [
      "Hello python python python\n"
     ]
    }
   ],
   "source": [
    "print('Hello {1} {1} {1}'.format('is','python','this'))"
   ]
  },
  {
   "cell_type": "markdown",
   "id": "d3a88710",
   "metadata": {},
   "source": [
    "assigning keys "
   ]
  },
  {
   "cell_type": "code",
   "execution_count": 20,
   "id": "cb55a3b8",
   "metadata": {},
   "outputs": [
    {
     "name": "stdout",
     "output_type": "stream",
     "text": [
      "Hello This is python\n"
     ]
    }
   ],
   "source": [
    "print('Hello {t} {i} {p}'.format(t='This',i='is',p='python'))"
   ]
  },
  {
   "cell_type": "markdown",
   "id": "31c1739d",
   "metadata": {},
   "source": [
    "// float format - {value:width.precision f}"
   ]
  },
  {
   "cell_type": "code",
   "execution_count": 21,
   "id": "8d739e33",
   "metadata": {},
   "outputs": [],
   "source": [
    "res = 100/666"
   ]
  },
  {
   "cell_type": "code",
   "execution_count": 22,
   "id": "23add1e3",
   "metadata": {},
   "outputs": [
    {
     "data": {
      "text/plain": [
       "0.15015015015015015"
      ]
     },
     "execution_count": 22,
     "metadata": {},
     "output_type": "execute_result"
    }
   ],
   "source": [
    "res"
   ]
  },
  {
   "cell_type": "code",
   "execution_count": 23,
   "id": "0f0b677e",
   "metadata": {},
   "outputs": [
    {
     "name": "stdout",
     "output_type": "stream",
     "text": [
      "the result is 0.15015015015015015\n"
     ]
    }
   ],
   "source": [
    "print('the result is {r}'.format(r=res))"
   ]
  },
  {
   "cell_type": "code",
   "execution_count": 24,
   "id": "63749bb5",
   "metadata": {},
   "outputs": [
    {
     "name": "stdout",
     "output_type": "stream",
     "text": [
      "the result is 0.15015\n"
     ]
    }
   ],
   "source": [
    "print('the result is {r:1.5}'.format(r=res))"
   ]
  },
  {
   "cell_type": "code",
   "execution_count": 25,
   "id": "8fe15ee0",
   "metadata": {},
   "outputs": [],
   "source": [
    "val = 123.45678"
   ]
  },
  {
   "cell_type": "code",
   "execution_count": 27,
   "id": "13a7ac9f",
   "metadata": {},
   "outputs": [
    {
     "name": "stdout",
     "output_type": "stream",
     "text": [
      "the value is 123.46\n"
     ]
    }
   ],
   "source": [
    "print('the value is {v:1.2f}'.format(v=val))"
   ]
  },
  {
   "cell_type": "code",
   "execution_count": 29,
   "id": "00aade5f",
   "metadata": {},
   "outputs": [
    {
     "name": "stdout",
     "output_type": "stream",
     "text": [
      "the value is     123.46\n"
     ]
    }
   ],
   "source": [
    "print('the value is {v:10.2f}'.format(v=val))"
   ]
  },
  {
   "cell_type": "markdown",
   "id": "b02285bd",
   "metadata": {},
   "source": [
    "f string method"
   ]
  },
  {
   "cell_type": "code",
   "execution_count": 30,
   "id": "903fc004",
   "metadata": {},
   "outputs": [],
   "source": [
    "name = 'Tom'\n",
    "age = 6"
   ]
  },
  {
   "cell_type": "code",
   "execution_count": 31,
   "id": "c47742bd",
   "metadata": {},
   "outputs": [
    {
     "name": "stdout",
     "output_type": "stream",
     "text": [
      "Tom is 6 years old!\n"
     ]
    }
   ],
   "source": [
    "print(f'{name} is {age} years old!')"
   ]
  },
  {
   "cell_type": "markdown",
   "id": "878b2721",
   "metadata": {},
   "source": [
    "Lists"
   ]
  },
  {
   "cell_type": "code",
   "execution_count": 32,
   "id": "562e68fe",
   "metadata": {},
   "outputs": [],
   "source": [
    "list_1 = [1,2,3]"
   ]
  },
  {
   "cell_type": "code",
   "execution_count": 33,
   "id": "ece32d9e",
   "metadata": {},
   "outputs": [],
   "source": [
    "list_2 = ['Dog','8','3.14']"
   ]
  },
  {
   "cell_type": "code",
   "execution_count": 34,
   "id": "7925160f",
   "metadata": {},
   "outputs": [
    {
     "data": {
      "text/plain": [
       "3"
      ]
     },
     "execution_count": 34,
     "metadata": {},
     "output_type": "execute_result"
    }
   ],
   "source": [
    "len(list_2)"
   ]
  },
  {
   "cell_type": "code",
   "execution_count": 35,
   "id": "3018b4c9",
   "metadata": {},
   "outputs": [
    {
     "data": {
      "text/plain": [
       "'8'"
      ]
     },
     "execution_count": 35,
     "metadata": {},
     "output_type": "execute_result"
    }
   ],
   "source": [
    "list_2[1]"
   ]
  },
  {
   "cell_type": "code",
   "execution_count": 36,
   "id": "e8a1db86",
   "metadata": {},
   "outputs": [
    {
     "data": {
      "text/plain": [
       "['8', '3.14']"
      ]
     },
     "execution_count": 36,
     "metadata": {},
     "output_type": "execute_result"
    }
   ],
   "source": [
    "list_2[1:]"
   ]
  },
  {
   "cell_type": "code",
   "execution_count": 37,
   "id": "e5f59c89",
   "metadata": {},
   "outputs": [],
   "source": [
    "list_3 = ['cat','rat']"
   ]
  },
  {
   "cell_type": "code",
   "execution_count": 41,
   "id": "4b097b66",
   "metadata": {},
   "outputs": [],
   "source": [
    "new_list = list_2 + list_3"
   ]
  },
  {
   "cell_type": "code",
   "execution_count": 42,
   "id": "c14bbaa0",
   "metadata": {},
   "outputs": [
    {
     "data": {
      "text/plain": [
       "['Dog', '8', '3.14', 'cat', 'rat']"
      ]
     },
     "execution_count": 42,
     "metadata": {},
     "output_type": "execute_result"
    }
   ],
   "source": [
    "new_list"
   ]
  },
  {
   "cell_type": "code",
   "execution_count": 43,
   "id": "37e3e239",
   "metadata": {},
   "outputs": [],
   "source": [
    "new_list[3] = 'CAT'"
   ]
  },
  {
   "cell_type": "code",
   "execution_count": 44,
   "id": "5a2a771d",
   "metadata": {},
   "outputs": [
    {
     "data": {
      "text/plain": [
       "['Dog', '8', '3.14', 'CAT', 'rat']"
      ]
     },
     "execution_count": 44,
     "metadata": {},
     "output_type": "execute_result"
    }
   ],
   "source": [
    "new_list"
   ]
  },
  {
   "cell_type": "code",
   "execution_count": 45,
   "id": "bfa1642f",
   "metadata": {},
   "outputs": [],
   "source": [
    "new_list.append('dragon')"
   ]
  },
  {
   "cell_type": "code",
   "execution_count": 46,
   "id": "32dab14e",
   "metadata": {},
   "outputs": [
    {
     "data": {
      "text/plain": [
       "['Dog', '8', '3.14', 'CAT', 'rat', 'dragon']"
      ]
     },
     "execution_count": 46,
     "metadata": {},
     "output_type": "execute_result"
    }
   ],
   "source": [
    "new_list"
   ]
  },
  {
   "cell_type": "code",
   "execution_count": 48,
   "id": "a63dc44e",
   "metadata": {},
   "outputs": [
    {
     "data": {
      "text/plain": [
       "'dragon'"
      ]
     },
     "execution_count": 48,
     "metadata": {},
     "output_type": "execute_result"
    }
   ],
   "source": [
    "new_list.pop()"
   ]
  },
  {
   "cell_type": "code",
   "execution_count": 53,
   "id": "35a8e9a9",
   "metadata": {},
   "outputs": [
    {
     "data": {
      "text/plain": [
       "['Dog', '3.14', 'CAT', 'rat']"
      ]
     },
     "execution_count": 53,
     "metadata": {},
     "output_type": "execute_result"
    }
   ],
   "source": [
    "new_list"
   ]
  },
  {
   "cell_type": "markdown",
   "id": "a60a7ec0",
   "metadata": {},
   "source": [
    "sorting"
   ]
  },
  {
   "cell_type": "code",
   "execution_count": 54,
   "id": "83fc58a3",
   "metadata": {},
   "outputs": [],
   "source": [
    "l1 = ['a','r','e','c','i']\n",
    "l2 = [1,4,2,7,0]"
   ]
  },
  {
   "cell_type": "code",
   "execution_count": 55,
   "id": "8b7cf5f9",
   "metadata": {},
   "outputs": [],
   "source": [
    "l1.sort()"
   ]
  },
  {
   "cell_type": "code",
   "execution_count": 56,
   "id": "155a9807",
   "metadata": {},
   "outputs": [
    {
     "data": {
      "text/plain": [
       "['a', 'c', 'e', 'i', 'r']"
      ]
     },
     "execution_count": 56,
     "metadata": {},
     "output_type": "execute_result"
    }
   ],
   "source": [
    "l1"
   ]
  },
  {
   "cell_type": "code",
   "execution_count": 57,
   "id": "9ceea997",
   "metadata": {},
   "outputs": [
    {
     "data": {
      "text/plain": [
       "[1, 4, 2, 7, 0]"
      ]
     },
     "execution_count": 57,
     "metadata": {},
     "output_type": "execute_result"
    }
   ],
   "source": [
    "l2"
   ]
  },
  {
   "cell_type": "code",
   "execution_count": 58,
   "id": "e2a92320",
   "metadata": {},
   "outputs": [],
   "source": [
    "l2.sort()"
   ]
  },
  {
   "cell_type": "code",
   "execution_count": 59,
   "id": "ca058468",
   "metadata": {},
   "outputs": [
    {
     "data": {
      "text/plain": [
       "[0, 1, 2, 4, 7]"
      ]
     },
     "execution_count": 59,
     "metadata": {},
     "output_type": "execute_result"
    }
   ],
   "source": [
    "l2"
   ]
  },
  {
   "cell_type": "code",
   "execution_count": 60,
   "id": "49375bf8",
   "metadata": {},
   "outputs": [],
   "source": [
    "l2.reverse()"
   ]
  },
  {
   "cell_type": "code",
   "execution_count": 61,
   "id": "074e8595",
   "metadata": {},
   "outputs": [
    {
     "data": {
      "text/plain": [
       "[7, 4, 2, 1, 0]"
      ]
     },
     "execution_count": 61,
     "metadata": {},
     "output_type": "execute_result"
    }
   ],
   "source": [
    "l2"
   ]
  },
  {
   "cell_type": "markdown",
   "id": "c2903343",
   "metadata": {},
   "source": [
    "Dictionaries"
   ]
  },
  {
   "cell_type": "code",
   "execution_count": 62,
   "id": "2cb6de47",
   "metadata": {},
   "outputs": [],
   "source": [
    "my_dict = {1:'apple',2:'mango',3:'guava'}"
   ]
  },
  {
   "cell_type": "code",
   "execution_count": 63,
   "id": "06094794",
   "metadata": {},
   "outputs": [
    {
     "data": {
      "text/plain": [
       "{1: 'apple', 2: 'mango', 3: 'guava'}"
      ]
     },
     "execution_count": 63,
     "metadata": {},
     "output_type": "execute_result"
    }
   ],
   "source": [
    "my_dict"
   ]
  },
  {
   "cell_type": "code",
   "execution_count": 64,
   "id": "55ae3878",
   "metadata": {},
   "outputs": [
    {
     "data": {
      "text/plain": [
       "'mango'"
      ]
     },
     "execution_count": 64,
     "metadata": {},
     "output_type": "execute_result"
    }
   ],
   "source": [
    "my_dict[2]"
   ]
  },
  {
   "cell_type": "code",
   "execution_count": 65,
   "id": "f8408c74",
   "metadata": {},
   "outputs": [],
   "source": [
    "nd = {'d1':45,'d2':[1,2,3],'d3':{'loop'}}"
   ]
  },
  {
   "cell_type": "code",
   "execution_count": 66,
   "id": "e155e408",
   "metadata": {},
   "outputs": [
    {
     "data": {
      "text/plain": [
       "{'d1': 45, 'd2': [1, 2, 3], 'd3': {'loop'}}"
      ]
     },
     "execution_count": 66,
     "metadata": {},
     "output_type": "execute_result"
    }
   ],
   "source": [
    "nd"
   ]
  },
  {
   "cell_type": "code",
   "execution_count": 67,
   "id": "236ce2c8",
   "metadata": {},
   "outputs": [
    {
     "data": {
      "text/plain": [
       "{'loop'}"
      ]
     },
     "execution_count": 67,
     "metadata": {},
     "output_type": "execute_result"
    }
   ],
   "source": [
    "nd['d3']"
   ]
  },
  {
   "cell_type": "code",
   "execution_count": 68,
   "id": "1e2593d5",
   "metadata": {},
   "outputs": [
    {
     "data": {
      "text/plain": [
       "[1, 2, 3]"
      ]
     },
     "execution_count": 68,
     "metadata": {},
     "output_type": "execute_result"
    }
   ],
   "source": [
    "nd['d2']"
   ]
  },
  {
   "cell_type": "code",
   "execution_count": 70,
   "id": "4b049d94",
   "metadata": {},
   "outputs": [
    {
     "data": {
      "text/plain": [
       "3"
      ]
     },
     "execution_count": 70,
     "metadata": {},
     "output_type": "execute_result"
    }
   ],
   "source": [
    "nd['d2'][2]"
   ]
  },
  {
   "cell_type": "code",
   "execution_count": 71,
   "id": "29951c4f",
   "metadata": {},
   "outputs": [],
   "source": [
    "nd['d4'] = 'ext'"
   ]
  },
  {
   "cell_type": "code",
   "execution_count": 72,
   "id": "1aba7c46",
   "metadata": {},
   "outputs": [
    {
     "data": {
      "text/plain": [
       "{'d1': 45, 'd2': [1, 2, 3], 'd3': {'loop'}, 'd4': 'ext'}"
      ]
     },
     "execution_count": 72,
     "metadata": {},
     "output_type": "execute_result"
    }
   ],
   "source": [
    "nd"
   ]
  },
  {
   "cell_type": "code",
   "execution_count": 73,
   "id": "4f5a199e",
   "metadata": {},
   "outputs": [
    {
     "data": {
      "text/plain": [
       "dict_keys(['d1', 'd2', 'd3', 'd4'])"
      ]
     },
     "execution_count": 73,
     "metadata": {},
     "output_type": "execute_result"
    }
   ],
   "source": [
    "nd.keys()"
   ]
  },
  {
   "cell_type": "code",
   "execution_count": 74,
   "id": "e1024b64",
   "metadata": {},
   "outputs": [
    {
     "data": {
      "text/plain": [
       "dict_values([45, [1, 2, 3], {'loop'}, 'ext'])"
      ]
     },
     "execution_count": 74,
     "metadata": {},
     "output_type": "execute_result"
    }
   ],
   "source": [
    "nd.values()"
   ]
  },
  {
   "cell_type": "code",
   "execution_count": 75,
   "id": "6b76ac9c",
   "metadata": {},
   "outputs": [
    {
     "data": {
      "text/plain": [
       "dict_items([('d1', 45), ('d2', [1, 2, 3]), ('d3', {'loop'}), ('d4', 'ext')])"
      ]
     },
     "execution_count": 75,
     "metadata": {},
     "output_type": "execute_result"
    }
   ],
   "source": [
    "nd.items()"
   ]
  },
  {
   "cell_type": "markdown",
   "id": "a511dc72",
   "metadata": {},
   "source": [
    "Booleans"
   ]
  },
  {
   "cell_type": "code",
   "execution_count": null,
   "id": "0a9e5dc7",
   "metadata": {},
   "outputs": [],
   "source": [
    "True"
   ]
  },
  {
   "cell_type": "code",
   "execution_count": 76,
   "id": "eeda1dc0",
   "metadata": {},
   "outputs": [
    {
     "data": {
      "text/plain": [
       "bool"
      ]
     },
     "execution_count": 76,
     "metadata": {},
     "output_type": "execute_result"
    }
   ],
   "source": [
    "type(True)"
   ]
  },
  {
   "cell_type": "code",
   "execution_count": null,
   "id": "4868024e",
   "metadata": {},
   "outputs": [],
   "source": [
    "False"
   ]
  },
  {
   "cell_type": "code",
   "execution_count": 77,
   "id": "57111be5",
   "metadata": {},
   "outputs": [
    {
     "data": {
      "text/plain": [
       "bool"
      ]
     },
     "execution_count": 77,
     "metadata": {},
     "output_type": "execute_result"
    }
   ],
   "source": [
    "type(False)"
   ]
  },
  {
   "cell_type": "code",
   "execution_count": 78,
   "id": "aeb5cfdf",
   "metadata": {},
   "outputs": [
    {
     "data": {
      "text/plain": [
       "'C:\\\\Users\\\\X238616'"
      ]
     },
     "execution_count": 78,
     "metadata": {},
     "output_type": "execute_result"
    }
   ],
   "source": [
    "pwd"
   ]
  },
  {
   "cell_type": "markdown",
   "id": "3034129a",
   "metadata": {},
   "source": [
    "I/O file "
   ]
  },
  {
   "cell_type": "code",
   "execution_count": 80,
   "id": "fb3355d9",
   "metadata": {},
   "outputs": [
    {
     "name": "stdout",
     "output_type": "stream",
     "text": [
      "Writing file1.txt\n"
     ]
    }
   ],
   "source": [
    "%%writefile file1.txt\n",
    "Sample file creation\n",
    "second line\n",
    "gist\n",
    "paragraph And phrases "
   ]
  },
  {
   "cell_type": "code",
   "execution_count": 83,
   "id": "87db22d1",
   "metadata": {},
   "outputs": [],
   "source": [
    "file1 = open('file1.txt')"
   ]
  },
  {
   "cell_type": "code",
   "execution_count": 84,
   "id": "987b8dfe",
   "metadata": {},
   "outputs": [
    {
     "data": {
      "text/plain": [
       "'Sample file creation\\nsecond line\\ngist\\nparagraph And phrases \\n'"
      ]
     },
     "execution_count": 84,
     "metadata": {},
     "output_type": "execute_result"
    }
   ],
   "source": [
    "file1.read()"
   ]
  },
  {
   "cell_type": "code",
   "execution_count": 85,
   "id": "687f417e",
   "metadata": {},
   "outputs": [
    {
     "data": {
      "text/plain": [
       "''"
      ]
     },
     "execution_count": 85,
     "metadata": {},
     "output_type": "execute_result"
    }
   ],
   "source": [
    "file1.read()"
   ]
  },
  {
   "cell_type": "code",
   "execution_count": 86,
   "id": "984d2487",
   "metadata": {},
   "outputs": [
    {
     "data": {
      "text/plain": [
       "0"
      ]
     },
     "execution_count": 86,
     "metadata": {},
     "output_type": "execute_result"
    }
   ],
   "source": [
    "file1.seek(0)"
   ]
  },
  {
   "cell_type": "code",
   "execution_count": 87,
   "id": "b67692a8",
   "metadata": {},
   "outputs": [
    {
     "data": {
      "text/plain": [
       "'Sample file creation\\nsecond line\\ngist\\nparagraph And phrases \\n'"
      ]
     },
     "execution_count": 87,
     "metadata": {},
     "output_type": "execute_result"
    }
   ],
   "source": [
    "file1.read()"
   ]
  },
  {
   "cell_type": "code",
   "execution_count": 89,
   "id": "2f49655b",
   "metadata": {},
   "outputs": [
    {
     "data": {
      "text/plain": [
       "0"
      ]
     },
     "execution_count": 89,
     "metadata": {},
     "output_type": "execute_result"
    }
   ],
   "source": [
    "file1.seek(0)"
   ]
  },
  {
   "cell_type": "code",
   "execution_count": 90,
   "id": "14007793",
   "metadata": {},
   "outputs": [
    {
     "data": {
      "text/plain": [
       "['Sample file creation\\n',\n",
       " 'second line\\n',\n",
       " 'gist\\n',\n",
       " 'paragraph And phrases \\n']"
      ]
     },
     "execution_count": 90,
     "metadata": {},
     "output_type": "execute_result"
    }
   ],
   "source": [
    "file1.readlines()"
   ]
  },
  {
   "cell_type": "code",
   "execution_count": 102,
   "id": "1558fa31",
   "metadata": {},
   "outputs": [
    {
     "data": {
      "text/plain": [
       "0"
      ]
     },
     "execution_count": 102,
     "metadata": {},
     "output_type": "execute_result"
    }
   ],
   "source": [
    "file1.seek(0)"
   ]
  },
  {
   "cell_type": "code",
   "execution_count": 106,
   "id": "38cd6aa6",
   "metadata": {},
   "outputs": [],
   "source": [
    "with open('file2.txt',mode = 'w') as f:\n",
    "    f.write('writing method')"
   ]
  },
  {
   "cell_type": "code",
   "execution_count": 108,
   "id": "bf1b5ef4",
   "metadata": {},
   "outputs": [
    {
     "name": "stdout",
     "output_type": "stream",
     "text": [
      "writing method\n"
     ]
    }
   ],
   "source": [
    "with open('file2.txt',mode = 'r') as f:\n",
    "    print(f.read())"
   ]
  },
  {
   "cell_type": "markdown",
   "id": "c67924cc",
   "metadata": {},
   "source": [
    "Comparison oprs"
   ]
  },
  {
   "cell_type": "code",
   "execution_count": 109,
   "id": "758faae5",
   "metadata": {},
   "outputs": [
    {
     "data": {
      "text/plain": [
       "False"
      ]
     },
     "execution_count": 109,
     "metadata": {},
     "output_type": "execute_result"
    }
   ],
   "source": [
    "1 == 2"
   ]
  },
  {
   "cell_type": "code",
   "execution_count": 110,
   "id": "043fc9e9",
   "metadata": {},
   "outputs": [
    {
     "data": {
      "text/plain": [
       "False"
      ]
     },
     "execution_count": 110,
     "metadata": {},
     "output_type": "execute_result"
    }
   ],
   "source": [
    "'one' == 'One'"
   ]
  },
  {
   "cell_type": "code",
   "execution_count": 111,
   "id": "0e4514bb",
   "metadata": {},
   "outputs": [
    {
     "data": {
      "text/plain": [
       "True"
      ]
     },
     "execution_count": 111,
     "metadata": {},
     "output_type": "execute_result"
    }
   ],
   "source": [
    "3 > 2"
   ]
  },
  {
   "cell_type": "code",
   "execution_count": 112,
   "id": "e7dd6752",
   "metadata": {},
   "outputs": [
    {
     "data": {
      "text/plain": [
       "False"
      ]
     },
     "execution_count": 112,
     "metadata": {},
     "output_type": "execute_result"
    }
   ],
   "source": [
    "'2' == 2"
   ]
  },
  {
   "cell_type": "code",
   "execution_count": 113,
   "id": "3cbf0c38",
   "metadata": {},
   "outputs": [
    {
     "data": {
      "text/plain": [
       "False"
      ]
     },
     "execution_count": 113,
     "metadata": {},
     "output_type": "execute_result"
    }
   ],
   "source": [
    "5 > 60"
   ]
  },
  {
   "cell_type": "code",
   "execution_count": 114,
   "id": "4f6d0bb8",
   "metadata": {},
   "outputs": [
    {
     "data": {
      "text/plain": [
       "True"
      ]
     },
     "execution_count": 114,
     "metadata": {},
     "output_type": "execute_result"
    }
   ],
   "source": [
    "1 != 4"
   ]
  },
  {
   "cell_type": "markdown",
   "id": "bebf33fd",
   "metadata": {},
   "source": [
    "Lofical operators"
   ]
  },
  {
   "cell_type": "code",
   "execution_count": 115,
   "id": "c1825210",
   "metadata": {},
   "outputs": [
    {
     "data": {
      "text/plain": [
       "True"
      ]
     },
     "execution_count": 115,
     "metadata": {},
     "output_type": "execute_result"
    }
   ],
   "source": [
    "1 == 1 or 2 > 7"
   ]
  },
  {
   "cell_type": "code",
   "execution_count": 116,
   "id": "c95b4c0d",
   "metadata": {},
   "outputs": [
    {
     "data": {
      "text/plain": [
       "False"
      ]
     },
     "execution_count": 116,
     "metadata": {},
     "output_type": "execute_result"
    }
   ],
   "source": [
    "1 == 1 and 2 > 7"
   ]
  },
  {
   "cell_type": "code",
   "execution_count": 117,
   "id": "45cc9b10",
   "metadata": {},
   "outputs": [
    {
     "data": {
      "text/plain": [
       "False"
      ]
     },
     "execution_count": 117,
     "metadata": {},
     "output_type": "execute_result"
    }
   ],
   "source": [
    "not 2 == 2"
   ]
  },
  {
   "cell_type": "code",
   "execution_count": 118,
   "id": "b9aca7ae",
   "metadata": {},
   "outputs": [
    {
     "data": {
      "text/plain": [
       "True"
      ]
     },
     "execution_count": 118,
     "metadata": {},
     "output_type": "execute_result"
    }
   ],
   "source": [
    "2 <= 3 >= 1"
   ]
  },
  {
   "cell_type": "markdown",
   "id": "542fc530",
   "metadata": {},
   "source": [
    "If Elif Else"
   ]
  },
  {
   "cell_type": "markdown",
   "id": "dd29d90c",
   "metadata": {},
   "source": [
    "thirsty = True\n",
    "if thirsty:\n",
    "    print(\"Gimme water\")\n",
    "else:\n",
    "    print(\"I'm not thirsty\")"
   ]
  },
  {
   "cell_type": "code",
   "execution_count": 2,
   "id": "e11c76cd",
   "metadata": {},
   "outputs": [
    {
     "name": "stdout",
     "output_type": "stream",
     "text": [
      "I'm not thirsty\n"
     ]
    }
   ],
   "source": [
    "thirsty = False\n",
    "if thirsty:\n",
    "    print(\"Gimme water\")\n",
    "else:\n",
    "    print(\"I'm not thirsty\")"
   ]
  },
  {
   "cell_type": "code",
   "execution_count": 3,
   "id": "c5e0ccf1",
   "metadata": {},
   "outputs": [
    {
     "name": "stdout",
     "output_type": "stream",
     "text": [
      "Its sunny\n"
     ]
    }
   ],
   "source": [
    "weather = 'sunny'\n",
    "if weather == 'sunny':\n",
    "    print(\"Its sunny\")\n",
    "elif weather == 'cloudy':\n",
    "    print(\"Its cloudy\")\n",
    "elif weather == 'snowy':\n",
    "    print(\"winter is coming\")\n",
    "else:\n",
    "    print(\"Just a normal day\")\n"
   ]
  },
  {
   "cell_type": "code",
   "execution_count": 4,
   "id": "9aa0a218",
   "metadata": {},
   "outputs": [
    {
     "name": "stdout",
     "output_type": "stream",
     "text": [
      "winter is coming\n"
     ]
    }
   ],
   "source": [
    "weather = 'snowy'\n",
    "if weather == 'sunny':\n",
    "    print(\"Its sunny\")\n",
    "elif weather == 'cloudy':\n",
    "    print(\"Its cloudy\")\n",
    "elif weather == 'snowy':\n",
    "    print(\"winter is coming\")\n",
    "else:\n",
    "    print(\"Just a normal day\")\n"
   ]
  },
  {
   "cell_type": "code",
   "execution_count": 5,
   "id": "8d3da41c",
   "metadata": {},
   "outputs": [
    {
     "name": "stdout",
     "output_type": "stream",
     "text": [
      "Its cloudy\n"
     ]
    }
   ],
   "source": [
    "weather = 'cloudy'\n",
    "if weather == 'sunny':\n",
    "    print(\"Its sunny\")\n",
    "elif weather == 'cloudy':\n",
    "    print(\"Its cloudy\")\n",
    "elif weather == 'snowy':\n",
    "    print(\"winter is coming\")\n",
    "else:\n",
    "    print(\"Just a normal day\")\n"
   ]
  },
  {
   "cell_type": "code",
   "execution_count": 6,
   "id": "7ec3b916",
   "metadata": {},
   "outputs": [
    {
     "name": "stdout",
     "output_type": "stream",
     "text": [
      "Just a normal day\n"
     ]
    }
   ],
   "source": [
    "weather = 'abc'\n",
    "if weather == 'sunny':\n",
    "    print(\"Its sunny\")\n",
    "elif weather == 'cloudy':\n",
    "    print(\"Its cloudy\")\n",
    "elif weather == 'snowy':\n",
    "    print(\"winter is coming\")\n",
    "else:\n",
    "    print(\"Just a normal day\")\n"
   ]
  },
  {
   "cell_type": "markdown",
   "id": "f1297686",
   "metadata": {},
   "source": [
    "For loops"
   ]
  },
  {
   "cell_type": "code",
   "execution_count": 7,
   "id": "a56a296c",
   "metadata": {},
   "outputs": [
    {
     "name": "stdout",
     "output_type": "stream",
     "text": [
      "red\n",
      "blue\n",
      "green\n",
      "black\n"
     ]
    }
   ],
   "source": [
    "colors = ['red','blue','green','black']\n",
    "for color in colors:\n",
    "    print(color)"
   ]
  },
  {
   "cell_type": "code",
   "execution_count": 8,
   "id": "a12cca0e",
   "metadata": {},
   "outputs": [
    {
     "name": "stdout",
     "output_type": "stream",
     "text": [
      "The even number 2\n",
      "The even number 4\n",
      "The even number 6\n",
      "The even number 8\n",
      "The even number 10\n"
     ]
    }
   ],
   "source": [
    "num = [1,2,3,4,5,6,7,8,9,10]\n",
    "for n in num: #print even num\n",
    "    if n % 2 == 0:\n",
    "        print(f'The even number {n}')"
   ]
  },
  {
   "cell_type": "code",
   "execution_count": 10,
   "id": "48c92c72",
   "metadata": {},
   "outputs": [
    {
     "name": "stdout",
     "output_type": "stream",
     "text": [
      "hello\n",
      "hello\n",
      "hello\n",
      "hello\n",
      "hello\n"
     ]
    }
   ],
   "source": [
    "for l in 'words':\n",
    "    print('hello')"
   ]
  },
  {
   "cell_type": "code",
   "execution_count": 11,
   "id": "04dbde6c",
   "metadata": {},
   "outputs": [
    {
     "name": "stdout",
     "output_type": "stream",
     "text": [
      "1\n",
      "2\n",
      "3\n"
     ]
    }
   ],
   "source": [
    "t = (1,2,3)          \n",
    "for n in t:\n",
    "    print(n)"
   ]
  },
  {
   "cell_type": "markdown",
   "id": "0b1d0c03",
   "metadata": {},
   "source": [
    "Tuple unpacking"
   ]
  },
  {
   "cell_type": "code",
   "execution_count": 13,
   "id": "6be02836",
   "metadata": {},
   "outputs": [
    {
     "name": "stdout",
     "output_type": "stream",
     "text": [
      "1\n",
      "2\n",
      "3\n",
      "4\n",
      "5\n",
      "6\n",
      "7\n",
      "8\n"
     ]
    }
   ],
   "source": [
    "list_1 = [(1,2),(3,4),(5,6),(7,8)]\n",
    "for (a,b) in list_1:\n",
    "    print(a)\n",
    "    print(b)"
   ]
  },
  {
   "cell_type": "code",
   "execution_count": 14,
   "id": "9982ff49",
   "metadata": {},
   "outputs": [
    {
     "name": "stdout",
     "output_type": "stream",
     "text": [
      "1\n",
      "3\n",
      "5\n",
      "7\n"
     ]
    }
   ],
   "source": [
    "list_1 = [(1,2),(3,4),(5,6),(7,8)]\n",
    "for a,b in list_1:\n",
    "    print(a)\n",
    "    "
   ]
  },
  {
   "cell_type": "code",
   "execution_count": 15,
   "id": "1f7f0d79",
   "metadata": {},
   "outputs": [
    {
     "name": "stdout",
     "output_type": "stream",
     "text": [
      "2\n",
      "4\n",
      "6\n",
      "8\n"
     ]
    }
   ],
   "source": [
    "list_1 = [(1,2),(3,4),(5,6),(7,8)]\n",
    "for a,b in list_1:\n",
    "    print(b)"
   ]
  },
  {
   "cell_type": "code",
   "execution_count": 16,
   "id": "2b86ce1d",
   "metadata": {},
   "outputs": [
    {
     "name": "stdout",
     "output_type": "stream",
     "text": [
      "1\n",
      "2\n",
      "3\n"
     ]
    }
   ],
   "source": [
    "dic = {1:'one',2:'two',3:'three'}\n",
    "for i in dic:         #returns key\n",
    "    print(i)"
   ]
  },
  {
   "cell_type": "code",
   "execution_count": 17,
   "id": "00b19068",
   "metadata": {},
   "outputs": [
    {
     "name": "stdout",
     "output_type": "stream",
     "text": [
      "(1, 'one')\n",
      "(2, 'two')\n",
      "(3, 'three')\n"
     ]
    }
   ],
   "source": [
    "dic = {1:'one',2:'two',3:'three'}\n",
    "for i in dic.items():         #returns key and value\n",
    "    print(i)"
   ]
  },
  {
   "cell_type": "code",
   "execution_count": 19,
   "id": "a18e843e",
   "metadata": {},
   "outputs": [
    {
     "name": "stdout",
     "output_type": "stream",
     "text": [
      "one\n",
      "two\n",
      "three\n"
     ]
    }
   ],
   "source": [
    "dic = {1:'one',2:'two',3:'three'}\n",
    "for value in dic.values():        \n",
    "    print(value)"
   ]
  },
  {
   "cell_type": "markdown",
   "id": "a07db545",
   "metadata": {},
   "source": [
    "while loops"
   ]
  },
  {
   "cell_type": "code",
   "execution_count": 20,
   "id": "3148121c",
   "metadata": {},
   "outputs": [
    {
     "name": "stdout",
     "output_type": "stream",
     "text": [
      "The value of x is 0\n",
      "The value of x is 1\n",
      "The value of x is 2\n",
      "The value of x is 3\n",
      "The value of x is 4\n",
      "The value of x is 5\n",
      "The value of x is 6\n"
     ]
    }
   ],
   "source": [
    "x = 0\n",
    "while x < 7:\n",
    "    print(f'The value of x is {x}')\n",
    "    x+=1"
   ]
  },
  {
   "cell_type": "code",
   "execution_count": 21,
   "id": "1c1d8dc8",
   "metadata": {},
   "outputs": [
    {
     "name": "stdout",
     "output_type": "stream",
     "text": [
      "C\n",
      "h\n",
      "r\n",
      "s\n"
     ]
    }
   ],
   "source": [
    "name  = 'Chris'           #using continue\n",
    "for ltr in name:\n",
    "    if ltr == 'i':        #exclude i and print the rest    \n",
    "        continue\n",
    "    print(ltr)"
   ]
  },
  {
   "cell_type": "code",
   "execution_count": 22,
   "id": "4709e488",
   "metadata": {},
   "outputs": [
    {
     "name": "stdout",
     "output_type": "stream",
     "text": [
      "C\n",
      "h\n",
      "r\n"
     ]
    }
   ],
   "source": [
    "name  = 'Chris'           #using break\n",
    "for ltr in name:\n",
    "    if ltr == 'i':        #loop occurs till that item    \n",
    "        break\n",
    "    print(ltr)"
   ]
  },
  {
   "cell_type": "code",
   "execution_count": 23,
   "id": "24a2e7b7",
   "metadata": {},
   "outputs": [
    {
     "name": "stdout",
     "output_type": "stream",
     "text": [
      "0\n",
      "1\n",
      "2\n"
     ]
    }
   ],
   "source": [
    "a = 0\n",
    "while a < 5:\n",
    "    if a == 3:\n",
    "        break\n",
    "    print(a)\n",
    "    a +=1\n",
    "    "
   ]
  },
  {
   "cell_type": "markdown",
   "id": "7981f64d",
   "metadata": {},
   "source": [
    "*some* useful oprs"
   ]
  },
  {
   "cell_type": "markdown",
   "id": "19c5db7a",
   "metadata": {},
   "source": [
    "range function"
   ]
  },
  {
   "cell_type": "code",
   "execution_count": 24,
   "id": "10ff1a6e",
   "metadata": {},
   "outputs": [
    {
     "name": "stdout",
     "output_type": "stream",
     "text": [
      "0\n",
      "1\n",
      "2\n",
      "3\n",
      "4\n",
      "5\n"
     ]
    }
   ],
   "source": [
    "for i in range(0,6):\n",
    "    print(i)"
   ]
  },
  {
   "cell_type": "code",
   "execution_count": 25,
   "id": "058671cb",
   "metadata": {},
   "outputs": [
    {
     "name": "stdout",
     "output_type": "stream",
     "text": [
      "0\n",
      "3\n",
      "6\n",
      "9\n",
      "12\n",
      "15\n"
     ]
    }
   ],
   "source": [
    "for i in range(0,18,3): #using start | stop | step\n",
    "    print(i)"
   ]
  },
  {
   "cell_type": "code",
   "execution_count": 26,
   "id": "768bcb00",
   "metadata": {},
   "outputs": [
    {
     "data": {
      "text/plain": [
       "[0, 2, 4, 6, 8, 10]"
      ]
     },
     "execution_count": 26,
     "metadata": {},
     "output_type": "execute_result"
    }
   ],
   "source": [
    "list(range(0,11,2))"
   ]
  },
  {
   "cell_type": "markdown",
   "id": "9e86447d",
   "metadata": {},
   "source": [
    "enumerete function #prints with index value"
   ]
  },
  {
   "cell_type": "code",
   "execution_count": 27,
   "id": "96e18bea",
   "metadata": {},
   "outputs": [
    {
     "name": "stdout",
     "output_type": "stream",
     "text": [
      "(0, 'a')\n",
      "(1, 'e')\n",
      "(2, 'i')\n",
      "(3, 'o')\n",
      "(4, 'u')\n"
     ]
    }
   ],
   "source": [
    "word = 'aeiou'\n",
    "for letter in enumerate(word):\n",
    "    print(letter)"
   ]
  },
  {
   "cell_type": "code",
   "execution_count": 28,
   "id": "9ca73cb7",
   "metadata": {},
   "outputs": [
    {
     "name": "stdout",
     "output_type": "stream",
     "text": [
      "0\n",
      "a\n",
      "\n",
      "\n",
      "1\n",
      "e\n",
      "\n",
      "\n",
      "2\n",
      "i\n",
      "\n",
      "\n",
      "3\n",
      "o\n",
      "\n",
      "\n",
      "4\n",
      "u\n",
      "\n",
      "\n"
     ]
    }
   ],
   "source": [
    "word = 'aeiou'\n",
    "for index,letter in enumerate(word):\n",
    "    print(index)\n",
    "    print(letter)\n",
    "    print('\\n')"
   ]
  },
  {
   "cell_type": "markdown",
   "id": "1bb16279",
   "metadata": {},
   "source": [
    "Zip function #pairs up list"
   ]
  },
  {
   "cell_type": "code",
   "execution_count": 29,
   "id": "937dcdde",
   "metadata": {},
   "outputs": [
    {
     "name": "stdout",
     "output_type": "stream",
     "text": [
      "(1, 'a', 0.1)\n",
      "(2, 'b', 0.2)\n",
      "(3, 'c', 0.3)\n"
     ]
    }
   ],
   "source": [
    "list1 = [1,2,3]                             \n",
    "list2 = ['a','b','c']\n",
    "list3=[0.1,0.2,0.3]\n",
    "for item in zip(list1,list2,list3):\n",
    "    print(item)"
   ]
  },
  {
   "cell_type": "code",
   "execution_count": 30,
   "id": "b4fd0209",
   "metadata": {},
   "outputs": [
    {
     "name": "stdout",
     "output_type": "stream",
     "text": [
      "(1, 'a', 0.1)\n",
      "(2, 'b', 0.2)\n",
      "(3, 'c', 0.3)\n"
     ]
    }
   ],
   "source": [
    "list1 = [1,2,3,4,5]                    #doesn't pairup 4,5 since no respective values in other lists          \n",
    "list2 = ['a','b','c']\n",
    "list3=[0.1,0.2,0.3]\n",
    "for item in zip(list1,list2,list3):\n",
    "    print(item)"
   ]
  },
  {
   "cell_type": "code",
   "execution_count": 31,
   "id": "2978b5bb",
   "metadata": {},
   "outputs": [
    {
     "data": {
      "text/plain": [
       "[(1, 'a', 0.1), (2, 'b', 0.2), (3, 'c', 0.3)]"
      ]
     },
     "execution_count": 31,
     "metadata": {},
     "output_type": "execute_result"
    }
   ],
   "source": [
    "list(zip(list1,list2,list3))"
   ]
  },
  {
   "cell_type": "markdown",
   "id": "aa878e14",
   "metadata": {},
   "source": [
    "in opr"
   ]
  },
  {
   "cell_type": "code",
   "execution_count": 32,
   "id": "3f59653b",
   "metadata": {},
   "outputs": [
    {
     "data": {
      "text/plain": [
       "False"
      ]
     },
     "execution_count": 32,
     "metadata": {},
     "output_type": "execute_result"
    }
   ],
   "source": [
    "'x' in ['y','z']"
   ]
  },
  {
   "cell_type": "code",
   "execution_count": 33,
   "id": "9e3fad44",
   "metadata": {},
   "outputs": [
    {
     "data": {
      "text/plain": [
       "True"
      ]
     },
     "execution_count": 33,
     "metadata": {},
     "output_type": "execute_result"
    }
   ],
   "source": [
    "1 in [0,0,1]"
   ]
  },
  {
   "cell_type": "code",
   "execution_count": 35,
   "id": "acb84c52",
   "metadata": {},
   "outputs": [
    {
     "data": {
      "text/plain": [
       "True"
      ]
     },
     "execution_count": 35,
     "metadata": {},
     "output_type": "execute_result"
    }
   ],
   "source": [
    "'s' in 'script'"
   ]
  },
  {
   "cell_type": "code",
   "execution_count": 36,
   "id": "2c7b039b",
   "metadata": {},
   "outputs": [
    {
     "data": {
      "text/plain": [
       "True"
      ]
     },
     "execution_count": 36,
     "metadata": {},
     "output_type": "execute_result"
    }
   ],
   "source": [
    "d = {'k1':123,'k2':'abc'}\n",
    "'k1' in d"
   ]
  },
  {
   "cell_type": "code",
   "execution_count": 37,
   "id": "1b893ce7",
   "metadata": {},
   "outputs": [
    {
     "data": {
      "text/plain": [
       "True"
      ]
     },
     "execution_count": 37,
     "metadata": {},
     "output_type": "execute_result"
    }
   ],
   "source": [
    "123 in d.values()"
   ]
  },
  {
   "cell_type": "markdown",
   "id": "f9ef358e",
   "metadata": {},
   "source": [
    "Math functions"
   ]
  },
  {
   "cell_type": "code",
   "execution_count": 38,
   "id": "726f6751",
   "metadata": {},
   "outputs": [],
   "source": [
    "num = [10,4,78,0,13,45]"
   ]
  },
  {
   "cell_type": "code",
   "execution_count": 39,
   "id": "b30a0889",
   "metadata": {},
   "outputs": [
    {
     "data": {
      "text/plain": [
       "78"
      ]
     },
     "execution_count": 39,
     "metadata": {},
     "output_type": "execute_result"
    }
   ],
   "source": [
    "max(num)"
   ]
  },
  {
   "cell_type": "code",
   "execution_count": 40,
   "id": "073065a7",
   "metadata": {},
   "outputs": [
    {
     "data": {
      "text/plain": [
       "0"
      ]
     },
     "execution_count": 40,
     "metadata": {},
     "output_type": "execute_result"
    }
   ],
   "source": [
    "min(num)"
   ]
  },
  {
   "cell_type": "markdown",
   "id": "b5f118a7",
   "metadata": {},
   "source": [
    "importing a function"
   ]
  },
  {
   "cell_type": "code",
   "execution_count": 41,
   "id": "3724cf9e",
   "metadata": {},
   "outputs": [],
   "source": [
    "from random import shuffle"
   ]
  },
  {
   "cell_type": "code",
   "execution_count": 42,
   "id": "8d429a3d",
   "metadata": {},
   "outputs": [],
   "source": [
    "my_list = [1,2,3,4,5,6,7,8,9,10]"
   ]
  },
  {
   "cell_type": "code",
   "execution_count": 43,
   "id": "4cbc0b68",
   "metadata": {},
   "outputs": [],
   "source": [
    "shuffle(my_list)"
   ]
  },
  {
   "cell_type": "code",
   "execution_count": 44,
   "id": "dd5d4df8",
   "metadata": {},
   "outputs": [
    {
     "data": {
      "text/plain": [
       "[6, 10, 9, 4, 7, 2, 1, 3, 5, 8]"
      ]
     },
     "execution_count": 44,
     "metadata": {},
     "output_type": "execute_result"
    }
   ],
   "source": [
    "my_list"
   ]
  },
  {
   "cell_type": "code",
   "execution_count": 47,
   "id": "9d4370ec",
   "metadata": {},
   "outputs": [],
   "source": [
    "from random import randint"
   ]
  },
  {
   "cell_type": "code",
   "execution_count": 48,
   "id": "0d35a01a",
   "metadata": {},
   "outputs": [
    {
     "data": {
      "text/plain": [
       "3"
      ]
     },
     "execution_count": 48,
     "metadata": {},
     "output_type": "execute_result"
    }
   ],
   "source": [
    "randint(0,50)"
   ]
  },
  {
   "cell_type": "code",
   "execution_count": 49,
   "id": "9b94aa04",
   "metadata": {},
   "outputs": [
    {
     "data": {
      "text/plain": [
       "37"
      ]
     },
     "execution_count": 49,
     "metadata": {},
     "output_type": "execute_result"
    }
   ],
   "source": [
    "randint(0,50)"
   ]
  },
  {
   "cell_type": "markdown",
   "id": "317e249e",
   "metadata": {},
   "source": [
    "user input"
   ]
  },
  {
   "cell_type": "code",
   "execution_count": 50,
   "id": "f4617866",
   "metadata": {},
   "outputs": [
    {
     "name": "stdout",
     "output_type": "stream",
     "text": [
      "what's your name? abc\n"
     ]
    },
    {
     "data": {
      "text/plain": [
       "'abc'"
      ]
     },
     "execution_count": 50,
     "metadata": {},
     "output_type": "execute_result"
    }
   ],
   "source": [
    "input(\"what's your name? \")"
   ]
  },
  {
   "cell_type": "markdown",
   "id": "32eb7269",
   "metadata": {},
   "source": [
    "List comprehension"
   ]
  },
  {
   "cell_type": "code",
   "execution_count": 52,
   "id": "0191a909",
   "metadata": {},
   "outputs": [],
   "source": [
    "my_str = 'Hello'       #method 1\n",
    "my_list = []\n",
    "for ltr in my_str:\n",
    "    my_list.append(ltr)"
   ]
  },
  {
   "cell_type": "code",
   "execution_count": 53,
   "id": "11bbc634",
   "metadata": {},
   "outputs": [
    {
     "data": {
      "text/plain": [
       "['H', 'e', 'l', 'l', 'o']"
      ]
     },
     "execution_count": 53,
     "metadata": {},
     "output_type": "execute_result"
    }
   ],
   "source": [
    "my_list"
   ]
  },
  {
   "cell_type": "code",
   "execution_count": 54,
   "id": "afdcf994",
   "metadata": {},
   "outputs": [],
   "source": [
    "str1 = 'hello'                   #method2\n",
    "lst1 = [ltr for ltr in str1 ]"
   ]
  },
  {
   "cell_type": "code",
   "execution_count": 55,
   "id": "8d8f9c2d",
   "metadata": {},
   "outputs": [
    {
     "data": {
      "text/plain": [
       "['h', 'e', 'l', 'l', 'o']"
      ]
     },
     "execution_count": 55,
     "metadata": {},
     "output_type": "execute_result"
    }
   ],
   "source": [
    "lst1"
   ]
  },
  {
   "cell_type": "code",
   "execution_count": 56,
   "id": "5cd7cf30",
   "metadata": {},
   "outputs": [],
   "source": [
    "lt = [lr for lr in 'new list']       #method 3"
   ]
  },
  {
   "cell_type": "code",
   "execution_count": 57,
   "id": "77d320ed",
   "metadata": {},
   "outputs": [
    {
     "data": {
      "text/plain": [
       "['n', 'e', 'w', ' ', 'l', 'i', 's', 't']"
      ]
     },
     "execution_count": 57,
     "metadata": {},
     "output_type": "execute_result"
    }
   ],
   "source": [
    "lt"
   ]
  },
  {
   "cell_type": "code",
   "execution_count": 58,
   "id": "4f242f9a",
   "metadata": {},
   "outputs": [],
   "source": [
    "num = [num for num in range(0,11)]"
   ]
  },
  {
   "cell_type": "code",
   "execution_count": 59,
   "id": "c37d21cb",
   "metadata": {},
   "outputs": [
    {
     "data": {
      "text/plain": [
       "[0, 1, 2, 3, 4, 5, 6, 7, 8, 9, 10]"
      ]
     },
     "execution_count": 59,
     "metadata": {},
     "output_type": "execute_result"
    }
   ],
   "source": [
    "num"
   ]
  },
  {
   "cell_type": "code",
   "execution_count": 60,
   "id": "840b6a66",
   "metadata": {},
   "outputs": [],
   "source": [
    "num = [num**2 for num in range(0,11)]"
   ]
  },
  {
   "cell_type": "code",
   "execution_count": 61,
   "id": "2b5b947d",
   "metadata": {},
   "outputs": [
    {
     "data": {
      "text/plain": [
       "[0, 1, 4, 9, 16, 25, 36, 49, 64, 81, 100]"
      ]
     },
     "execution_count": 61,
     "metadata": {},
     "output_type": "execute_result"
    }
   ],
   "source": [
    "num"
   ]
  },
  {
   "cell_type": "code",
   "execution_count": 64,
   "id": "093168d7",
   "metadata": {},
   "outputs": [],
   "source": [
    "cel = [0,3,45,32.5]\n",
    "far = [((9/5)*temp + 32) for temp in cel]"
   ]
  },
  {
   "cell_type": "code",
   "execution_count": 65,
   "id": "307379bf",
   "metadata": {},
   "outputs": [
    {
     "data": {
      "text/plain": [
       "[32.0, 37.4, 113.0, 90.5]"
      ]
     },
     "execution_count": 65,
     "metadata": {},
     "output_type": "execute_result"
    }
   ],
   "source": [
    "far"
   ]
  },
  {
   "cell_type": "code",
   "execution_count": 66,
   "id": "ba7357e1",
   "metadata": {},
   "outputs": [],
   "source": [
    "list2 = []\n",
    "for x in (1,2,3):\n",
    "    for y in (10,100,1000):\n",
    "        list2.append(x * y)"
   ]
  },
  {
   "cell_type": "code",
   "execution_count": 67,
   "id": "8810415e",
   "metadata": {},
   "outputs": [
    {
     "data": {
      "text/plain": [
       "[10, 100, 1000, 20, 200, 2000, 30, 300, 3000]"
      ]
     },
     "execution_count": 67,
     "metadata": {},
     "output_type": "execute_result"
    }
   ],
   "source": [
    "list2"
   ]
  },
  {
   "cell_type": "markdown",
   "id": "7c00d26b",
   "metadata": {},
   "source": [
    "Methods and functios"
   ]
  },
  {
   "cell_type": "markdown",
   "id": "6639884d",
   "metadata": {},
   "source": [
    "def function"
   ]
  },
  {
   "cell_type": "code",
   "execution_count": 68,
   "id": "ea24f33c",
   "metadata": {},
   "outputs": [],
   "source": [
    "def say_hello():\n",
    "    print(\"Hello!\")"
   ]
  },
  {
   "cell_type": "code",
   "execution_count": 69,
   "id": "bfc3c81d",
   "metadata": {},
   "outputs": [
    {
     "name": "stdout",
     "output_type": "stream",
     "text": [
      "Hello!\n"
     ]
    }
   ],
   "source": [
    "say_hello()"
   ]
  },
  {
   "cell_type": "code",
   "execution_count": 70,
   "id": "b2ca2003",
   "metadata": {},
   "outputs": [],
   "source": [
    "def say_hello(name):\n",
    "    print(f'Hello {name}')\n",
    "    "
   ]
  },
  {
   "cell_type": "code",
   "execution_count": 71,
   "id": "57fe2916",
   "metadata": {},
   "outputs": [
    {
     "name": "stdout",
     "output_type": "stream",
     "text": [
      "Hello Joe\n"
     ]
    }
   ],
   "source": [
    "say_hello('Joe')"
   ]
  },
  {
   "cell_type": "code",
   "execution_count": 72,
   "id": "d8d118d3",
   "metadata": {},
   "outputs": [],
   "source": [
    "def say_hello(name='Default'):\n",
    "    print(f'Hello {name}')\n",
    "    "
   ]
  },
  {
   "cell_type": "code",
   "execution_count": 73,
   "id": "fb321fa6",
   "metadata": {},
   "outputs": [
    {
     "name": "stdout",
     "output_type": "stream",
     "text": [
      "Hello Default\n"
     ]
    }
   ],
   "source": [
    "say_hello()         #using '' whatever to prevent error "
   ]
  },
  {
   "cell_type": "markdown",
   "id": "2a09d0e4",
   "metadata": {},
   "source": [
    "Using return"
   ]
  },
  {
   "cell_type": "code",
   "execution_count": 74,
   "id": "adb35494",
   "metadata": {},
   "outputs": [],
   "source": [
    "def add_num(num1,num2):\n",
    "    return num1+num2                  #return holds the o.p value whereas print func only prints the output"
   ]
  },
  {
   "cell_type": "code",
   "execution_count": 75,
   "id": "a8270fe9",
   "metadata": {},
   "outputs": [
    {
     "data": {
      "text/plain": [
       "18"
      ]
     },
     "execution_count": 75,
     "metadata": {},
     "output_type": "execute_result"
    }
   ],
   "source": [
    "add_num(10,8)"
   ]
  },
  {
   "cell_type": "markdown",
   "id": "7760f811",
   "metadata": {},
   "source": [
    "Logic with python func"
   ]
  },
  {
   "cell_type": "code",
   "execution_count": 76,
   "id": "3ab56408",
   "metadata": {},
   "outputs": [],
   "source": [
    "def even_chk(number):\n",
    "    return number % 2 == 0"
   ]
  },
  {
   "cell_type": "code",
   "execution_count": 77,
   "id": "37aae558",
   "metadata": {},
   "outputs": [
    {
     "data": {
      "text/plain": [
       "True"
      ]
     },
     "execution_count": 77,
     "metadata": {},
     "output_type": "execute_result"
    }
   ],
   "source": [
    "even_chk(10)"
   ]
  },
  {
   "cell_type": "code",
   "execution_count": 78,
   "id": "10798ff6",
   "metadata": {},
   "outputs": [
    {
     "data": {
      "text/plain": [
       "False"
      ]
     },
     "execution_count": 78,
     "metadata": {},
     "output_type": "execute_result"
    }
   ],
   "source": [
    "even_chk(33)"
   ]
  },
  {
   "cell_type": "markdown",
   "id": "0d8c5aba",
   "metadata": {},
   "source": [
    "using list"
   ]
  },
  {
   "cell_type": "code",
   "execution_count": 80,
   "id": "7374f13b",
   "metadata": {},
   "outputs": [],
   "source": [
    "def chk_list(num_list):\n",
    "    for num in num_list:\n",
    "        if num % 2 == 0:\n",
    "            return True             #if we use False here it won't chk for entire elements in the list\n",
    "        else:\n",
    "            pass\n",
    "    return False                 #chks every element"
   ]
  },
  {
   "cell_type": "code",
   "execution_count": 81,
   "id": "05ff2c70",
   "metadata": {},
   "outputs": [
    {
     "data": {
      "text/plain": [
       "True"
      ]
     },
     "execution_count": 81,
     "metadata": {},
     "output_type": "execute_result"
    }
   ],
   "source": [
    "chk_list([1,2,3])"
   ]
  },
  {
   "cell_type": "code",
   "execution_count": 82,
   "id": "7e3112d0",
   "metadata": {},
   "outputs": [
    {
     "data": {
      "text/plain": [
       "False"
      ]
     },
     "execution_count": 82,
     "metadata": {},
     "output_type": "execute_result"
    }
   ],
   "source": [
    "chk_list([1,3,5])"
   ]
  },
  {
   "cell_type": "code",
   "execution_count": 83,
   "id": "130e33a7",
   "metadata": {},
   "outputs": [],
   "source": [
    "def chk_list(num_list):                   \n",
    "    my_list = []        \n",
    "    \n",
    "    for num in num_list:\n",
    "        if num % 2 == 0:\n",
    "            my_list.append(num)\n",
    "        else:\n",
    "            pass\n",
    "    return my_list"
   ]
  },
  {
   "cell_type": "code",
   "execution_count": 84,
   "id": "97dd7c7f",
   "metadata": {},
   "outputs": [
    {
     "data": {
      "text/plain": [
       "[2, 4, 6, 8, 0]"
      ]
     },
     "execution_count": 84,
     "metadata": {},
     "output_type": "execute_result"
    }
   ],
   "source": [
    "chk_list([2,3,4,5,6,7,8,9,0])"
   ]
  },
  {
   "cell_type": "markdown",
   "id": "dd8a88f8",
   "metadata": {},
   "source": [
    "Tuples unpacking with functions"
   ]
  },
  {
   "cell_type": "code",
   "execution_count": 91,
   "id": "9dca83bc",
   "metadata": {},
   "outputs": [],
   "source": [
    "emp_det = [('Adam',500),('chad',900),('Dante',800)]"
   ]
  },
  {
   "cell_type": "code",
   "execution_count": 96,
   "id": "4b2583f9",
   "metadata": {},
   "outputs": [],
   "source": [
    "\n",
    "def top_perf(emp_det):\n",
    "    employee_top = ' '\n",
    "    current_max = 0\n",
    "    for employee,hours in emp_det:\n",
    "        if hours > current_max:\n",
    "            current_max = hours\n",
    "            employee_top = employee\n",
    "        else:\n",
    "            pass\n",
    "        \n",
    "        \n",
    "    return(employee_top,current_max)\n",
    "        "
   ]
  },
  {
   "cell_type": "code",
   "execution_count": 97,
   "id": "456f55b5",
   "metadata": {},
   "outputs": [
    {
     "data": {
      "text/plain": [
       "('chad', 900)"
      ]
     },
     "execution_count": 97,
     "metadata": {},
     "output_type": "execute_result"
    }
   ],
   "source": [
    "top_perf(emp_det)"
   ]
  },
  {
   "cell_type": "markdown",
   "id": "fef9f7f5",
   "metadata": {},
   "source": [
    "Guessing Game using function"
   ]
  },
  {
   "cell_type": "code",
   "execution_count": 98,
   "id": "cba1800a",
   "metadata": {},
   "outputs": [],
   "source": [
    "from random import shuffle\n",
    "list1 = ['','','O']\n",
    "def shuffle_list(list1):\n",
    "    shuffle(list1)\n",
    "    return list1\n"
   ]
  },
  {
   "cell_type": "code",
   "execution_count": 99,
   "id": "5e151061",
   "metadata": {},
   "outputs": [
    {
     "data": {
      "text/plain": [
       "['O', '', '']"
      ]
     },
     "execution_count": 99,
     "metadata": {},
     "output_type": "execute_result"
    }
   ],
   "source": [
    "shuffle_list(list1)"
   ]
  },
  {
   "cell_type": "code",
   "execution_count": 100,
   "id": "d65bfbcd",
   "metadata": {},
   "outputs": [],
   "source": [
    "def player_guess():\n",
    "    guess = ''\n",
    "    while guess not in ['0','1','2']:\n",
    "        guess = input(\"Pick a num : 0, 1, 2 \")\n",
    "        \n",
    "    return int(guess)"
   ]
  },
  {
   "cell_type": "code",
   "execution_count": 101,
   "id": "9899e1eb",
   "metadata": {},
   "outputs": [
    {
     "name": "stdout",
     "output_type": "stream",
     "text": [
      "Pick a num : 0, 1, 2 2\n"
     ]
    },
    {
     "data": {
      "text/plain": [
       "2"
      ]
     },
     "execution_count": 101,
     "metadata": {},
     "output_type": "execute_result"
    }
   ],
   "source": [
    "player_guess()"
   ]
  },
  {
   "cell_type": "code",
   "execution_count": 102,
   "id": "2ace71d7",
   "metadata": {},
   "outputs": [
    {
     "name": "stdout",
     "output_type": "stream",
     "text": [
      "Pick a num : 0, 1, 2 2\n"
     ]
    }
   ],
   "source": [
    "my_index = player_guess()"
   ]
  },
  {
   "cell_type": "code",
   "execution_count": 103,
   "id": "7aca6cf1",
   "metadata": {},
   "outputs": [],
   "source": [
    "def chk_guess(list1,guess):\n",
    "    if list1[guess] == 'O':\n",
    "        print(\"Guessed !\")\n",
    "    else:\n",
    "        print(\"Oops! \")\n",
    "        print(list1)"
   ]
  },
  {
   "cell_type": "code",
   "execution_count": 104,
   "id": "35a39dd2",
   "metadata": {},
   "outputs": [
    {
     "name": "stdout",
     "output_type": "stream",
     "text": [
      "Pick a num : 0, 1, 2 1\n",
      "Oops! \n",
      "['O', '', '']\n"
     ]
    }
   ],
   "source": [
    "list1 = ['','','O']                #getting a list\n",
    "shuffled_list = shuffle_list(list1)     #shuffling\n",
    "guess= player_guess()                        #player guesses\n",
    "chk_guess(list1,guess)                  #chk actual position and guesses position"
   ]
  }
 ],
 "metadata": {
  "kernelspec": {
   "display_name": "Python 3",
   "language": "python",
   "name": "python3"
  },
  "language_info": {
   "codemirror_mode": {
    "name": "ipython",
    "version": 3
   },
   "file_extension": ".py",
   "mimetype": "text/x-python",
   "name": "python",
   "nbconvert_exporter": "python",
   "pygments_lexer": "ipython3",
   "version": "3.8.8"
  }
 },
 "nbformat": 4,
 "nbformat_minor": 5
}
